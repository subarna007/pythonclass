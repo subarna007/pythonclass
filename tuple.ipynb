{
  "cells": [
    {
      "cell_type": "markdown",
      "metadata": {
        "id": "view-in-github",
        "colab_type": "text"
      },
      "source": [
        "<a href=\"https://colab.research.google.com/github/subarna007/pythonclass/blob/main/tuple.ipynb\" target=\"_parent\"><img src=\"https://colab.research.google.com/assets/colab-badge.svg\" alt=\"Open In Colab\"/></a>"
      ]
    },
    {
      "cell_type": "code",
      "execution_count": null,
      "id": "310ac717",
      "metadata": {
        "id": "310ac717"
      },
      "outputs": [],
      "source": [
        "# Tuple\n",
        "# -Indexing\n",
        "# -Ordered\n",
        "# -Multiple and duplicate data\n",
        "# -Imutable"
      ]
    },
    {
      "cell_type": "code",
      "execution_count": null,
      "id": "8df310e3",
      "metadata": {
        "id": "8df310e3"
      },
      "outputs": [],
      "source": [
        "t= tuple()"
      ]
    },
    {
      "cell_type": "code",
      "execution_count": null,
      "id": "3d7cdc0f",
      "metadata": {
        "id": "3d7cdc0f",
        "outputId": "8ca20f00-16b2-417e-8be2-d6788e4b1f1b"
      },
      "outputs": [
        {
          "name": "stdout",
          "output_type": "stream",
          "text": [
            "<class 'tuple'>\n"
          ]
        }
      ],
      "source": [
        "t = (1,)\n",
        "print(type(t))"
      ]
    },
    {
      "cell_type": "code",
      "execution_count": null,
      "id": "1e38c1a0",
      "metadata": {
        "id": "1e38c1a0"
      },
      "outputs": [],
      "source": [
        "# No Create (appen(), insert() extend())\n",
        "# No Update (sort())\n",
        "# No Delete (del pop() remove())"
      ]
    },
    {
      "cell_type": "code",
      "execution_count": null,
      "id": "bf346862",
      "metadata": {
        "id": "bf346862",
        "outputId": "4108c711-cee7-49d0-ab03-f4ff96d457d5"
      },
      "outputs": [
        {
          "name": "stdout",
          "output_type": "stream",
          "text": [
            "('Apple', 'Ball', 'Cat', 'Dog', 'Apple')\n",
            "Apple\n"
          ]
        }
      ],
      "source": [
        "t = (\"Apple\",\"Ball\",\"Cat\",\"Dog\",\"Apple\")\n",
        "print(t)\n",
        "print(t[0])"
      ]
    },
    {
      "cell_type": "code",
      "execution_count": null,
      "id": "9b42e6ec",
      "metadata": {
        "id": "9b42e6ec",
        "outputId": "8b18baec-2733-4e35-a1bb-c5d2168cd9e7"
      },
      "outputs": [
        {
          "name": "stdout",
          "output_type": "stream",
          "text": [
            "7568\n",
            "23\n",
            "11836\n"
          ]
        }
      ],
      "source": [
        "a = (234,456,7568,234,567,798,345,768,798,23,45)\n",
        "print(max(a))\n",
        "print(min(a))\n",
        "print(sum(a))"
      ]
    },
    {
      "cell_type": "code",
      "execution_count": null,
      "id": "826362c9",
      "metadata": {
        "id": "826362c9",
        "outputId": "757ce92a-213d-4168-a426-965ec22cc828"
      },
      "outputs": [
        {
          "name": "stdout",
          "output_type": "stream",
          "text": [
            "Yes\n"
          ]
        }
      ],
      "source": [
        "a = ('Apple', 'Ball', 'Cat', 'Dog', 'Apple')\n",
        "if \"Apple\" in a:\n",
        "    print(\"Yes\")"
      ]
    },
    {
      "cell_type": "code",
      "execution_count": null,
      "id": "d12f4733",
      "metadata": {
        "id": "d12f4733",
        "outputId": "1330f705-c4fb-4715-e680-08fce282636c"
      },
      "outputs": [
        {
          "data": {
            "text/plain": [
              "('Apple', 'Ball', 'Cat', 'Dog', 'Apple')"
            ]
          },
          "execution_count": 14,
          "metadata": {},
          "output_type": "execute_result"
        }
      ],
      "source": [
        "a = ('Apple', 'Ball', 'Cat', 'Dog', 'Apple')\n",
        "a.index(\"Apple\")\n",
        "a"
      ]
    },
    {
      "cell_type": "code",
      "execution_count": null,
      "id": "01554a95",
      "metadata": {
        "id": "01554a95",
        "outputId": "45380a96-afb0-4740-f33e-0b54d70f5afb"
      },
      "outputs": [
        {
          "name": "stdout",
          "output_type": "stream",
          "text": [
            "(1, 2, 3, 4, 5, 3, 2, 4, 5, 2)\n"
          ]
        }
      ],
      "source": [
        "a = (1,2,3,4,5)\n",
        "b = (3,2,4,5,2)\n",
        "c = a+b\n",
        "print(c)"
      ]
    },
    {
      "cell_type": "code",
      "execution_count": null,
      "id": "ab255368",
      "metadata": {
        "id": "ab255368",
        "outputId": "c77deb97-76dc-490e-c5bd-10291bcebedb"
      },
      "outputs": [
        {
          "name": "stdout",
          "output_type": "stream",
          "text": [
            "(1, 2, 3, 4, 5, 1, 2, 3, 4, 5)\n"
          ]
        }
      ],
      "source": [
        "a = (1,2,3,4,5)\n",
        "print(a*2)"
      ]
    },
    {
      "cell_type": "code",
      "execution_count": null,
      "id": "d88647f5",
      "metadata": {
        "id": "d88647f5"
      },
      "outputs": [],
      "source": [
        "t = ()\n",
        "n = int(input(\"Enter n = \"))\n",
        "for i in range(n):\n",
        "    x = input(\"Enter x = \")\n",
        "    t = t + (x,)\n",
        "\n",
        "print(t)"
      ]
    },
    {
      "cell_type": "code",
      "execution_count": null,
      "id": "355c0cb4",
      "metadata": {
        "id": "355c0cb4",
        "outputId": "f84fe59a-4c61-4128-ffdf-e00b2c3a2f54"
      },
      "outputs": [
        {
          "data": {
            "text/plain": [
              "('A', 'p', 'p', 'l', 'e')"
            ]
          },
          "execution_count": 18,
          "metadata": {},
          "output_type": "execute_result"
        }
      ],
      "source": [
        "a = \"Apple\"\n",
        "tuple(a)"
      ]
    },
    {
      "cell_type": "code",
      "execution_count": null,
      "id": "d6fe8006",
      "metadata": {
        "id": "d6fe8006",
        "outputId": "0494d0b2-02a6-4139-a43b-3300d5d031b3"
      },
      "outputs": [
        {
          "data": {
            "text/plain": [
              "['A', 'p', 'p', 'l', 'e']"
            ]
          },
          "execution_count": 19,
          "metadata": {},
          "output_type": "execute_result"
        }
      ],
      "source": [
        "list(\"Apple\")"
      ]
    },
    {
      "cell_type": "code",
      "execution_count": null,
      "id": "a85e8348",
      "metadata": {
        "id": "a85e8348",
        "outputId": "effdbdfa-d019-4065-8752-b3427493e494"
      },
      "outputs": [
        {
          "data": {
            "text/plain": [
              "['Apple', 'Ball', 'Cat', 'Dog', 'Apple']"
            ]
          },
          "execution_count": 22,
          "metadata": {},
          "output_type": "execute_result"
        }
      ],
      "source": [
        "a = ('Apple', 'Ball', 'Cat', 'Dog', 'Apple')\n",
        "a = list(a)\n",
        "a"
      ]
    },
    {
      "cell_type": "code",
      "execution_count": null,
      "id": "9de5fc29",
      "metadata": {
        "id": "9de5fc29",
        "outputId": "8a99730c-0cea-40a1-cdcc-21ce85139b81"
      },
      "outputs": [
        {
          "data": {
            "text/plain": [
              "('Ball', 'Cat', 'Dog', 'Apple')"
            ]
          },
          "execution_count": 23,
          "metadata": {},
          "output_type": "execute_result"
        }
      ],
      "source": [
        "del a[0]\n",
        "a = tuple(a)\n",
        "a"
      ]
    },
    {
      "cell_type": "code",
      "execution_count": null,
      "id": "9b10b89a",
      "metadata": {
        "id": "9b10b89a"
      },
      "outputs": [],
      "source": [
        "# tuple inside tuple\n",
        "t = ((1,2,3),\n",
        "    (4,5,6),\n",
        "     (7,8,9))\n",
        "print(t)"
      ]
    },
    {
      "cell_type": "code",
      "execution_count": null,
      "id": "623eb7fb",
      "metadata": {
        "id": "623eb7fb",
        "outputId": "54eb95de-3a5f-4545-daad-e0abb9b3bd7f"
      },
      "outputs": [
        {
          "name": "stdout",
          "output_type": "stream",
          "text": [
            "Enter n = 2\n",
            "Enter name = Ram\n",
            "Enter age = 78\n",
            "Enter add = KAthmandu\n",
            "Enter name = Shyam\n",
            "Enter age = 89\n",
            "Enter add = Bhaktapur\n",
            "(('Ram', 78, 'KAthmandu'), ('Shyam', 89, 'Bhaktapur'))\n"
          ]
        }
      ],
      "source": [
        "#tuple inside tuple\n",
        "info = ()\n",
        "n = int(input(\"Enter n = \"))\n",
        "for i in range(n):\n",
        "    name = input(\"Enter name = \")\n",
        "    age = int(input(\"Enter age = \"))\n",
        "    add = input(\"Enter add = \")\n",
        "    x = (name,age,add)\n",
        "    info = info + (x,)\n",
        "\n",
        "print(info)"
      ]
    },
    {
      "cell_type": "code",
      "execution_count": null,
      "id": "41ef3156",
      "metadata": {
        "id": "41ef3156",
        "outputId": "1378d364-2750-4e95-a701-f65e1f7fe6ff"
      },
      "outputs": [
        {
          "data": {
            "text/plain": [
              "(['Ram', 78, 'KAthmandu'], ['Shyam', 89, 'Bhaktapur'])"
            ]
          },
          "execution_count": 25,
          "metadata": {},
          "output_type": "execute_result"
        }
      ],
      "source": [
        "# list inside tuple\n",
        "t = (['Ram', 78, 'KAthmandu'], ['Shyam', 89, 'Bhaktapur'])\n",
        "t"
      ]
    },
    {
      "cell_type": "code",
      "execution_count": null,
      "id": "8f7a188d",
      "metadata": {
        "id": "8f7a188d",
        "outputId": "78b9ef1f-878a-40bc-bb14-e3796bb1c096"
      },
      "outputs": [
        {
          "data": {
            "text/plain": [
              "['Ram', 78, 'KAthmandu']"
            ]
          },
          "execution_count": 26,
          "metadata": {},
          "output_type": "execute_result"
        }
      ],
      "source": [
        "t[0]"
      ]
    },
    {
      "cell_type": "code",
      "execution_count": null,
      "id": "89c545e4",
      "metadata": {
        "id": "89c545e4",
        "outputId": "f79b93aa-e3e0-47d3-d391-e442d7386cd8"
      },
      "outputs": [
        {
          "data": {
            "text/plain": [
              "[('Ram', 78, 'KAthmandu'), ('Shyam', 89, 'Bhaktapur')]"
            ]
          },
          "execution_count": 27,
          "metadata": {},
          "output_type": "execute_result"
        }
      ],
      "source": [
        "# tuple inside list\n",
        "t = [('Ram', 78, 'KAthmandu'), ('Shyam', 89, 'Bhaktapur')]\n",
        "t"
      ]
    },
    {
      "cell_type": "code",
      "execution_count": null,
      "id": "cf47d6cb",
      "metadata": {
        "id": "cf47d6cb"
      },
      "outputs": [],
      "source": [
        "a = {('Sita','Gita'):9808778765,\n",
        "    'Hari':9808778765}"
      ]
    },
    {
      "cell_type": "code",
      "execution_count": null,
      "id": "ff52ec21",
      "metadata": {
        "id": "ff52ec21",
        "outputId": "cffdda57-cdc8-423f-8d61-ee6ba4ff4463"
      },
      "outputs": [
        {
          "data": {
            "text/plain": [
              "9808778765"
            ]
          },
          "execution_count": 31,
          "metadata": {},
          "output_type": "execute_result"
        }
      ],
      "source": [
        "a[('Sita','Gita')]"
      ]
    },
    {
      "cell_type": "code",
      "execution_count": null,
      "id": "842a7050",
      "metadata": {
        "id": "842a7050"
      },
      "outputs": [],
      "source": []
    },
    {
      "cell_type": "code",
      "execution_count": null,
      "id": "af68e8d5",
      "metadata": {
        "id": "af68e8d5"
      },
      "outputs": [],
      "source": []
    }
  ],
  "metadata": {
    "kernelspec": {
      "display_name": "Python 3 (ipykernel)",
      "language": "python",
      "name": "python3"
    },
    "language_info": {
      "codemirror_mode": {
        "name": "ipython",
        "version": 3
      },
      "file_extension": ".py",
      "mimetype": "text/x-python",
      "name": "python",
      "nbconvert_exporter": "python",
      "pygments_lexer": "ipython3",
      "version": "3.9.12"
    },
    "colab": {
      "provenance": [],
      "include_colab_link": true
    }
  },
  "nbformat": 4,
  "nbformat_minor": 5
}