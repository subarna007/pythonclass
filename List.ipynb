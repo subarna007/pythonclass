{
  "cells": [
    {
      "cell_type": "markdown",
      "metadata": {
        "id": "view-in-github",
        "colab_type": "text"
      },
      "source": [
        "<a href=\"https://colab.research.google.com/github/subarna007/pythonclass/blob/main/List.ipynb\" target=\"_parent\"><img src=\"https://colab.research.google.com/assets/colab-badge.svg\" alt=\"Open In Colab\"/></a>"
      ]
    },
    {
      "cell_type": "code",
      "execution_count": null,
      "id": "5828a0fb",
      "metadata": {
        "id": "5828a0fb"
      },
      "outputs": [],
      "source": [
        "# python collection\n",
        "# list\n",
        "# tuple\n",
        "# dict\n",
        "# set"
      ]
    },
    {
      "cell_type": "code",
      "execution_count": null,
      "id": "76034b96",
      "metadata": {
        "id": "76034b96"
      },
      "outputs": [],
      "source": [
        "# List\n",
        "# -Indexing\n",
        "# -Ordered\n",
        "# -Multiple and duplicate\n",
        "# -Mutable"
      ]
    },
    {
      "cell_type": "code",
      "execution_count": null,
      "id": "1f4c14c3",
      "metadata": {
        "id": "1f4c14c3"
      },
      "outputs": [],
      "source": [
        "a = [1,2,3,4,5,6,7,8,9,0]\n",
        "b = [\"Apple\",\"Ball\",\"Cat\",\"Dog\"]\n",
        "print(type(a))\n",
        "print(type(b))"
      ]
    },
    {
      "cell_type": "code",
      "execution_count": null,
      "id": "bcc3b126",
      "metadata": {
        "id": "bcc3b126"
      },
      "outputs": [],
      "source": [
        "b = [\"Apple\",\"Ball\",\"Cat\",\"Dog\"]\n",
        "print(b[0])\n",
        "print(b[0:3])\n",
        "print(b[-1:0:-1])\n",
        "print(b[0:4:2])\n",
        "print(b[-1])\n",
        "print(b[::-1])"
      ]
    },
    {
      "cell_type": "code",
      "execution_count": null,
      "id": "8a96a038",
      "metadata": {
        "id": "8a96a038"
      },
      "outputs": [],
      "source": [
        "b = [\"Apple\",\"Ball\",\"Cat\",\"Dog\"]\n",
        "print(b) #ordered data"
      ]
    },
    {
      "cell_type": "code",
      "execution_count": null,
      "id": "a3ab7afe",
      "metadata": {
        "id": "a3ab7afe"
      },
      "outputs": [],
      "source": [
        "a = [1,2,3,4,5]\n",
        "b = [6,7,8,9,0]\n",
        "c = a+b    #list concatination\n",
        "print(c)"
      ]
    },
    {
      "cell_type": "code",
      "execution_count": null,
      "id": "720d5c09",
      "metadata": {
        "id": "720d5c09"
      },
      "outputs": [],
      "source": [
        "a = [1,2,3,4,5]\n",
        "print(a*2)"
      ]
    },
    {
      "cell_type": "code",
      "execution_count": null,
      "id": "c3affdee",
      "metadata": {
        "id": "c3affdee"
      },
      "outputs": [],
      "source": [
        "a = [\"Apple\",\"Ball\",\"Cat\",\"Dog\",\"Fish\",\"Apple\",\"Fish\"]\n",
        "for i in a:\n",
        "    print(i)"
      ]
    },
    {
      "cell_type": "code",
      "execution_count": null,
      "id": "04ecc18c",
      "metadata": {
        "id": "04ecc18c"
      },
      "outputs": [],
      "source": [
        "#append() insert() extend()"
      ]
    },
    {
      "cell_type": "code",
      "execution_count": null,
      "id": "4f1a0633",
      "metadata": {
        "id": "4f1a0633",
        "outputId": "70883161-c256-4d91-b57e-7fc0da9c9e1a"
      },
      "outputs": [
        {
          "name": "stdout",
          "output_type": "stream",
          "text": [
            "Enter n = 3\n",
            "Enter x = 13\n",
            "[13]\n",
            "Enter x = 2\n",
            "[13, 2]\n",
            "Enter x = 3\n",
            "[13, 2, 3]\n"
          ]
        }
      ],
      "source": [
        "a =[]\n",
        "n = int(input(\"Enter n = \"))\n",
        "for i in range(n):\n",
        "        x = int(input(\"Enter x = \"))\n",
        "        a.append(x)\n",
        "\n",
        "        print(a)"
      ]
    },
    {
      "cell_type": "code",
      "execution_count": null,
      "id": "8db62fc3",
      "metadata": {
        "id": "8db62fc3",
        "outputId": "d125cd72-b90f-4f09-d6e2-916f1769dab2"
      },
      "outputs": [
        {
          "name": "stdout",
          "output_type": "stream",
          "text": [
            "The max value =  456\n",
            "The min value =  11\n",
            "The sum of the value =  712\n",
            "[456, 123, 90, 32, 11]\n"
          ]
        }
      ],
      "source": [
        "a = [123,456,32,90,11]\n",
        "print(\"The max value = \", max(a))\n",
        "print(\"The min value = \",min(a))\n",
        "print(\"The sum of the value = \",sum(a))\n",
        "a.sort()\n",
        "a.reverse()\n",
        "print(a)"
      ]
    },
    {
      "cell_type": "code",
      "execution_count": null,
      "id": "78ea834b",
      "metadata": {
        "id": "78ea834b",
        "outputId": "01f1dc16-e077-4a9e-e519-c850ca726b69"
      },
      "outputs": [
        {
          "name": "stdout",
          "output_type": "stream",
          "text": [
            "['.ball', '3jeep', '@jug', 'Ant', 'Apple', 'Ball', 'Cat', 'Xray', 'ant']\n"
          ]
        }
      ],
      "source": [
        "a = [\"Ball\",\"Apple\",\"Cat\",\"Ant\",\"Xray\",\".ball\",\"ant\",\"@jug\",\"\"]\n",
        "a.sort()\n",
        "print(a)"
      ]
    },
    {
      "cell_type": "code",
      "execution_count": null,
      "id": "38096aa0",
      "metadata": {
        "id": "38096aa0",
        "outputId": "e039b769-0c81-4af5-c31e-d352a1fc2fa0"
      },
      "outputs": [
        {
          "name": "stdout",
          "output_type": "stream",
          "text": [
            "['Ball', 'Key', 'Apple', 'Cat', 'ant', 'Xray']\n"
          ]
        }
      ],
      "source": [
        "#insert()\n",
        "a = [\"Ball\",\"Apple\",\"Cat\",\"ant\",\"Xray\"]\n",
        "a.insert(1,\"Key\")\n",
        "print(a)"
      ]
    },
    {
      "cell_type": "code",
      "execution_count": null,
      "id": "fd272732",
      "metadata": {
        "id": "fd272732",
        "outputId": "ae59ab2d-197f-4ce9-f90d-9d74a44893f1"
      },
      "outputs": [
        {
          "name": "stdout",
          "output_type": "stream",
          "text": [
            "['Ball', 'Apple', 'Cat', 'ant', 'Xray', 1, 2, 3, 4, 5, 6, 7, 8, 9, 0]\n"
          ]
        }
      ],
      "source": [
        "#extend()\n",
        "a = [\"Ball\",\"Apple\",\"Cat\",\"ant\",\"Xray\"]\n",
        "b = [1,2,3,4,5,6,7,8,9,0]\n",
        "a.extend(b)\n",
        "print(a)"
      ]
    },
    {
      "cell_type": "code",
      "execution_count": null,
      "id": "3ddc3da2",
      "metadata": {
        "id": "3ddc3da2",
        "outputId": "b57f6de1-44aa-4b92-87fe-d90245f8b03f"
      },
      "outputs": [
        {
          "name": "stdout",
          "output_type": "stream",
          "text": [
            "['ball', 'Apple', 'Cat', 'ant', 'Xray']\n"
          ]
        }
      ],
      "source": [
        "#Update list\n",
        "a = [\"Ball\",\"Apple\",\"Cat\",\"ant\",\"Xray\"]\n",
        "a[0] = \"ball\"\n",
        "print(a)\n",
        "\n"
      ]
    },
    {
      "cell_type": "code",
      "execution_count": null,
      "id": "2ca2f1ba",
      "metadata": {
        "id": "2ca2f1ba",
        "outputId": "77456d5c-b8b0-4c66-8500-1eb1a9410297"
      },
      "outputs": [
        {
          "name": "stdout",
          "output_type": "stream",
          "text": [
            "['Ball', 'ball', 'Cat', 'ant', 'Xray']\n"
          ]
        }
      ],
      "source": [
        "a = [\"Ball\",\"Apple\",\"Cat\",\"ant\",\"Xray\"]\n",
        "a[1] = \"ball\" #update\n",
        "print(a)\n"
      ]
    },
    {
      "cell_type": "code",
      "execution_count": null,
      "id": "0b8d4c06",
      "metadata": {
        "id": "0b8d4c06",
        "outputId": "5cd1b719-a09d-4a18-af61-ad5548908b19"
      },
      "outputs": [
        {
          "name": "stdout",
          "output_type": "stream",
          "text": [
            "['Ball', ['ball', 'apple'], 'Cat', 'ant', 'Xray']\n"
          ]
        }
      ],
      "source": [
        "a = [\"Ball\",\"Apple\",\"Cat\",\"ant\",\"Xray\"]\n",
        "a[1] = [\"ball\",\"apple\"]\n",
        "print(a)"
      ]
    },
    {
      "cell_type": "code",
      "execution_count": null,
      "id": "6b19f8c7",
      "metadata": {
        "id": "6b19f8c7",
        "outputId": "18f537e9-de21-4911-d42c-14cbc2465c93"
      },
      "outputs": [
        {
          "name": "stdout",
          "output_type": "stream",
          "text": [
            "['Ball', 'ball', 'apple', 'Cat', 'ant', 'Xray']\n"
          ]
        }
      ],
      "source": [
        "a = [\"Ball\",\"Apple\",\"Cat\",\"ant\",\"Xray\"]\n",
        "a[1:2] = [\"ball\",\"apple\"] #insert\n",
        "print(a)"
      ]
    },
    {
      "cell_type": "code",
      "execution_count": null,
      "id": "91359ef8",
      "metadata": {
        "id": "91359ef8",
        "outputId": "b9e28d1f-b43d-4cc8-f702-d33da2408570"
      },
      "outputs": [
        {
          "name": "stdout",
          "output_type": "stream",
          "text": [
            "['ball', 'apple', 'Cat', 'ant', 'Xray']\n"
          ]
        }
      ],
      "source": [
        "a = [\"Ball\",\"Apple\",\"Cat\",\"ant\",\"Xray\"]\n",
        "a[0:2] = [\"ball\",\"apple\"] #update\n",
        "print(a)"
      ]
    },
    {
      "cell_type": "code",
      "execution_count": null,
      "id": "2a6970f4",
      "metadata": {
        "id": "2a6970f4"
      },
      "outputs": [],
      "source": [
        "#removing values from list\n",
        "#del\n",
        "#remove()\n",
        "#pop()"
      ]
    },
    {
      "cell_type": "code",
      "execution_count": null,
      "id": "77d5a4b1",
      "metadata": {
        "id": "77d5a4b1",
        "outputId": "bc9ba1d0-8a4a-411c-c4a0-77bffd9f818f"
      },
      "outputs": [
        {
          "name": "stdout",
          "output_type": "stream",
          "text": [
            "['Apple', 'Cat', 'ant', 'Xray', 'Jeep']\n"
          ]
        }
      ],
      "source": [
        "a = [\"Ball\",\"Apple\",\"Cat\",\"ant\",\"Xray\",\"Jeep\"]\n",
        "del a[0] #delete\n",
        "print(a)"
      ]
    },
    {
      "cell_type": "code",
      "execution_count": null,
      "id": "3b38814e",
      "metadata": {
        "id": "3b38814e",
        "outputId": "dc3596c6-b308-487f-be1d-c36c100cb0c8"
      },
      "outputs": [
        {
          "name": "stdout",
          "output_type": "stream",
          "text": [
            "['ant', 'Xray', 'Jeep']\n"
          ]
        }
      ],
      "source": [
        "a = [\"Ball\",\"Apple\",\"Cat\",\"ant\",\"Xray\",\"Jeep\"]\n",
        "del a[0:3] #delete\n",
        "print(a)"
      ]
    },
    {
      "cell_type": "code",
      "execution_count": null,
      "id": "ec97ee58",
      "metadata": {
        "id": "ec97ee58",
        "outputId": "67d01952-88cf-4056-a76b-80345428e68c"
      },
      "outputs": [
        {
          "name": "stdout",
          "output_type": "stream",
          "text": [
            "1\n"
          ]
        }
      ],
      "source": [
        "a = [\"Ball\",\"Apple\",\"Cat\",\"ant\",\"Xray\",\"Jeep\"]\n",
        "print(a.index(\"Apple\"))  #finding indexing"
      ]
    },
    {
      "cell_type": "code",
      "execution_count": null,
      "id": "8f5ddc77",
      "metadata": {
        "id": "8f5ddc77",
        "outputId": "d6a0b294-9d40-4fd2-ee4f-371a68effc65"
      },
      "outputs": [
        {
          "name": "stdout",
          "output_type": "stream",
          "text": [
            "1\n"
          ]
        }
      ],
      "source": [
        "a = [\"Ball\",\"Apple\",\"Cat\",\"ant\",\"Xray\",\"Jeep\",\"Apple\"]\n",
        "print(a.index(\"Apple\"))  #limitation doesnt show indexing of both"
      ]
    },
    {
      "cell_type": "code",
      "execution_count": null,
      "id": "88f7f3ee",
      "metadata": {
        "id": "88f7f3ee",
        "outputId": "8f7b685c-a78a-41b5-b9be-02e35ecf74b1"
      },
      "outputs": [
        {
          "name": "stdout",
          "output_type": "stream",
          "text": [
            "0\n",
            "1\n",
            "2\n",
            "3\n",
            "4\n",
            "5\n",
            "6\n"
          ]
        }
      ],
      "source": [
        "a = [\"Ball\",\"Apple\",\"Cat\",\"ant\",\"Xray\",\"Jeep\",\"Apple\"]\n",
        "l = len(a)\n",
        "for i in range(l):\n",
        "    if a[i] == \"apple\":\n",
        "    print(i)"
      ]
    },
    {
      "cell_type": "code",
      "execution_count": null,
      "id": "2840bb4d",
      "metadata": {
        "id": "2840bb4d",
        "outputId": "08d68dab-7a35-41b5-fa48-a4d64a71e4f9"
      },
      "outputs": [
        {
          "name": "stdout",
          "output_type": "stream",
          "text": [
            "2\n"
          ]
        }
      ],
      "source": [
        "a = [\"Ball\",\"Apple\",\"Cat\",\"ant\",\"Xray\",\"Jeep\",\"Apple\"]\n",
        "l = len(a)\n",
        "for i in range(l):\n",
        "    if a[i] == \"Cat\":\n",
        "        print(i)"
      ]
    },
    {
      "cell_type": "code",
      "execution_count": null,
      "id": "5c6befb2",
      "metadata": {
        "id": "5c6befb2",
        "outputId": "c076ba9b-5440-4f84-a3b6-a7e2c9fc6979"
      },
      "outputs": [
        {
          "name": "stdout",
          "output_type": "stream",
          "text": [
            "Enter search value = Apple\n",
            "1\n",
            "6\n"
          ]
        }
      ],
      "source": [
        "a = [\"Ball\",\"Apple\",\"Cat\",\"ant\",\"Xray\",\"Jeep\",\"Apple\"]\n",
        "l = len(a)\n",
        "search = input(\"Enter search value = \")\n",
        "for i in range(l):\n",
        "    if a[i] == search:\n",
        "        print(i)"
      ]
    },
    {
      "cell_type": "code",
      "execution_count": null,
      "id": "a47ef7cb",
      "metadata": {
        "id": "a47ef7cb",
        "outputId": "63fc5823-7591-4152-891a-c153631f080a"
      },
      "outputs": [
        {
          "name": "stdout",
          "output_type": "stream",
          "text": [
            "1\n",
            "6\n"
          ]
        }
      ],
      "source": [
        "a = [\"Ball\",\"Apple\",\"Cat\",\"ant\",\"Xray\",\"Jeep\",\"Apple\"]\n",
        "l = len(a)\n",
        "#search = input(\"Enter search value = \")\n",
        "for i in range(l):\n",
        "    if a[i] == \"Apple\":\n",
        "        print(i)"
      ]
    },
    {
      "cell_type": "code",
      "execution_count": null,
      "id": "8fd18b63",
      "metadata": {
        "id": "8fd18b63",
        "outputId": "5fde2e96-fd59-4252-bad9-512047f8f7e2"
      },
      "outputs": [
        {
          "name": "stdout",
          "output_type": "stream",
          "text": [
            "['Apple', 'Cat', 'ant', 'Xray', 'Jeep', 'Apple']\n"
          ]
        }
      ],
      "source": [
        "a = [\"Ball\",\"Apple\",\"Cat\",\"ant\",\"Xray\",\"Jeep\",\"Apple\"]\n",
        "a.remove(\"Ball\")\n",
        "print(a)"
      ]
    },
    {
      "cell_type": "code",
      "execution_count": null,
      "id": "f8dc07f1",
      "metadata": {
        "id": "f8dc07f1",
        "outputId": "2a2df919-5ae4-49af-8193-6ea70e644d37"
      },
      "outputs": [
        {
          "name": "stdout",
          "output_type": "stream",
          "text": [
            "['Ball', 'Cat', 'ant', 'Xray', 'Jeep']\n"
          ]
        }
      ],
      "source": [
        "a = [\"Ball\",\"Apple\",\"Cat\",\"ant\",\"Xray\",\"Jeep\",\"Apple\"]\n",
        "c = a.count(\"Apple\")\n",
        "for i in range(c):\n",
        "    a.remove(\"Apple\")\n",
        "\n",
        "\n",
        "print(a)"
      ]
    },
    {
      "cell_type": "code",
      "execution_count": null,
      "id": "0d1a05f0",
      "metadata": {
        "id": "0d1a05f0",
        "outputId": "d913006f-df31-41ef-aa2e-c831e4bbbfa2"
      },
      "outputs": [
        {
          "name": "stdout",
          "output_type": "stream",
          "text": [
            "['Ball', 'Apple', 'Cat', 'ant', 'Xray', 'Jeep']\n"
          ]
        }
      ],
      "source": [
        "a = [\"Ball\",\"Apple\",\"Cat\",\"ant\",\"Xray\",\"Jeep\",\"Apple\"]\n",
        "a.pop()\n",
        "print(a)"
      ]
    },
    {
      "cell_type": "code",
      "execution_count": null,
      "id": "48f2d98d",
      "metadata": {
        "id": "48f2d98d",
        "outputId": "f2b16163-da86-4b7b-ceed-b4ca10e88059"
      },
      "outputs": [
        {
          "name": "stdout",
          "output_type": "stream",
          "text": [
            "['Apple', 'Cat', 'ant', 'Xray', 'Jeep', 'Apple']\n"
          ]
        }
      ],
      "source": [
        "a = [\"Ball\",\"Apple\",\"Cat\",\"ant\",\"Xray\",\"Jeep\",\"Apple\"]\n",
        "a.pop(0)\n",
        "print(a)"
      ]
    },
    {
      "cell_type": "code",
      "execution_count": null,
      "id": "71ef4eef",
      "metadata": {
        "id": "71ef4eef",
        "outputId": "5b14c795-533d-4c80-a830-e2c5140c3b63"
      },
      "outputs": [
        {
          "name": "stdout",
          "output_type": "stream",
          "text": [
            "['Apple', 'Cat', 'ant', 'Xray', 'Jeep', 'Apple']\n",
            "Ball\n"
          ]
        }
      ],
      "source": [
        "a = [\"Ball\",\"Apple\",\"Cat\",\"ant\",\"Xray\",\"Jeep\",\"Apple\"]\n",
        "b = a.pop(0)\n",
        "print(a)\n",
        "print(b)"
      ]
    },
    {
      "cell_type": "code",
      "execution_count": null,
      "id": "e541e7b7",
      "metadata": {
        "id": "e541e7b7"
      },
      "outputs": [],
      "source": [
        "# Search in list"
      ]
    },
    {
      "cell_type": "code",
      "execution_count": null,
      "id": "30accc5a",
      "metadata": {
        "id": "30accc5a",
        "outputId": "b42b3bb2-ae9a-49b7-b385-dec8195be34b"
      },
      "outputs": [
        {
          "name": "stdout",
          "output_type": "stream",
          "text": [
            "Enter seacrh value = Apple\n",
            "Yes\n",
            "2\n"
          ]
        }
      ],
      "source": [
        "a = [\"Ball\",\"Apple\",\"Cat\",\"ant\",\"Xray\",\"Jeep\",\"Apple\"]\n",
        "search = input(\"Enter seacrh value = \")\n",
        "if search in a:\n",
        "    print(\"Yes\")\n",
        "    print(a.count(search))"
      ]
    },
    {
      "cell_type": "code",
      "execution_count": null,
      "id": "dd769009",
      "metadata": {
        "id": "dd769009",
        "outputId": "f483af8d-42ed-4274-aa76-a8593de1d312"
      },
      "outputs": [
        {
          "name": "stdout",
          "output_type": "stream",
          "text": [
            "Enter seacrh value = apple\n",
            "Yes\n",
            "0\n",
            "Yes\n",
            "0\n"
          ]
        }
      ],
      "source": [
        " #case insensitive , thakai j value xa tei count garna\n",
        "a = [\"Ball\",\"Apple\",\"Cat\",\"ant\",\"Xray\",\"Jeep\",\"Apple\"]\n",
        "search = input(\"Enter seacrh value = \")\n",
        "for i in range(len(a)):\n",
        "    if search.lower() == a[i].lower():\n",
        "        print(\"Yes\")\n",
        "        print(a.count(search))"
      ]
    },
    {
      "cell_type": "code",
      "execution_count": null,
      "id": "725d869d",
      "metadata": {
        "id": "725d869d",
        "outputId": "e30911b3-dda3-4f5d-fbdb-cccfe59c6254"
      },
      "outputs": [
        {
          "name": "stdout",
          "output_type": "stream",
          "text": [
            "Enter seacrh value = apple\n",
            "2\n"
          ]
        }
      ],
      "source": [
        " #case insensitive, upper lower case milhauna\n",
        "c = 0\n",
        "a = [\"Ball\",\"Apple\",\"Cat\",\"ant\",\"Xray\",\"Jeep\",\"Apple\"]\n",
        "search = input(\"Enter seacrh value = \")\n",
        "for i in range(len(a)):\n",
        "    if search.lower() == a[i].lower():\n",
        "        c = c+1\n",
        "\n",
        "print(c)"
      ]
    },
    {
      "cell_type": "code",
      "execution_count": null,
      "id": "00f9c1ac",
      "metadata": {
        "id": "00f9c1ac",
        "outputId": "ad97e1b0-2832-472b-994b-6e1d75dbabca"
      },
      "outputs": [
        {
          "name": "stdout",
          "output_type": "stream",
          "text": [
            "Enter seacrh value = frog\n",
            "No there is no such value\n"
          ]
        }
      ],
      "source": [
        "c = 0\n",
        "a = [\"Ball\",\"Apple\",\"Cat\",\"ant\",\"Xray\",\"Jeep\",\"Apple\"]\n",
        "search = input(\"Enter seacrh value = \")\n",
        "for i in range(len(a)):\n",
        "    if search.lower() == a[i].lower():\n",
        "        c = c+1\n",
        "\n",
        "if c>0:\n",
        "    print(\"Yes there is such value\")\n",
        "else:\n",
        "    print(\"No there is no such value\")"
      ]
    },
    {
      "cell_type": "code",
      "execution_count": null,
      "id": "2b877c4a",
      "metadata": {
        "id": "2b877c4a"
      },
      "outputs": [],
      "source": [
        "#List inside List"
      ]
    },
    {
      "cell_type": "code",
      "execution_count": null,
      "id": "0802d176",
      "metadata": {
        "id": "0802d176",
        "outputId": "4648945d-ddbe-4c7a-9f22-0f78a59d5e69"
      },
      "outputs": [
        {
          "name": "stdout",
          "output_type": "stream",
          "text": [
            "<class 'list'>\n"
          ]
        }
      ],
      "source": [
        "a = [[1,2,3],\n",
        "    [4,5,6],\n",
        "    [7,8,9]]\n",
        "print(type(a))"
      ]
    },
    {
      "cell_type": "code",
      "execution_count": null,
      "id": "aaf85348",
      "metadata": {
        "id": "aaf85348",
        "outputId": "13844b73-342a-4ef5-87ff-a90b1d67316b"
      },
      "outputs": [
        {
          "name": "stdout",
          "output_type": "stream",
          "text": [
            "[['Ram', 34, 'Kathmandu'], ['Shyam', 45, 'Janakpur'], ['Hari', 23, 'Chitwan']]\n"
          ]
        }
      ],
      "source": [
        "info = [['Ram',34,'Kathmandu'],\n",
        "       ['Shyam',45,'Janakpur'],\n",
        "       ['Hari',23,'Chitwan']]\n",
        "print(info)"
      ]
    },
    {
      "cell_type": "code",
      "execution_count": null,
      "id": "6fdc010f",
      "metadata": {
        "id": "6fdc010f",
        "outputId": "a548a640-5cef-4c2e-e76f-32de73b5ea0f"
      },
      "outputs": [
        {
          "data": {
            "text/plain": [
              "['Ram', 34, 'Kathmandu']"
            ]
          },
          "execution_count": 19,
          "metadata": {},
          "output_type": "execute_result"
        }
      ],
      "source": [
        "info = [['Ram',34,'Kathmandu'],\n",
        "       ['Shyam',45,'Janakpur'],\n",
        "       ['Hari',23,'Chitwan']]\n",
        "info[0]"
      ]
    },
    {
      "cell_type": "code",
      "execution_count": null,
      "id": "1796c268",
      "metadata": {
        "id": "1796c268",
        "outputId": "f417b1be-fc69-4e8d-cfd4-7c1af17125dd"
      },
      "outputs": [
        {
          "data": {
            "text/plain": [
              "['Shyam', 45, 'Janakpur']"
            ]
          },
          "execution_count": 22,
          "metadata": {},
          "output_type": "execute_result"
        }
      ],
      "source": [
        "info = [['Ram',34,'Kathmandu'],\n",
        "       ['Shyam',45,'Janakpur'],\n",
        "       ['Hari',23,'Chitwan']]\n",
        "info[1]"
      ]
    },
    {
      "cell_type": "code",
      "execution_count": null,
      "id": "bf6ef24a",
      "metadata": {
        "id": "bf6ef24a",
        "outputId": "41b42772-e33f-4809-9241-816922c1da1a"
      },
      "outputs": [
        {
          "data": {
            "text/plain": [
              "'Shyam'"
            ]
          },
          "execution_count": 4,
          "metadata": {},
          "output_type": "execute_result"
        }
      ],
      "source": [
        "info = [['Ram',34,'Kathmandu'],\n",
        "       ['Shyam',45,'Janakpur'],\n",
        "       ['Hari',23,'Chitwan']]\n",
        "info[1][0]"
      ]
    },
    {
      "cell_type": "code",
      "execution_count": null,
      "id": "1df0a96a",
      "metadata": {
        "id": "1df0a96a",
        "outputId": "01f32185-a6f4-4b6b-9207-da838531f98d"
      },
      "outputs": [
        {
          "name": "stdout",
          "output_type": "stream",
          "text": [
            "Enter n = 3\n",
            "Enter name = Ram\n",
            "Enter age = 41\n",
            "Enter address = Kathmandu\n",
            "Enter name = Shyam\n",
            "Enter age = 35\n",
            "Enter address = Janakpur\n",
            "Enter name = Sita\n",
            "Enter age = 36\n",
            "Enter address = Chitwan\n",
            "[['Ram', 41, 'Kathmandu'], ['Shyam', 35, 'Janakpur'], ['Sita', 36, 'Chitwan']]\n"
          ]
        }
      ],
      "source": [
        "info = []\n",
        "n = int(input(\"Enter n = \"))\n",
        "for i in range(n):\n",
        "    name = input(\"Enter name = \")\n",
        "    age = int(input(\"Enter age = \"))\n",
        "    address = input(\"Enter address = \")\n",
        "    x = [name,age,address]\n",
        "    info.append(x)\n",
        "\n",
        "print(info)"
      ]
    },
    {
      "cell_type": "code",
      "execution_count": null,
      "id": "c858e582",
      "metadata": {
        "id": "c858e582",
        "outputId": "cfd3496b-0119-4794-edd4-7b2d647e3ce5"
      },
      "outputs": [
        {
          "data": {
            "text/plain": [
              "[['Ram', 41, 'Kathmandu'], ['Shyam', 35, 'Janakpur'], ['Sita', 36, 'Chitwan']]"
            ]
          },
          "execution_count": 7,
          "metadata": {},
          "output_type": "execute_result"
        }
      ],
      "source": [
        "info\n"
      ]
    },
    {
      "cell_type": "code",
      "execution_count": null,
      "id": "86a723e3",
      "metadata": {
        "id": "86a723e3",
        "outputId": "251aa8c6-2747-4fb6-c925-325ece44fde7"
      },
      "outputs": [
        {
          "data": {
            "text/plain": [
              "3"
            ]
          },
          "execution_count": 8,
          "metadata": {},
          "output_type": "execute_result"
        }
      ],
      "source": [
        "len(info)"
      ]
    },
    {
      "cell_type": "code",
      "execution_count": null,
      "id": "02b84683",
      "metadata": {
        "id": "02b84683",
        "outputId": "c8b54ebf-cf09-42d1-d7f1-e17c97838204"
      },
      "outputs": [
        {
          "name": "stdout",
          "output_type": "stream",
          "text": [
            "['Ram', 41, 'Kathmandu']\n",
            "['Shyam', 35, 'Janakpur']\n",
            "['Sita', 36, 'Chitwan']\n"
          ]
        }
      ],
      "source": [
        "for i in info:\n",
        "    print(i)"
      ]
    },
    {
      "cell_type": "code",
      "execution_count": null,
      "id": "5757d8ee",
      "metadata": {
        "id": "5757d8ee",
        "outputId": "d09da2a1-c16e-44b2-fa04-10aa0962d8be"
      },
      "outputs": [
        {
          "data": {
            "text/plain": [
              "['Ram', 41, 'Kathmandu']"
            ]
          },
          "execution_count": 10,
          "metadata": {},
          "output_type": "execute_result"
        }
      ],
      "source": [
        "info[0]"
      ]
    },
    {
      "cell_type": "code",
      "execution_count": null,
      "id": "c8245fff",
      "metadata": {
        "id": "c8245fff",
        "outputId": "500e7031-562c-485b-d763-f1e265125f52"
      },
      "outputs": [
        {
          "name": "stdout",
          "output_type": "stream",
          "text": [
            "Enter name = Sita\n",
            "['Sita', 36, 'Chitwan']\n"
          ]
        }
      ],
      "source": [
        "name = input(\"Enter name = \")\n",
        "for i in info:\n",
        "    if name in i:\n",
        "        print(i)"
      ]
    },
    {
      "cell_type": "code",
      "execution_count": null,
      "id": "a187ff5c",
      "metadata": {
        "id": "a187ff5c",
        "outputId": "a290ed8c-9b4b-439e-ba5e-0768323bc552"
      },
      "outputs": [
        {
          "name": "stdout",
          "output_type": "stream",
          "text": [
            "Enter age = 30\n",
            "['Ram', 41, 'Janakpur']\n",
            "['Sita', 31, 'Chitwan']\n"
          ]
        }
      ],
      "source": [
        "age = int(input(\"Enter age = \"))\n",
        "for i in info:\n",
        "    if i[1]>=30:\n",
        "        print(i)"
      ]
    },
    {
      "cell_type": "code",
      "execution_count": null,
      "id": "da97c017",
      "metadata": {
        "id": "da97c017",
        "outputId": "118a207d-67b8-4468-e0c9-a3cdcee4f604"
      },
      "outputs": [
        {
          "name": "stdout",
          "output_type": "stream",
          "text": [
            "Enter name = ram\n",
            "['Ram', 41, 'Kathmandu']\n"
          ]
        }
      ],
      "source": [
        "name = (input(\"Enter name = \"))\n",
        "for i in info:\n",
        "    if  name.lower() == i[0].lower():\n",
        "        print(i)"
      ]
    },
    {
      "cell_type": "code",
      "execution_count": null,
      "id": "75829ec2",
      "metadata": {
        "id": "75829ec2",
        "outputId": "ddc7d57b-81df-41b2-bc42-9ff4a17f977a"
      },
      "outputs": [
        {
          "data": {
            "text/plain": [
              "['Ram', 41, 'Kathmandu']"
            ]
          },
          "execution_count": 13,
          "metadata": {},
          "output_type": "execute_result"
        }
      ],
      "source": [
        "#update\n",
        "info [0]"
      ]
    },
    {
      "cell_type": "code",
      "execution_count": null,
      "id": "30644454",
      "metadata": {
        "id": "30644454",
        "outputId": "002fb86e-424a-40ec-f7e3-467b2fa1ebfc"
      },
      "outputs": [
        {
          "data": {
            "text/plain": [
              "[['RAM', 34, 'Kathmandu'], ['Shyam', 35, 'Janakpur'], ['Sita', 36, 'Chitwan']]"
            ]
          },
          "execution_count": 15,
          "metadata": {},
          "output_type": "execute_result"
        }
      ],
      "source": [
        "info[0] = ['ram', 34, 'Kathmandu']\n",
        "info[0][0] = 'RAM'\n",
        "info"
      ]
    },
    {
      "cell_type": "code",
      "execution_count": null,
      "id": "cf5ef151",
      "metadata": {
        "id": "cf5ef151",
        "outputId": "2cff42e7-8f59-4d4a-e9a1-960ffded0118"
      },
      "outputs": [
        {
          "data": {
            "text/plain": [
              "[['RAM', 34, 'Kathmandu'], ['Shyam', 35, 'Janakpur'], ['Sita', 36, 'Chitwan']]"
            ]
          },
          "execution_count": 16,
          "metadata": {},
          "output_type": "execute_result"
        }
      ],
      "source": [
        "info"
      ]
    },
    {
      "cell_type": "code",
      "execution_count": null,
      "id": "634e5382",
      "metadata": {
        "id": "634e5382",
        "outputId": "ad5789af-f201-42ed-a631-d417bb94bd25"
      },
      "outputs": [
        {
          "data": {
            "text/plain": [
              "['Sita', 36, 'Chitwan']"
            ]
          },
          "execution_count": 18,
          "metadata": {},
          "output_type": "execute_result"
        }
      ],
      "source": [
        "#del remove() pop()\n",
        "info[2]"
      ]
    },
    {
      "cell_type": "code",
      "execution_count": null,
      "id": "1760ca70",
      "metadata": {
        "id": "1760ca70",
        "outputId": "992c3bd1-8475-4eea-9ca3-232f879250a9"
      },
      "outputs": [
        {
          "data": {
            "text/plain": [
              "[['RAM', 34, 'Kathmandu'], ['Shyam', 35, 'Janakpur']]"
            ]
          },
          "execution_count": 19,
          "metadata": {},
          "output_type": "execute_result"
        }
      ],
      "source": [
        "del info[2] #index wise delete garna\n",
        "info"
      ]
    },
    {
      "cell_type": "code",
      "execution_count": null,
      "id": "200c88fc",
      "metadata": {
        "id": "200c88fc",
        "outputId": "4f1ed948-b7ee-4107-ad7c-5a2736ee2cd6"
      },
      "outputs": [
        {
          "data": {
            "text/plain": [
              "[['Shyam', 35, 'Janakpur']]"
            ]
          },
          "execution_count": 20,
          "metadata": {},
          "output_type": "execute_result"
        }
      ],
      "source": [
        "info.remove(['RAM', 34, 'Kathmandu']) #search garyera delete garna mostly used\n",
        "info"
      ]
    },
    {
      "cell_type": "code",
      "execution_count": null,
      "id": "18a5da35",
      "metadata": {
        "id": "18a5da35",
        "outputId": "79353d9f-1d3c-4f25-99e0-bbcd2d4cd683"
      },
      "outputs": [
        {
          "data": {
            "text/plain": [
              "[['Ram', 41, 'Kathmandu'], ['Shyam', 35, 'Janakpur'], ['Sita', 36, 'Chitwan']]"
            ]
          },
          "execution_count": 2,
          "metadata": {},
          "output_type": "execute_result"
        }
      ],
      "source": [
        "info = [['Ram', 41, 'Kathmandu'],\n",
        "['Shyam', 35, 'Janakpur'],\n",
        "['Sita', 36, 'Chitwan']]\n",
        "info"
      ]
    },
    {
      "cell_type": "code",
      "execution_count": null,
      "id": "edc277b4",
      "metadata": {
        "id": "edc277b4",
        "outputId": "af5337d9-9ec0-41b4-8b56-a5b9019b79dd"
      },
      "outputs": [
        {
          "name": "stdout",
          "output_type": "stream",
          "text": [
            "Enter name = Ram\n"
          ]
        },
        {
          "data": {
            "text/plain": [
              "[['Shyam', 35, 'Janakpur'], ['Sita', 36, 'Chitwan']]"
            ]
          },
          "execution_count": 4,
          "metadata": {},
          "output_type": "execute_result"
        }
      ],
      "source": [
        "name = input(\"Enter name = \")\n",
        "for i in info:\n",
        "    if name in i:\n",
        "        info.remove(i)\n",
        "\n",
        "info"
      ]
    },
    {
      "cell_type": "code",
      "execution_count": null,
      "id": "08990e12",
      "metadata": {
        "id": "08990e12",
        "outputId": "34c5a06f-8f31-4c95-a7ea-16c0949248c3"
      },
      "outputs": [
        {
          "data": {
            "text/plain": [
              "[['Ram', 41, 'Kathmandu'], ['Shyam', 35, 'Janakpur'], ['Sita', 36, 'Chitwan']]"
            ]
          },
          "execution_count": 5,
          "metadata": {},
          "output_type": "execute_result"
        }
      ],
      "source": [
        "info = [['Ram', 41, 'Kathmandu',50000],\n",
        "        ['Shyam', 35, 'Janakpur',35000],\n",
        "        ['Sita', 36, 'Chitwan',89000]]\n",
        "\n",
        "\n",
        "\n",
        "\n"
      ]
    },
    {
      "cell_type": "code",
      "execution_count": null,
      "id": "404fa0ef",
      "metadata": {
        "id": "404fa0ef"
      },
      "outputs": [],
      "source": []
    },
    {
      "cell_type": "code",
      "execution_count": null,
      "id": "7d4f8d6a",
      "metadata": {
        "id": "7d4f8d6a"
      },
      "outputs": [],
      "source": []
    },
    {
      "cell_type": "code",
      "execution_count": null,
      "id": "0e8ff7e7",
      "metadata": {
        "id": "0e8ff7e7"
      },
      "outputs": [],
      "source": []
    },
    {
      "cell_type": "code",
      "execution_count": null,
      "id": "78d04979",
      "metadata": {
        "id": "78d04979"
      },
      "outputs": [],
      "source": []
    },
    {
      "cell_type": "code",
      "execution_count": null,
      "id": "9d1e6ff8",
      "metadata": {
        "id": "9d1e6ff8"
      },
      "outputs": [],
      "source": []
    },
    {
      "cell_type": "code",
      "execution_count": null,
      "id": "0622d578",
      "metadata": {
        "id": "0622d578"
      },
      "outputs": [],
      "source": []
    }
  ],
  "metadata": {
    "kernelspec": {
      "display_name": "Python 3 (ipykernel)",
      "language": "python",
      "name": "python3"
    },
    "language_info": {
      "codemirror_mode": {
        "name": "ipython",
        "version": 3
      },
      "file_extension": ".py",
      "mimetype": "text/x-python",
      "name": "python",
      "nbconvert_exporter": "python",
      "pygments_lexer": "ipython3",
      "version": "3.11.5"
    },
    "colab": {
      "provenance": [],
      "include_colab_link": true
    }
  },
  "nbformat": 4,
  "nbformat_minor": 5
}