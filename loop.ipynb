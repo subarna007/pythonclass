{
  "cells": [
    {
      "cell_type": "markdown",
      "metadata": {
        "id": "view-in-github",
        "colab_type": "text"
      },
      "source": [
        "<a href=\"https://colab.research.google.com/github/subarna007/pythonclass/blob/main/loop.ipynb\" target=\"_parent\"><img src=\"https://colab.research.google.com/assets/colab-badge.svg\" alt=\"Open In Colab\"/></a>"
      ]
    },
    {
      "cell_type": "code",
      "execution_count": null,
      "id": "6a0fb052",
      "metadata": {
        "id": "6a0fb052"
      },
      "outputs": [],
      "source": [
        "# loop\n",
        "# for loop\n",
        "# while loop"
      ]
    },
    {
      "cell_type": "code",
      "execution_count": null,
      "id": "09096bd9",
      "metadata": {
        "id": "09096bd9"
      },
      "outputs": [],
      "source": [
        "# for loop\n",
        "# range(5)       # 0,1,2,3,4\n",
        "# range(1,5)     # 1,2,3,4\n",
        "# range(1,10,2)  # 1,3,5,7,9"
      ]
    },
    {
      "cell_type": "code",
      "execution_count": null,
      "id": "bbf5dfd6",
      "metadata": {
        "id": "bbf5dfd6",
        "outputId": "35465350-67c6-419f-9ff1-396f96f3d693"
      },
      "outputs": [
        {
          "name": "stdout",
          "output_type": "stream",
          "text": [
            "0 Hello World\n",
            "1 Hello World\n",
            "2 Hello World\n",
            "3 Hello World\n",
            "4 Hello World\n"
          ]
        }
      ],
      "source": [
        "for i in range(5):\n",
        "    print(i,\"Hello World\")"
      ]
    },
    {
      "cell_type": "code",
      "execution_count": null,
      "id": "1a9cbaa6",
      "metadata": {
        "id": "1a9cbaa6",
        "outputId": "f6e789ed-2a8a-4a36-ab31-d0e63f405fd4"
      },
      "outputs": [
        {
          "name": "stdout",
          "output_type": "stream",
          "text": [
            "1 Hello World\n",
            "2 Hello World\n",
            "3 Hello World\n",
            "4 Hello World\n"
          ]
        }
      ],
      "source": [
        "for i in range(1,5):\n",
        "    print(i,\"Hello World\")"
      ]
    },
    {
      "cell_type": "code",
      "execution_count": null,
      "id": "7b98d773",
      "metadata": {
        "id": "7b98d773",
        "outputId": "ac03999f-0bbe-4a32-fd6e-7bcd1234d775"
      },
      "outputs": [
        {
          "name": "stdout",
          "output_type": "stream",
          "text": [
            "1 Hello World\n",
            "4 Hello World\n",
            "7 Hello World\n"
          ]
        }
      ],
      "source": [
        "for i in range(1,10,3):\n",
        "    print(i,\"Hello World\")"
      ]
    },
    {
      "cell_type": "code",
      "execution_count": null,
      "id": "955cf3fc",
      "metadata": {
        "id": "955cf3fc",
        "outputId": "dd5f5c50-33cb-4967-d28d-4bff25f312d2"
      },
      "outputs": [
        {
          "name": "stdout",
          "output_type": "stream",
          "text": [
            "5 Hello World\n",
            "4 Hello World\n",
            "3 Hello World\n",
            "2 Hello World\n",
            "1 Hello World\n"
          ]
        }
      ],
      "source": [
        "for i in range(5,0,-1):\n",
        "    print(i,\"Hello World\")"
      ]
    },
    {
      "cell_type": "code",
      "execution_count": null,
      "id": "9d9d0295",
      "metadata": {
        "id": "9d9d0295",
        "outputId": "ca0888f9-a9bd-497a-c77e-9439c10244d0"
      },
      "outputs": [
        {
          "name": "stdout",
          "output_type": "stream",
          "text": [
            "Enter a = 5\n",
            "5\n",
            "10\n",
            "15\n",
            "20\n",
            "25\n",
            "30\n",
            "35\n",
            "40\n",
            "45\n",
            "50\n"
          ]
        }
      ],
      "source": [
        "a = int(input(\"Enter a = \"))\n",
        "for i in range(1,11):\n",
        "    print(a*i)"
      ]
    },
    {
      "cell_type": "code",
      "execution_count": null,
      "id": "0ad236d5",
      "metadata": {
        "id": "0ad236d5",
        "outputId": "e1e0a4e9-2e34-41b8-b8d8-4659212fdbaa"
      },
      "outputs": [
        {
          "name": "stdout",
          "output_type": "stream",
          "text": [
            "Enter a = 5\n",
            "5 * 1 = 5\n",
            "5 * 2 = 10\n",
            "5 * 3 = 15\n",
            "5 * 4 = 20\n",
            "5 * 5 = 25\n",
            "5 * 6 = 30\n",
            "5 * 7 = 35\n",
            "5 * 8 = 40\n",
            "5 * 9 = 45\n",
            "5 * 10 = 50\n"
          ]
        }
      ],
      "source": [
        "a = int(input(\"Enter a = \"))\n",
        "for i in range(1,11):\n",
        "    print(a,\"*\",i,\"=\",a*i)"
      ]
    },
    {
      "cell_type": "code",
      "execution_count": null,
      "id": "531a69a2",
      "metadata": {
        "id": "531a69a2",
        "outputId": "424315e5-573e-44ce-855e-ec43fda4766a"
      },
      "outputs": [
        {
          "name": "stdout",
          "output_type": "stream",
          "text": [
            "Enter a = 10\n",
            "Enter a = 20\n"
          ]
        }
      ],
      "source": [
        "for i in range(2):\n",
        "    a = int(input(\"Enter a = \"))"
      ]
    },
    {
      "cell_type": "code",
      "execution_count": null,
      "id": "ccad4426",
      "metadata": {
        "id": "ccad4426",
        "outputId": "70e81f4a-c7e7-4564-8f87-1a8aa5d34429"
      },
      "outputs": [
        {
          "name": "stdout",
          "output_type": "stream",
          "text": [
            "Enter a = 1000\n",
            "1000\n",
            "Enter a = 2000\n",
            "3000\n",
            "Enter a = 1500\n",
            "4500\n",
            "Enter a = 4000\n",
            "8500\n",
            "Enter a = 2000\n",
            "10500\n",
            "Enter a = 1000\n",
            "11500\n"
          ]
        }
      ],
      "source": [
        "s = 0\n",
        "for i in range(6):\n",
        "    a = int(input(\"Enter a = \"))\n",
        "    s = s + a\n",
        "    print(s)"
      ]
    },
    {
      "cell_type": "code",
      "execution_count": 1,
      "id": "41644404",
      "metadata": {
        "id": "41644404",
        "outputId": "e62747ba-8680-4190-aae9-e1faa44cee37",
        "colab": {
          "base_uri": "https://localhost:8080/"
        }
      },
      "outputs": [
        {
          "output_type": "stream",
          "name": "stdout",
          "text": [
            "Enter name = Ram Dahal\n",
            "Enter phone no = 9870987653\n",
            "Enter name = Shyam Dhakal\n",
            "Enter phone no = 9087654321\n",
            " Ram Dahal9870987653\n",
            "Shyam Dhakal9087654321\n",
            "\n"
          ]
        }
      ],
      "source": [
        "#s = str()\n",
        "s = \" \"\n",
        "for i in range(2):\n",
        "    name = input (\"Enter name = \")\n",
        "    phone = input(\"Enter phone no = \")\n",
        "    s = s + name + phone + \"\\n\"\n",
        "\n",
        "print(s)"
      ]
    },
    {
      "cell_type": "code",
      "execution_count": 2,
      "id": "0f316acf",
      "metadata": {
        "id": "0f316acf",
        "outputId": "24c36708-ec9f-413e-bfb4-3afa3805d163",
        "colab": {
          "base_uri": "https://localhost:8080/"
        }
      },
      "outputs": [
        {
          "output_type": "stream",
          "name": "stdout",
          "text": [
            "Enter n =2\n",
            "Enter name = Mira Acharya\n",
            "Enter phone no = 9807890876\n",
            "Enter name = Rita Dahal\n",
            "Enter phone no = 98709876553\n",
            " Mira Acharya 9807890876\n",
            "Rita Dahal 98709876553\n",
            "\n"
          ]
        }
      ],
      "source": [
        "s = \" \"\n",
        "n = int(input(\"Enter n =\"))\n",
        "for i in range(n):\n",
        "    name = input(\"Enter name = \")\n",
        "    phone = input(\"Enter phone no = \")\n",
        "    s = s + name + \" \" + phone + \"\\n\"\n",
        "\n",
        "print(s)"
      ]
    },
    {
      "cell_type": "code",
      "execution_count": 3,
      "id": "9fee136d",
      "metadata": {
        "id": "9fee136d",
        "outputId": "ce4ea2cd-ea76-401b-e8da-f23d5167348e",
        "colab": {
          "base_uri": "https://localhost:8080/"
        }
      },
      "outputs": [
        {
          "output_type": "stream",
          "name": "stdout",
          "text": [
            "Enter n = 2\n",
            "Enter name = Gita Shrestha\n",
            "Enter price = 2000\n",
            "Enter quantity = 3\n",
            "Enter name = Sita Devi\n",
            "Enter price = 4500\n",
            "Enter quantity = 1\n",
            " Gita Shrestha 2000 3.0 6000.0\n",
            "Sita Devi 4500 1.0 4500.0\n",
            "\n",
            "10500.0\n"
          ]
        }
      ],
      "source": [
        "bill = \" \"\n",
        "all_total = 0\n",
        "n = int(input(\"Enter n = \"))\n",
        "for i in range (n):\n",
        "    name = input(\"Enter name = \")\n",
        "    price = int(input(\"Enter price = \"))\n",
        "    quantity = float(input(\"Enter quantity = \"))\n",
        "    total = price * quantity\n",
        "    bill= bill +name + \" \" + str(price) + \" \" + str(quantity) + \" \" + str(total) + \"\\n\"\n",
        "    all_total= all_total + total\n",
        "\n",
        "print(bill)\n",
        "print(all_total)"
      ]
    },
    {
      "cell_type": "code",
      "source": [
        "s = 1\n",
        "n = int(input(\"Enter n =\"))\n",
        "for i in range(1, n+1):\n",
        "    s = s * i\n",
        "\n",
        "print(s)\n",
        ""
      ],
      "metadata": {
        "id": "xUplL6fLivrf",
        "outputId": "4a40c76b-5f73-477e-bc8b-76f63b4137ba",
        "colab": {
          "base_uri": "https://localhost:8080/"
        }
      },
      "id": "xUplL6fLivrf",
      "execution_count": 4,
      "outputs": [
        {
          "output_type": "stream",
          "name": "stdout",
          "text": [
            "Enter n =5\n",
            "120\n"
          ]
        }
      ]
    },
    {
      "cell_type": "code",
      "source": [
        "s = 0\n",
        "n = int(input(\"Enter n =\"))\n",
        "for i in range(1, n+1):\n",
        "    s = s + i\n",
        "\n",
        "print(s)"
      ],
      "metadata": {
        "id": "K4oc3ksQiv7Q",
        "outputId": "e80a0875-05eb-42ae-a272-53c3501b43b3",
        "colab": {
          "base_uri": "https://localhost:8080/"
        }
      },
      "id": "K4oc3ksQiv7Q",
      "execution_count": 5,
      "outputs": [
        {
          "output_type": "stream",
          "name": "stdout",
          "text": [
            "Enter n =100\n",
            "5050\n"
          ]
        }
      ]
    },
    {
      "cell_type": "code",
      "source": [
        "n = 5\n",
        "for i in range(5):\n",
        "    print(i * \"*\")"
      ],
      "metadata": {
        "id": "CpQWCcGGiv92",
        "outputId": "8d7adc21-0d5a-4f40-a96e-b8441c3d85cf",
        "colab": {
          "base_uri": "https://localhost:8080/"
        }
      },
      "id": "CpQWCcGGiv92",
      "execution_count": 6,
      "outputs": [
        {
          "output_type": "stream",
          "name": "stdout",
          "text": [
            "\n",
            "*\n",
            "**\n",
            "***\n",
            "****\n"
          ]
        }
      ]
    },
    {
      "cell_type": "code",
      "source": [
        "n = 10\n",
        "for i in range(10):\n",
        "    print((n-1)* \"\",2*i * \"*\")"
      ],
      "metadata": {
        "id": "oYMLyCuaiwBN",
        "outputId": "4670f1c6-cb87-4895-bbe8-2f38ddd61404",
        "colab": {
          "base_uri": "https://localhost:8080/"
        }
      },
      "id": "oYMLyCuaiwBN",
      "execution_count": 7,
      "outputs": [
        {
          "output_type": "stream",
          "name": "stdout",
          "text": [
            " \n",
            " **\n",
            " ****\n",
            " ******\n",
            " ********\n",
            " **********\n",
            " ************\n",
            " **************\n",
            " ****************\n",
            " ******************\n"
          ]
        }
      ]
    },
    {
      "cell_type": "code",
      "source": [
        "n = 15\n",
        "for i in range(1,15):\n",
        "    print((n-i)*\" \",(2*i-1) * \"*\")"
      ],
      "metadata": {
        "id": "bQ0Bn9egjBK_",
        "outputId": "6e67c3c4-6b67-4093-c619-97a54ededff6",
        "colab": {
          "base_uri": "https://localhost:8080/"
        }
      },
      "id": "bQ0Bn9egjBK_",
      "execution_count": 8,
      "outputs": [
        {
          "output_type": "stream",
          "name": "stdout",
          "text": [
            "               *\n",
            "              ***\n",
            "             *****\n",
            "            *******\n",
            "           *********\n",
            "          ***********\n",
            "         *************\n",
            "        ***************\n",
            "       *****************\n",
            "      *******************\n",
            "     *********************\n",
            "    ***********************\n",
            "   *************************\n",
            "  ***************************\n"
          ]
        }
      ]
    },
    {
      "cell_type": "code",
      "source": [
        "n = 10\n",
        "for i in range(1,n):\n",
        "    print((n-i)*\" \",(2*i-1) * \"0\")\n",
        "\n",
        "for i in range(n,-1,-1):\n",
        "    print((n-i)*\" \",(2*i-1) * \"0\")"
      ],
      "metadata": {
        "id": "kYpyBOxfjBN5",
        "outputId": "643852b5-eb2e-45c0-d3e7-fa90d1dc6871",
        "colab": {
          "base_uri": "https://localhost:8080/"
        }
      },
      "id": "kYpyBOxfjBN5",
      "execution_count": 9,
      "outputs": [
        {
          "output_type": "stream",
          "name": "stdout",
          "text": [
            "          0\n",
            "         000\n",
            "        00000\n",
            "       0000000\n",
            "      000000000\n",
            "     00000000000\n",
            "    0000000000000\n",
            "   000000000000000\n",
            "  00000000000000000\n",
            " 0000000000000000000\n",
            "  00000000000000000\n",
            "   000000000000000\n",
            "    0000000000000\n",
            "     00000000000\n",
            "      000000000\n",
            "       0000000\n",
            "        00000\n",
            "         000\n",
            "          0\n",
            "           \n"
          ]
        }
      ]
    },
    {
      "cell_type": "code",
      "source": [
        "# loop in string"
      ],
      "metadata": {
        "id": "KKuGv4GejBRO"
      },
      "id": "KKuGv4GejBRO",
      "execution_count": null,
      "outputs": []
    },
    {
      "cell_type": "code",
      "source": [
        "a = \"Hello world\"\n",
        "for i in a:\n",
        "    print(i)"
      ],
      "metadata": {
        "id": "_93tuIw1jOTx",
        "outputId": "3e7b0243-c1f3-4f97-eee0-493f5cdf4a78",
        "colab": {
          "base_uri": "https://localhost:8080/"
        }
      },
      "id": "_93tuIw1jOTx",
      "execution_count": 10,
      "outputs": [
        {
          "output_type": "stream",
          "name": "stdout",
          "text": [
            "H\n",
            "e\n",
            "l\n",
            "l\n",
            "o\n",
            " \n",
            "w\n",
            "o\n",
            "r\n",
            "l\n",
            "d\n"
          ]
        }
      ]
    },
    {
      "cell_type": "code",
      "source": [
        "a = \"Hello\"\n",
        "for i in a:\n",
        "    print(i, \"Hello\")"
      ],
      "metadata": {
        "id": "iXWIK5jpjOWP",
        "outputId": "eb4ef588-9657-465d-d0d4-c572123b3c4f",
        "colab": {
          "base_uri": "https://localhost:8080/"
        }
      },
      "id": "iXWIK5jpjOWP",
      "execution_count": 11,
      "outputs": [
        {
          "output_type": "stream",
          "name": "stdout",
          "text": [
            "H Hello\n",
            "e Hello\n",
            "l Hello\n",
            "l Hello\n",
            "o Hello\n"
          ]
        }
      ]
    },
    {
      "cell_type": "code",
      "source": [
        "a = \"Hello world\"\n",
        "for i in a:\n",
        "    print(i, end =\"+\") #end prints horizontally"
      ],
      "metadata": {
        "id": "CTaPYLRkjOYn",
        "outputId": "5ac0c59f-9f12-4773-cb35-659eac6c01a5",
        "colab": {
          "base_uri": "https://localhost:8080/"
        }
      },
      "id": "CTaPYLRkjOYn",
      "execution_count": 12,
      "outputs": [
        {
          "output_type": "stream",
          "name": "stdout",
          "text": [
            "H+e+l+l+o+ +w+o+r+l+d+"
          ]
        }
      ]
    },
    {
      "cell_type": "code",
      "source": [
        "a = \"Good Morning\"\n",
        "for i in a:\n",
        "    if i != \" \":\n",
        "        print(i,end = \"\")"
      ],
      "metadata": {
        "id": "59fP-JiyjOc_",
        "outputId": "9e3a17c8-ba8e-440e-c255-36529964eb1b",
        "colab": {
          "base_uri": "https://localhost:8080/"
        }
      },
      "id": "59fP-JiyjOc_",
      "execution_count": 13,
      "outputs": [
        {
          "output_type": "stream",
          "name": "stdout",
          "text": [
            "GoodMorning"
          ]
        }
      ]
    },
    {
      "cell_type": "code",
      "source": [
        "for i in range(0,21):\n",
        "    if i%2==0:\n",
        "        print(i)"
      ],
      "metadata": {
        "id": "bP0nXVnejOfD",
        "outputId": "63f5949a-4652-4fb4-fbd2-03cc9eb9757a",
        "colab": {
          "base_uri": "https://localhost:8080/"
        }
      },
      "id": "bP0nXVnejOfD",
      "execution_count": 14,
      "outputs": [
        {
          "output_type": "stream",
          "name": "stdout",
          "text": [
            "0\n",
            "2\n",
            "4\n",
            "6\n",
            "8\n",
            "10\n",
            "12\n",
            "14\n",
            "16\n",
            "18\n",
            "20\n"
          ]
        }
      ]
    },
    {
      "cell_type": "code",
      "source": [
        "for i in range(0,21):\n",
        "    if i%2!=0:\n",
        "        print(i)"
      ],
      "metadata": {
        "id": "oBFRVTlQjOii",
        "outputId": "3405107e-704a-4483-8066-3adf709cf5ed",
        "colab": {
          "base_uri": "https://localhost:8080/"
        }
      },
      "id": "oBFRVTlQjOii",
      "execution_count": 15,
      "outputs": [
        {
          "output_type": "stream",
          "name": "stdout",
          "text": [
            "1\n",
            "3\n",
            "5\n",
            "7\n",
            "9\n",
            "11\n",
            "13\n",
            "15\n",
            "17\n",
            "19\n"
          ]
        }
      ]
    },
    {
      "cell_type": "code",
      "source": [
        "a= \"Hello World . I am python!\"\n",
        "for i in a:\n",
        "    if i !=\".\" and i!=\"!\": #and is used as true and true result is true and true and false is false.\n",
        "        print(i, end =\"\")"
      ],
      "metadata": {
        "id": "eXrwarpxjOm6",
        "outputId": "76e2fd7c-b804-4400-8da6-88fac9f01921",
        "colab": {
          "base_uri": "https://localhost:8080/"
        }
      },
      "id": "eXrwarpxjOm6",
      "execution_count": 16,
      "outputs": [
        {
          "output_type": "stream",
          "name": "stdout",
          "text": [
            "Hello World  I am python"
          ]
        }
      ]
    }
  ],
  "metadata": {
    "kernelspec": {
      "display_name": "Python 3 (ipykernel)",
      "language": "python",
      "name": "python3"
    },
    "language_info": {
      "codemirror_mode": {
        "name": "ipython",
        "version": 3
      },
      "file_extension": ".py",
      "mimetype": "text/x-python",
      "name": "python",
      "nbconvert_exporter": "python",
      "pygments_lexer": "ipython3",
      "version": "3.9.12"
    },
    "colab": {
      "provenance": [],
      "include_colab_link": true
    }
  },
  "nbformat": 4,
  "nbformat_minor": 5
}