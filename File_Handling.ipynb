{
  "cells": [
    {
      "cell_type": "markdown",
      "metadata": {
        "id": "view-in-github",
        "colab_type": "text"
      },
      "source": [
        "<a href=\"https://colab.research.google.com/github/subarna007/pythonclass/blob/main/File_Handling.ipynb\" target=\"_parent\"><img src=\"https://colab.research.google.com/assets/colab-badge.svg\" alt=\"Open In Colab\"/></a>"
      ]
    },
    {
      "cell_type": "code",
      "execution_count": null,
      "id": "80ac9a5b",
      "metadata": {
        "id": "80ac9a5b"
      },
      "outputs": [],
      "source": [
        "# file = open('<file location>','<mode>')\n",
        "# <operations>\n",
        "# file.close"
      ]
    },
    {
      "cell_type": "code",
      "execution_count": null,
      "id": "d588063a",
      "metadata": {
        "id": "d588063a"
      },
      "outputs": [],
      "source": [
        "# with open('<file_name>','mode') as file:\n",
        "#     <operations>"
      ]
    },
    {
      "cell_type": "code",
      "execution_count": null,
      "id": "9e9cfb6c",
      "metadata": {
        "id": "9e9cfb6c"
      },
      "outputs": [],
      "source": [
        "# read -> r\n",
        "# write -> w\n",
        "# create -> x\n",
        "# append -> a"
      ]
    },
    {
      "cell_type": "code",
      "execution_count": null,
      "id": "40b6495d",
      "metadata": {
        "id": "40b6495d"
      },
      "outputs": [],
      "source": [
        "file = open('data.txt','x')\n",
        "file.close()"
      ]
    },
    {
      "cell_type": "code",
      "execution_count": null,
      "id": "b5c71934",
      "metadata": {
        "id": "b5c71934",
        "outputId": "8d26918b-f6ae-4e96-8700-febbd80a8ccc"
      },
      "outputs": [
        {
          "name": "stdout",
          "output_type": "stream",
          "text": [
            "1.Hello World\n",
            "2.Kathmandu\n",
            "3.Java\n",
            "4.Tribhuvan\n",
            "5.Sagarmatha\n"
          ]
        }
      ],
      "source": [
        "file = open('data.txt','r')\n",
        "x = file.read()\n",
        "print(x)\n",
        "file.close()"
      ]
    },
    {
      "cell_type": "code",
      "execution_count": null,
      "id": "3e22173d",
      "metadata": {
        "id": "3e22173d",
        "outputId": "f91b7469-2e7a-493d-d968-2cfbfb88727a"
      },
      "outputs": [
        {
          "data": {
            "text/plain": [
              "['1.Hello World', '2.Kathmandu', '3.Java', '4.Tribhuvan', '5.Sagarmatha']"
            ]
          },
          "execution_count": 4,
          "metadata": {},
          "output_type": "execute_result"
        }
      ],
      "source": [
        "x.split('\\n')"
      ]
    },
    {
      "cell_type": "code",
      "execution_count": null,
      "id": "afb1018c",
      "metadata": {
        "id": "afb1018c",
        "outputId": "cbf72d55-bd9f-4dac-dfdf-17d38bb33a53"
      },
      "outputs": [
        {
          "data": {
            "text/plain": [
              "'1.Hello World'"
            ]
          },
          "execution_count": 5,
          "metadata": {},
          "output_type": "execute_result"
        }
      ],
      "source": [
        "b = x.split('\\n')\n",
        "b[0]"
      ]
    },
    {
      "cell_type": "code",
      "execution_count": null,
      "id": "0c5b0cee",
      "metadata": {
        "id": "0c5b0cee"
      },
      "outputs": [],
      "source": [
        "# write\n",
        "file = open('data1.txt','w') #write mode le naya file afhaile create garxa if xaina vane\n",
        "file.write('Subarna Dahal') #write le only string support garxa\n",
        "file.close()"
      ]
    },
    {
      "cell_type": "code",
      "execution_count": null,
      "id": "cf5a9557",
      "metadata": {
        "id": "cf5a9557",
        "outputId": "b0b281f4-637e-479d-96a3-56a3ffde22e4"
      },
      "outputs": [
        {
          "name": "stdout",
          "output_type": "stream",
          "text": [
            "Enter Data : 3\n",
            "Enter the product name: Apple\n",
            "Enter the product price: 245\n",
            "Enter the product quantity: 3\n",
            "Enter the product name: Banana\n",
            "Enter the product price: 120\n",
            "Enter the product quantity: 6\n",
            "Enter the product name: Orange\n",
            "Enter the product price: 100\n",
            "Enter the product quantity: 5\n",
            "Product:Apple\t Price:245\t Quantity:3.0\t Total:735.0 \n",
            "Product:Banana\t Price:120\t Quantity:6.0\t Total:720.0 \n",
            "Product:Orange\t Price:100\t Quantity:5.0\t Total:500.0 \n",
            "\n"
          ]
        }
      ],
      "source": [
        "bill = str()\n",
        "n = int(input(\"Enter Data : \"))\n",
        "for i in range(n):\n",
        "    name = input(\"Enter the product name: \")\n",
        "    price = int(input(\"Enter the product price: \"))\n",
        "    quantity = float(input(\"Enter the product quantity: \"))\n",
        "\n",
        "    total = price * quantity\n",
        "\n",
        "    bill = bill + f\"Product:{name}\\t Price:{price}\\t Quantity:{quantity}\\t Total:{total} \\n\"\n",
        "\n",
        "print(bill)\n",
        "\n",
        "file = open('bill.txt','w')\n",
        "file.write(bill)\n",
        "file.close()\n"
      ]
    },
    {
      "cell_type": "code",
      "execution_count": null,
      "id": "638f3b9f",
      "metadata": {
        "id": "638f3b9f",
        "outputId": "a1701cdb-5e14-45a3-da91-d5248fa3ef68"
      },
      "outputs": [
        {
          "name": "stdout",
          "output_type": "stream",
          "text": [
            "['Product:Apple\\t Price:245\\t Quantity:4.0\\t Total:980.0 ', 'Product:Banana\\t Price:120\\t Quantity:6.0\\t Total:720.0 ', 'Product:Orange\\t Price:100\\t Quantity:2.0\\t Total:200.0 ', '']\n"
          ]
        }
      ],
      "source": [
        "file = open('bill.txt','r')\n",
        "x = file.read()\n",
        "print(x.split('\\n'))\n",
        "file.close()"
      ]
    },
    {
      "cell_type": "code",
      "execution_count": null,
      "id": "9e0c77e8",
      "metadata": {
        "id": "9e0c77e8",
        "outputId": "c92fdfbc-8443-4168-a990-59f23654f22d"
      },
      "outputs": [
        {
          "data": {
            "text/plain": [
              "['Product:Apple\\t Price:245\\t Quantity:4.0\\t Total:980.0 ',\n",
              " 'Product:Banana\\t Price:120\\t Quantity:6.0\\t Total:720.0 ',\n",
              " 'Product:Orange\\t Price:100\\t Quantity:2.0\\t Total:200.0 ']"
            ]
          },
          "execution_count": 42,
          "metadata": {},
          "output_type": "execute_result"
        }
      ],
      "source": [
        "y = x.split('\\n')[0:-1]\n",
        "y"
      ]
    },
    {
      "cell_type": "code",
      "execution_count": null,
      "id": "97d3e6a9",
      "metadata": {
        "id": "97d3e6a9",
        "outputId": "f91b2a97-1916-4460-842c-98d035f1ab6f"
      },
      "outputs": [
        {
          "data": {
            "text/plain": [
              "[['Product:Apple', ' Price:245', ' Quantity:4.0', ' Total:980.0 '],\n",
              " ['Product:Banana', ' Price:120', ' Quantity:6.0', ' Total:720.0 '],\n",
              " ['Product:Orange', ' Price:100', ' Quantity:2.0', ' Total:200.0 ']]"
            ]
          },
          "execution_count": 44,
          "metadata": {},
          "output_type": "execute_result"
        }
      ],
      "source": [
        "bills = [] #list inside list\n",
        "for i in y:\n",
        "    z = (i.split('\\t'))\n",
        "    bills.append(z)\n",
        "\n",
        "bills"
      ]
    },
    {
      "cell_type": "code",
      "execution_count": null,
      "id": "75e6d463",
      "metadata": {
        "id": "75e6d463",
        "outputId": "03638eea-cc31-4d89-d40a-e2ccd9154557"
      },
      "outputs": [
        {
          "data": {
            "text/plain": [
              "['Product:Apple', ' Price:245', ' Quantity:4.0', ' Total:980.0 ']"
            ]
          },
          "execution_count": 45,
          "metadata": {},
          "output_type": "execute_result"
        }
      ],
      "source": [
        "bills[0]"
      ]
    },
    {
      "cell_type": "code",
      "execution_count": null,
      "id": "17fd40f8",
      "metadata": {
        "id": "17fd40f8",
        "outputId": "290f51b2-efd6-425e-947e-841857d7acc0"
      },
      "outputs": [
        {
          "data": {
            "text/plain": [
              "' Quantity:4.0'"
            ]
          },
          "execution_count": 49,
          "metadata": {},
          "output_type": "execute_result"
        }
      ],
      "source": [
        "bills[0][2]\n",
        "#float(bills[0][2])"
      ]
    },
    {
      "cell_type": "code",
      "execution_count": null,
      "id": "27d8cceb",
      "metadata": {
        "id": "27d8cceb",
        "outputId": "151b8e34-7939-42e9-d501-c04de1b49ea6"
      },
      "outputs": [
        {
          "name": "stdout",
          "output_type": "stream",
          "text": [
            "Enter Data : 2\n",
            "Enter the product name: Apple\n",
            "Enter the product price: 200\n",
            "Enter the product quantity: 2\n",
            "Enter the product name: Banana\n",
            "Enter the product price: 3\n",
            "Enter the product quantity: 120\n",
            "Apple\t 200\t 2.0\t 400.0 \n",
            "Banana\t 3\t 120.0\t 360.0 \n",
            "\n"
          ]
        }
      ],
      "source": [
        "# bill = str()\n",
        "# n = int(input(\"Enter Data : \"))\n",
        "# for i in range(n):\n",
        "#     name = input(\"Enter the product name: \")\n",
        "#     price = int(input(\"Enter the product price: \"))\n",
        "#     quantity = float(input(\"Enter the product quantity: \"))\n",
        "\n",
        "#     total = price * quantity\n",
        "\n",
        "#     bill = bill + f\"{name}\\t {price}\\t {quantity}\\t {total} \\n\"\n",
        "\n",
        "# print(bill)\n",
        "\n",
        "# file = open('bill.txt','w')\n",
        "# file.write(bill)\n",
        "# file.close()\n"
      ]
    },
    {
      "cell_type": "code",
      "execution_count": null,
      "id": "dfc86ed5",
      "metadata": {
        "id": "dfc86ed5",
        "outputId": "b637a0d0-6936-4400-ec99-38ee5a5a3143"
      },
      "outputs": [
        {
          "data": {
            "text/plain": [
              "[['Product:Apple', ' Price:245', ' Quantity:4.0', ' Total:980.0 '],\n",
              " ['Product:Banana', ' Price:120', ' Quantity:6.0', ' Total:720.0 '],\n",
              " ['Product:Orange', ' Price:100', ' Quantity:2.0', ' Total:200.0 ']]"
            ]
          },
          "execution_count": 52,
          "metadata": {},
          "output_type": "execute_result"
        }
      ],
      "source": [
        "bills = [] #list inside list\n",
        "for i in y:\n",
        "    z = (i.split('\\t'))\n",
        "    bills.append(z)\n",
        "\n",
        "bills"
      ]
    },
    {
      "cell_type": "code",
      "execution_count": null,
      "id": "19ca56f8",
      "metadata": {
        "id": "19ca56f8"
      },
      "outputs": [],
      "source": []
    },
    {
      "cell_type": "code",
      "execution_count": null,
      "id": "b36242f2",
      "metadata": {
        "id": "b36242f2",
        "outputId": "5749ce93-6696-4477-e7b6-134d3495deee"
      },
      "outputs": [
        {
          "name": "stdout",
          "output_type": "stream",
          "text": [
            "['Product:Apple', ' Price:245', ' Quantity:4.0', ' Total:980.0 ']\n",
            "['Product:Banana', ' Price:120', ' Quantity:6.0', ' Total:720.0 ']\n",
            "['Product:Orange', ' Price:100', ' Quantity:2.0', ' Total:200.0 ']\n"
          ]
        }
      ],
      "source": [
        "y = (x.split('\\n'))\n",
        "print(y[0].split('\\t'))\n",
        "print(y[1].split('\\t'))\n",
        "print(y[2].split('\\t'))\n"
      ]
    },
    {
      "cell_type": "code",
      "execution_count": null,
      "id": "c75bf2ad",
      "metadata": {
        "id": "c75bf2ad",
        "outputId": "d330a027-237c-48c7-804b-a0816b3814e8"
      },
      "outputs": [
        {
          "name": "stdout",
          "output_type": "stream",
          "text": [
            "Product:Apple\t Price:245\t Quantity:4.0\t Total:980.0 \n",
            "Product:Banana\t Price:120\t Quantity:6.0\t Total:720.0 \n",
            "Product:Orange\t Price:100\t Quantity:2.0\t Total:200.0 \n",
            "\n"
          ]
        }
      ],
      "source": [
        "print(bill)"
      ]
    },
    {
      "cell_type": "code",
      "execution_count": null,
      "id": "995efe48",
      "metadata": {
        "id": "995efe48",
        "outputId": "c3105c5d-59f0-4836-def1-0e32321fe6d1"
      },
      "outputs": [
        {
          "data": {
            "text/plain": [
              "['Ram', 'Shyam', 'Hari']"
            ]
          },
          "execution_count": 23,
          "metadata": {},
          "output_type": "execute_result"
        }
      ],
      "source": [
        "a = \"Ram Shyam Hari\"\n",
        "a.split()"
      ]
    },
    {
      "cell_type": "code",
      "execution_count": null,
      "id": "5bd2e6c2",
      "metadata": {
        "id": "5bd2e6c2",
        "outputId": "579a2f01-7530-437c-f127-116e8f49e28a"
      },
      "outputs": [
        {
          "data": {
            "text/plain": [
              "['Ram', 'Shyam', 'Hari']"
            ]
          },
          "execution_count": 33,
          "metadata": {},
          "output_type": "execute_result"
        }
      ],
      "source": [
        "a = \"Ram_Shyam_Hari\"\n",
        "a.split('_')"
      ]
    },
    {
      "cell_type": "code",
      "execution_count": null,
      "id": "d0b138c0",
      "metadata": {
        "id": "d0b138c0",
        "outputId": "7211ec47-53c0-4bec-860c-683223e655b0"
      },
      "outputs": [
        {
          "name": "stdout",
          "output_type": "stream",
          "text": [
            "['Ram', 'Shyam', 'Hari']\n",
            "['Sita', 'Geeta', 'Mira']\n"
          ]
        }
      ],
      "source": [
        "a = \"Ram_Shyam_Hari\"\n",
        "b = \"Sita.Geeta.Mira\"\n",
        "print(a.split('_'))\n",
        "print(b.split('.'))"
      ]
    },
    {
      "cell_type": "code",
      "execution_count": null,
      "id": "b67e7d08",
      "metadata": {
        "id": "b67e7d08",
        "outputId": "a163bad4-b829-4fc0-cd5d-725e661100e7"
      },
      "outputs": [
        {
          "name": "stdout",
          "output_type": "stream",
          "text": [
            "Enter Data : 2\n",
            "Enter the product name: Apple\n",
            "Enter the product price: 245\n",
            "Enter the product quantity: 4\n",
            "Enter the product name: Banana\n",
            "Enter the product price: 125\n",
            "Enter the product quantity: 4\n",
            "Apple, 245, 4.0, 980.0 \n",
            "Banana, 125, 4.0, 500.0 \n",
            "\n"
          ]
        }
      ],
      "source": [
        "#csv files\n",
        "bill = str()\n",
        "n = int(input(\"Enter Data : \"))\n",
        "for i in range(n):\n",
        "    name = input(\"Enter the product name: \")\n",
        "    price = int(input(\"Enter the product price: \"))\n",
        "    quantity = float(input(\"Enter the product quantity: \"))\n",
        "\n",
        "    total = price * quantity\n",
        "\n",
        "    bill = bill + f\"{name}, {price}, {quantity}, {total} \\n\"\n",
        "\n",
        "print(bill)\n",
        "\n",
        "file = open('bill.csv','w')\n",
        "file.write('name,price,qty,total\\n')\n",
        "file.write(bill)\n",
        "file.close()"
      ]
    },
    {
      "cell_type": "code",
      "execution_count": null,
      "id": "6ac17396",
      "metadata": {
        "id": "6ac17396",
        "outputId": "ac47d7ec-3209-4807-b988-1bc9e2a3fcdf"
      },
      "outputs": [
        {
          "data": {
            "text/plain": [
              "'C:\\\\Users\\\\SU3ARNA\\\\Python_class'"
            ]
          },
          "execution_count": 2,
          "metadata": {},
          "output_type": "execute_result"
        }
      ],
      "source": [
        "pwd #current path of the directory"
      ]
    },
    {
      "cell_type": "code",
      "execution_count": null,
      "id": "36765532",
      "metadata": {
        "id": "36765532",
        "outputId": "5f144751-7bdf-4c70-dd13-f403c03383a7"
      },
      "outputs": [
        {
          "data": {
            "text/html": [
              "<div>\n",
              "<style scoped>\n",
              "    .dataframe tbody tr th:only-of-type {\n",
              "        vertical-align: middle;\n",
              "    }\n",
              "\n",
              "    .dataframe tbody tr th {\n",
              "        vertical-align: top;\n",
              "    }\n",
              "\n",
              "    .dataframe thead th {\n",
              "        text-align: right;\n",
              "    }\n",
              "</style>\n",
              "<table border=\"1\" class=\"dataframe\">\n",
              "  <thead>\n",
              "    <tr style=\"text-align: right;\">\n",
              "      <th></th>\n",
              "      <th>name</th>\n",
              "      <th>price</th>\n",
              "      <th>qty</th>\n",
              "      <th>total</th>\n",
              "    </tr>\n",
              "  </thead>\n",
              "  <tbody>\n",
              "    <tr>\n",
              "      <th>0</th>\n",
              "      <td>Apple</td>\n",
              "      <td>245</td>\n",
              "      <td>4.0</td>\n",
              "      <td>980.0</td>\n",
              "    </tr>\n",
              "    <tr>\n",
              "      <th>1</th>\n",
              "      <td>Banana</td>\n",
              "      <td>125</td>\n",
              "      <td>4.0</td>\n",
              "      <td>500.0</td>\n",
              "    </tr>\n",
              "  </tbody>\n",
              "</table>\n",
              "</div>"
            ],
            "text/plain": [
              "     name  price  qty  total\n",
              "0   Apple    245  4.0  980.0\n",
              "1  Banana    125  4.0  500.0"
            ]
          },
          "execution_count": 4,
          "metadata": {},
          "output_type": "execute_result"
        }
      ],
      "source": [
        "import pandas as pd\n",
        "df = pd.read_csv('bill.csv')\n",
        "df"
      ]
    },
    {
      "cell_type": "code",
      "execution_count": null,
      "id": "478218e8",
      "metadata": {
        "id": "478218e8"
      },
      "outputs": [],
      "source": []
    },
    {
      "cell_type": "code",
      "execution_count": null,
      "id": "cac8f51e",
      "metadata": {
        "id": "cac8f51e"
      },
      "outputs": [],
      "source": []
    },
    {
      "cell_type": "code",
      "execution_count": null,
      "id": "eccc90cd",
      "metadata": {
        "id": "eccc90cd"
      },
      "outputs": [],
      "source": []
    }
  ],
  "metadata": {
    "kernelspec": {
      "display_name": "Python 3 (ipykernel)",
      "language": "python",
      "name": "python3"
    },
    "language_info": {
      "codemirror_mode": {
        "name": "ipython",
        "version": 3
      },
      "file_extension": ".py",
      "mimetype": "text/x-python",
      "name": "python",
      "nbconvert_exporter": "python",
      "pygments_lexer": "ipython3",
      "version": "3.11.5"
    },
    "colab": {
      "provenance": [],
      "include_colab_link": true
    }
  },
  "nbformat": 4,
  "nbformat_minor": 5
}