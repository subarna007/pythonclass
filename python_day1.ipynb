{
  "nbformat": 4,
  "nbformat_minor": 0,
  "metadata": {
    "colab": {
      "provenance": [],
      "include_colab_link": true
    },
    "kernelspec": {
      "name": "python3",
      "display_name": "Python 3"
    },
    "language_info": {
      "name": "python"
    }
  },
  "cells": [
    {
      "cell_type": "markdown",
      "metadata": {
        "id": "view-in-github",
        "colab_type": "text"
      },
      "source": [
        "<a href=\"https://colab.research.google.com/github/subarna007/pythonclass/blob/main/python_day1.ipynb\" target=\"_parent\"><img src=\"https://colab.research.google.com/assets/colab-badge.svg\" alt=\"Open In Colab\"/></a>"
      ]
    },
    {
      "cell_type": "code",
      "execution_count": null,
      "metadata": {
        "colab": {
          "base_uri": "https://localhost:8080/"
        },
        "id": "wpFyeKiLPgtN",
        "outputId": "50298b12-8797-45df-afdc-b3170530899d"
      },
      "outputs": [
        {
          "output_type": "stream",
          "name": "stdout",
          "text": [
            "5\n"
          ]
        }
      ],
      "source": [
        "a=10\n",
        "b= a-5\n",
        "print(b)"
      ]
    },
    {
      "cell_type": "code",
      "source": [
        "a= True #true is 1\n",
        "b= False #false is 0\n",
        "c= a+b\n",
        "print(c)"
      ],
      "metadata": {
        "colab": {
          "base_uri": "https://localhost:8080/"
        },
        "id": "EVifQ2Z5T9qS",
        "outputId": "d4ad088b-4ab5-4a07-ccaf-4863a686a973"
      },
      "execution_count": null,
      "outputs": [
        {
          "output_type": "stream",
          "name": "stdout",
          "text": [
            "1\n"
          ]
        }
      ]
    },
    {
      "cell_type": "code",
      "source": [
        "a=\"10\" #   \"\" is str\n",
        "b=\"10\"\n",
        "c= a+b\n",
        "print(c)"
      ],
      "metadata": {
        "colab": {
          "base_uri": "https://localhost:8080/"
        },
        "id": "V5_1jLGcULbE",
        "outputId": "d53ba3d7-e263-4dab-f24f-ad68904b72ed"
      },
      "execution_count": null,
      "outputs": [
        {
          "output_type": "stream",
          "name": "stdout",
          "text": [
            "1010\n"
          ]
        }
      ]
    },
    {
      "cell_type": "code",
      "source": [
        "a=10 #var\n",
        "b=10\n",
        "c= a+b\n",
        "print(c)"
      ],
      "metadata": {
        "colab": {
          "base_uri": "https://localhost:8080/"
        },
        "id": "67MGN9NcUTSI",
        "outputId": "82c91870-f418-44d4-9f82-d84b1137a150"
      },
      "execution_count": null,
      "outputs": [
        {
          "output_type": "stream",
          "name": "stdout",
          "text": [
            "20\n"
          ]
        }
      ]
    },
    {
      "cell_type": "code",
      "source": [
        "a= 5                                         #int\n",
        "b= 5.5                                       #float\n",
        "c= \"hello world\"                             #string\n",
        "d= True                                      #boolean\n",
        "\n",
        "print(a,b,c,d)\n",
        "\n",
        "print(a)\n",
        "print(d)"
      ],
      "metadata": {
        "colab": {
          "base_uri": "https://localhost:8080/"
        },
        "id": "7jF9dFDgQWqS",
        "outputId": "9bd7a858-2de3-46cd-92cd-a940fefab205"
      },
      "execution_count": null,
      "outputs": [
        {
          "output_type": "stream",
          "name": "stdout",
          "text": [
            "5 5.5 hello world True\n",
            "5\n",
            "True\n"
          ]
        }
      ]
    },
    {
      "cell_type": "code",
      "source": [
        "a= 'hello world 10@#*&%'          #all are string , '' most use as main\n",
        "a= \"hello world\"          #used when statement is like \"ram's\"\n",
        "a= '''hello world'''"
      ],
      "metadata": {
        "id": "HY9ZsOV3TVR1"
      },
      "execution_count": null,
      "outputs": []
    },
    {
      "cell_type": "code",
      "source": [
        "a= 40\n",
        "b =20\n",
        "c = a + b\n",
        "c= a**b\n",
        "c=a*b\n",
        "c=b//a\n",
        "c=b/a\n",
        "\n",
        "print(c)\n",
        "print(a+b)\n",
        "print(a**b)  #power\n",
        "print(a*b)\n",
        "print(a/b)\n",
        "print(a//b)\n",
        "print(b/a)\n",
        "print(b//a) #float division , does not include value after .0\n",
        "print(a%b)  #remainder\n",
        "\n"
      ],
      "metadata": {
        "colab": {
          "base_uri": "https://localhost:8080/"
        },
        "id": "Tt2DmIUVXVna",
        "outputId": "bf76d42d-86be-4141-946d-2b30e00d5ffd"
      },
      "execution_count": null,
      "outputs": [
        {
          "output_type": "stream",
          "name": "stdout",
          "text": [
            "0.5\n",
            "60\n",
            "109951162777600000000000000000000\n",
            "800\n",
            "2.0\n",
            "2\n",
            "0.5\n",
            "0\n",
            "0\n"
          ]
        }
      ]
    },
    {
      "cell_type": "code",
      "source": [
        "a= 10  #int\n",
        "a= \"10\"  #str becz of \"\""
      ],
      "metadata": {
        "id": "hs5Pu0uGTWXS"
      },
      "execution_count": null,
      "outputs": []
    },
    {
      "cell_type": "code",
      "source": [
        "a = \"Hello \"  # giving space is also a character\n",
        "b = \"world\"\n",
        "c= a+b   #string concatination\n",
        "print(c)\n",
        "print(type(c))\n"
      ],
      "metadata": {
        "colab": {
          "base_uri": "https://localhost:8080/"
        },
        "id": "M2LjAHNXY9hL",
        "outputId": "efd1ea32-0469-4f3a-ea86-5f244991a671"
      },
      "execution_count": null,
      "outputs": [
        {
          "output_type": "stream",
          "name": "stdout",
          "text": [
            "Hello world\n",
            "<class 'str'>\n"
          ]
        }
      ]
    },
    {
      "cell_type": "code",
      "source": [
        "a = \"hello \"\n",
        "print(a*2)"
      ],
      "metadata": {
        "colab": {
          "base_uri": "https://localhost:8080/"
        },
        "id": "aNLuGAX8ZY_N",
        "outputId": "da4fcc54-670f-443c-b1ba-0974ccd904d7"
      },
      "execution_count": null,
      "outputs": [
        {
          "output_type": "stream",
          "name": "stdout",
          "text": [
            "hellohello\n"
          ]
        }
      ]
    },
    {
      "cell_type": "code",
      "source": [],
      "metadata": {
        "id": "4xKsLr2NZ5RW"
      },
      "execution_count": null,
      "outputs": []
    },
    {
      "cell_type": "code",
      "source": [
        "a= True   #bool\n",
        "a= true   #variable\n",
        "hello #var = \"hello world\" #valuve  (#var start with alphabet and cannot start with number and cannot have space between, if you wanna put space use _)"
      ],
      "metadata": {
        "id": "19-lGJB7R72Q"
      },
      "execution_count": null,
      "outputs": []
    },
    {
      "cell_type": "code",
      "source": [
        "#operators\n",
        "#arithmetic operators + - * / ** // %"
      ],
      "metadata": {
        "id": "63LwNzKBW154"
      },
      "execution_count": null,
      "outputs": []
    },
    {
      "cell_type": "code",
      "source": [
        "a=10\n",
        "print(a)\n",
        "print(type(a))"
      ],
      "metadata": {
        "colab": {
          "base_uri": "https://localhost:8080/"
        },
        "id": "Zve6JLgxVosM",
        "outputId": "e1d353a8-972f-4c69-fdd8-eb4a73c6a573"
      },
      "execution_count": null,
      "outputs": [
        {
          "output_type": "stream",
          "name": "stdout",
          "text": [
            "10\n",
            "<class 'int'>\n"
          ]
        }
      ]
    },
    {
      "cell_type": "code",
      "source": [
        "true =\"hello\"\n",
        "d= true\n",
        "print(d)"
      ],
      "metadata": {
        "colab": {
          "base_uri": "https://localhost:8080/"
        },
        "id": "oH0usBbZVC2a",
        "outputId": "1b2cd9fc-bfc6-413f-9032-d3030c4971a0"
      },
      "execution_count": null,
      "outputs": [
        {
          "output_type": "stream",
          "name": "stdout",
          "text": [
            "hello\n"
          ]
        }
      ]
    },
    {
      "cell_type": "code",
      "source": [
        "a=5\n",
        "b=5.5\n",
        "c=b*a\n",
        "d=c-a+b\n",
        "\n",
        "print(d)"
      ],
      "metadata": {
        "colab": {
          "base_uri": "https://localhost:8080/"
        },
        "id": "DuT-iBGKRH1h",
        "outputId": "63ba085c-852b-4dea-8ebb-f5b4e1330519"
      },
      "execution_count": null,
      "outputs": [
        {
          "output_type": "stream",
          "name": "stdout",
          "text": [
            "28.0\n"
          ]
        }
      ]
    },
    {
      "cell_type": "code",
      "source": [
        "a=\"hello\"\n",
        "b=\"world\"\n",
        "print(a+b)"
      ],
      "metadata": {
        "colab": {
          "base_uri": "https://localhost:8080/"
        },
        "id": "xRFppDuKRSp4",
        "outputId": "eb50b4d4-f888-4572-9d51-fda327a0853a"
      },
      "execution_count": null,
      "outputs": [
        {
          "output_type": "stream",
          "name": "stdout",
          "text": [
            "helloworld\n"
          ]
        }
      ]
    },
    {
      "cell_type": "code",
      "source": [
        "a=\"hello\"\n",
        "b=\"world\"\n",
        "print(a + b)"
      ],
      "metadata": {
        "colab": {
          "base_uri": "https://localhost:8080/"
        },
        "id": "1Y2COtNOR-Ag",
        "outputId": "6c4edffc-f856-4bad-fa6f-ab4cf4658db4"
      },
      "execution_count": null,
      "outputs": [
        {
          "output_type": "stream",
          "name": "stdout",
          "text": [
            "helloworld\n"
          ]
        }
      ]
    },
    {
      "cell_type": "code",
      "source": [
        "a= input(\"enter a=\") #taking value from user\n",
        "print(a)\n",
        "b= input()\n",
        "print(b)"
      ],
      "metadata": {
        "colab": {
          "base_uri": "https://localhost:8080/"
        },
        "id": "_tIYeflVYX4a",
        "outputId": "b8ee4621-1860-4ae6-b55f-43221a5eb13f"
      },
      "execution_count": null,
      "outputs": [
        {
          "output_type": "stream",
          "name": "stdout",
          "text": [
            "enter a=7\n",
            "7\n",
            "9\n",
            "9\n"
          ]
        }
      ]
    },
    {
      "cell_type": "code",
      "source": [
        "a= input(\"Enter a=\")  #value is taken as str\n",
        "b=input(\"Enter b=\")\n",
        "c= a+b\n",
        "print(c)"
      ],
      "metadata": {
        "colab": {
          "base_uri": "https://localhost:8080/"
        },
        "id": "a6Temm1-YjII",
        "outputId": "bb137fc5-a124-4f6a-f669-34f34728ede0"
      },
      "execution_count": null,
      "outputs": [
        {
          "output_type": "stream",
          "name": "stdout",
          "text": [
            "Enter a=10\n",
            "Enter b=20\n",
            "1020\n"
          ]
        }
      ]
    },
    {
      "cell_type": "code",
      "source": [
        "a= int(input(\"Enter a=\")) #value is taken as integer ,str data is converted to integer its called typecasting\n",
        "b=int(input(\"Enter b=\"))\n",
        "c= a+b\n",
        "print(c)"
      ],
      "metadata": {
        "colab": {
          "base_uri": "https://localhost:8080/"
        },
        "id": "qBOsq-QAYjJ0",
        "outputId": "303ec8ff-2e6e-47a2-f9e3-fab756c952c9"
      },
      "execution_count": null,
      "outputs": [
        {
          "output_type": "stream",
          "name": "stdout",
          "text": [
            "Enter a=10\n",
            "Enter b=20\n",
            "30\n"
          ]
        }
      ]
    },
    {
      "cell_type": "code",
      "source": [
        "p=int(input(\"Enter p=\"))\n",
        "t=float(input(\"Enter t=\"))\n",
        "r=float(input(\"Enter r=\"))\n",
        "i= p*t*r/100\n",
        "print(i)"
      ],
      "metadata": {
        "colab": {
          "base_uri": "https://localhost:8080/"
        },
        "id": "L3vJnil4YjO4",
        "outputId": "196c5ecf-6bf6-407f-a691-4f1a286ee178"
      },
      "execution_count": null,
      "outputs": [
        {
          "output_type": "stream",
          "name": "stdout",
          "text": [
            "Enter p=1000\n",
            "Enter t=4\n",
            "Enter r=8\n",
            "320.0\n"
          ]
        }
      ]
    },
    {
      "cell_type": "code",
      "source": [
        "a=10\n",
        "str(a)"
      ],
      "metadata": {
        "colab": {
          "base_uri": "https://localhost:8080/",
          "height": 36
        },
        "id": "yIiGnoPeYjSQ",
        "outputId": "e5997419-6b6d-4cc5-e89b-9001d5332b0c"
      },
      "execution_count": null,
      "outputs": [
        {
          "output_type": "execute_result",
          "data": {
            "text/plain": [
              "'10'"
            ],
            "application/vnd.google.colaboratory.intrinsic+json": {
              "type": "string"
            }
          },
          "metadata": {},
          "execution_count": 15
        }
      ]
    },
    {
      "cell_type": "code",
      "source": [
        "float(a)"
      ],
      "metadata": {
        "colab": {
          "base_uri": "https://localhost:8080/"
        },
        "id": "3g2vvfIfYjm2",
        "outputId": "0837309e-558b-4fc5-9277-13de7564bf74"
      },
      "execution_count": null,
      "outputs": [
        {
          "output_type": "execute_result",
          "data": {
            "text/plain": [
              "10.0"
            ]
          },
          "metadata": {},
          "execution_count": 16
        }
      ]
    },
    {
      "cell_type": "code",
      "source": [
        "bool(a)"
      ],
      "metadata": {
        "colab": {
          "base_uri": "https://localhost:8080/"
        },
        "id": "p5QdCDZOcuZo",
        "outputId": "265c7eed-ce94-467e-e027-cd9cdd367dbf"
      },
      "execution_count": null,
      "outputs": [
        {
          "output_type": "execute_result",
          "data": {
            "text/plain": [
              "True"
            ]
          },
          "metadata": {},
          "execution_count": 17
        }
      ]
    },
    {
      "cell_type": "code",
      "source": [
        "name = input(\"Enter name =\")\n",
        "age = int(input(\"Enter age =\"))\n",
        "address = input(\"Enter address =\")\n",
        "info = \"Hello World i am \" + name + \" I am \"+ str(age) + \" years old and I am from \" + address  #age is int and cannot concatenate with str so converted into str\n",
        "print(info)"
      ],
      "metadata": {
        "colab": {
          "base_uri": "https://localhost:8080/"
        },
        "id": "aN8o1gvhdSU8",
        "outputId": "6735481f-3ef1-4578-8073-92f3e2f4f4de"
      },
      "execution_count": null,
      "outputs": [
        {
          "output_type": "stream",
          "name": "stdout",
          "text": [
            "Enter name =subarna dahal\n",
            "Enter age =18\n",
            "Enter address =janakpur\n",
            "Hello World i am subarna dahal I am 18 years old and I am from janakpur\n"
          ]
        }
      ]
    },
    {
      "cell_type": "code",
      "source": [],
      "metadata": {
        "id": "voTNHslkdSXU"
      },
      "execution_count": null,
      "outputs": []
    },
    {
      "cell_type": "code",
      "source": [],
      "metadata": {
        "id": "Spkf_cWpdSby"
      },
      "execution_count": null,
      "outputs": []
    },
    {
      "cell_type": "code",
      "source": [],
      "metadata": {
        "id": "aj9Ae_mQdSeX"
      },
      "execution_count": null,
      "outputs": []
    },
    {
      "cell_type": "code",
      "source": [],
      "metadata": {
        "id": "p1Izmv0gdSgM"
      },
      "execution_count": null,
      "outputs": []
    },
    {
      "cell_type": "code",
      "source": [],
      "metadata": {
        "id": "yMTahperdShs"
      },
      "execution_count": null,
      "outputs": []
    },
    {
      "cell_type": "code",
      "source": [],
      "metadata": {
        "id": "QAV8LifidSjd"
      },
      "execution_count": null,
      "outputs": []
    },
    {
      "cell_type": "code",
      "source": [],
      "metadata": {
        "id": "isIEmCaFdSmy"
      },
      "execution_count": null,
      "outputs": []
    }
  ]
}