{
  "cells": [
    {
      "cell_type": "markdown",
      "metadata": {
        "id": "view-in-github",
        "colab_type": "text"
      },
      "source": [
        "<a href=\"https://colab.research.google.com/github/subarna007/pythonclass/blob/main/string_formatting.ipynb\" target=\"_parent\"><img src=\"https://colab.research.google.com/assets/colab-badge.svg\" alt=\"Open In Colab\"/></a>"
      ]
    },
    {
      "cell_type": "code",
      "execution_count": null,
      "id": "b045b5a9",
      "metadata": {
        "id": "b045b5a9"
      },
      "outputs": [],
      "source": [
        "#string Formatting"
      ]
    },
    {
      "cell_type": "code",
      "execution_count": null,
      "id": "84df0022",
      "metadata": {
        "id": "84df0022",
        "outputId": "234fa628-97dc-4223-e08a-8190ae05995e"
      },
      "outputs": [
        {
          "name": "stdout",
          "output_type": "stream",
          "text": [
            "Hello I am Ram I am 34 years old I am from Kathmandu\n"
          ]
        }
      ],
      "source": [
        "name = \"Ram\"\n",
        "age = 34\n",
        "address = \"Kathmandu\"\n",
        "\n",
        "info = \"Hello I am \" + name + \" I am \"+ str(age)+\" years old\" + \" I am from \" + str(address)\n",
        "print(info)"
      ]
    },
    {
      "cell_type": "code",
      "execution_count": null,
      "id": "930e5e6a",
      "metadata": {
        "id": "930e5e6a",
        "outputId": "81c0ccc4-0f23-4b07-bc76-36d7431985b3"
      },
      "outputs": [
        {
          "name": "stdout",
          "output_type": "stream",
          "text": [
            "Hello World Ram. I am 34. I am from Kathmandu\n"
          ]
        }
      ],
      "source": [
        "name = \"Ram\"\n",
        "age = 34\n",
        "address = \"Kathmandu\"\n",
        "\n",
        "info = f\"Hello World {name}. I am {age}. I am from {address}\"  #string formatting ,beginning f is known as formatting\n",
        "print(info)"
      ]
    },
    {
      "cell_type": "code",
      "execution_count": null,
      "id": "18b4816d",
      "metadata": {
        "id": "18b4816d"
      },
      "outputs": [],
      "source": [
        "# Assignment:\n",
        "#     WAP to create a billing system using string formatting."
      ]
    },
    {
      "cell_type": "code",
      "execution_count": null,
      "id": "fb733d17",
      "metadata": {
        "id": "fb733d17",
        "outputId": "0a133638-11ab-4a09-fde3-0350a0ee6d9a"
      },
      "outputs": [
        {
          "name": "stdout",
          "output_type": "stream",
          "text": [
            "Enter the product name: Apple\n",
            "Enter the product price: 100\n",
            "Enter the product quantity: 1.5\n",
            "Product:Apple\n",
            "Price:100.0\n",
            "Quantity:1.5\n",
            "Total:150.0\n"
          ]
        }
      ],
      "source": [
        "name = input(\"Enter the product name: \")\n",
        "price = float(input(\"Enter the product price: \"))\n",
        "quantity = float(input(\"Enter the product quantity: \"))\n",
        "\n",
        "total = price* quantity\n",
        "\n",
        "bill = f\"Product:{name}\\nPrice:{price}\\nQuantity:{quantity}\\nTotal:{total}\"\n",
        "\n",
        "print(bill)\n"
      ]
    },
    {
      "cell_type": "code",
      "execution_count": null,
      "id": "0ce555c0",
      "metadata": {
        "id": "0ce555c0",
        "outputId": "f11327ce-9035-450b-93fe-c42330db276a"
      },
      "outputs": [
        {
          "name": "stdout",
          "output_type": "stream",
          "text": [
            "Enter Name = Ram\n",
            "Yes! There is  Ram\n",
            "1\n"
          ]
        }
      ],
      "source": [
        "# search in string\n",
        "a = \"Ram Shyam Hari Gopal Sita\"\n",
        "name = input(\"Enter Name = \")\n",
        "\n",
        "if name in a:\n",
        "    print(\"Yes! There is \", name)\n",
        "    print(a.count(name)) #search how many are there.\n",
        "else:\n",
        "    print(\"There is no such name\")"
      ]
    },
    {
      "cell_type": "code",
      "execution_count": null,
      "id": "420e5f07",
      "metadata": {
        "id": "420e5f07",
        "outputId": "53200bed-d9d5-4ac5-e8e1-087e95d53b4c"
      },
      "outputs": [
        {
          "data": {
            "text/plain": [
              "'RAM SHYAM HARI GOPAL SITA'"
            ]
          },
          "execution_count": 18,
          "metadata": {},
          "output_type": "execute_result"
        }
      ],
      "source": [
        "a = \"Ram Shyam Hari Gopal Sita\"\n",
        "# a.lower()\n",
        "a.upper()"
      ]
    },
    {
      "cell_type": "code",
      "execution_count": null,
      "id": "c56ce053",
      "metadata": {
        "id": "c56ce053",
        "outputId": "475e285e-0c4c-4442-8c55-094213a9556d"
      },
      "outputs": [
        {
          "name": "stdout",
          "output_type": "stream",
          "text": [
            "Enter Name = RAM\n",
            "Yes! There is  RAM\n",
            "1\n"
          ]
        }
      ],
      "source": [
        "a = \"Ram Shyam Hari Gopal Sita\".lower()\n",
        "name = input(\"Enter Name = \").lower()\n",
        "\n",
        "if name in a:\n",
        "    print(\"Yes! There is \", name)\n",
        "    print(a.count(name)) #search how many are there.\n",
        "else:\n",
        "    print(\"There is no such name\")"
      ]
    },
    {
      "cell_type": "code",
      "execution_count": null,
      "id": "4e702644",
      "metadata": {
        "id": "4e702644",
        "outputId": "56a2f529-9838-41d1-bcdd-8f7718007240"
      },
      "outputs": [
        {
          "name": "stdout",
          "output_type": "stream",
          "text": [
            "RAM SHYAM HARI GOPAL SITA\n"
          ]
        }
      ],
      "source": [
        "a = \"Ram Shyam Hari Gopal Sita\"\n",
        "# a.lower()\n",
        "a.upper()\n",
        "a = a.upper()\n",
        "print(a)\n"
      ]
    },
    {
      "cell_type": "code",
      "execution_count": null,
      "id": "5a23584b",
      "metadata": {
        "id": "5a23584b",
        "outputId": "2c1a2027-5fad-422f-f416-21344f09b90e"
      },
      "outputs": [
        {
          "name": "stdout",
          "output_type": "stream",
          "text": [
            "Enter Name = RAM\n",
            "Yes! There is  ram\n",
            "2\n"
          ]
        }
      ],
      "source": [
        "a = \"Ram Shyam Hari Gopal Sita Ramesh\".lower() #limitation , ramesh is also count as ram\n",
        "name = input(\"Enter Name = \").lower()\n",
        "\n",
        "if name in a:\n",
        "    print(\"Yes! There is \", name)\n",
        "    print(a.count(name)) #search how many are there.\n",
        "else:\n",
        "    print(\"There is no such name\")"
      ]
    },
    {
      "cell_type": "code",
      "execution_count": null,
      "id": "b676fdaa",
      "metadata": {
        "id": "b676fdaa",
        "outputId": "3e0b0bd6-1a89-47a9-8efc-12f8e1d2dfda"
      },
      "outputs": [
        {
          "data": {
            "text/plain": [
              "'ram Shyam Hari Gopal Sita '"
            ]
          },
          "execution_count": 35,
          "metadata": {},
          "output_type": "execute_result"
        }
      ],
      "source": [
        "a = \"Ram Shyam Hari Gopal Sita \"\n",
        "a = a.replace(\"Ram\", \"ram\")\n",
        "a"
      ]
    },
    {
      "cell_type": "code",
      "execution_count": null,
      "id": "76f218b8",
      "metadata": {
        "id": "76f218b8",
        "outputId": "e3f2ec91-1015-4992-9be3-761dfb7cb302"
      },
      "outputs": [
        {
          "data": {
            "text/plain": [
              "'ram Shyam Hari Gopal Sita Ram'"
            ]
          },
          "execution_count": 38,
          "metadata": {},
          "output_type": "execute_result"
        }
      ],
      "source": [
        "a = \"Ram Shyam Hari Gopal Sita Ram\"\n",
        "a = a.replace(\"Ram \",\"ram \")\n",
        "a"
      ]
    },
    {
      "cell_type": "code",
      "execution_count": null,
      "id": "c9f8f6ed",
      "metadata": {
        "id": "c9f8f6ed",
        "outputId": "060e787c-f9f3-4a1e-ae85-f43c5021b4d1"
      },
      "outputs": [
        {
          "data": {
            "text/plain": [
              "'Shyam Hari Gopal Sita Ram'"
            ]
          },
          "execution_count": 2,
          "metadata": {},
          "output_type": "execute_result"
        }
      ],
      "source": [
        "a = \"Ram Shyam Hari Gopal Sita Ram\"\n",
        "a = a.replace(\"Ram \",\"\")\n",
        "a"
      ]
    },
    {
      "cell_type": "code",
      "execution_count": null,
      "id": "2d7526ba",
      "metadata": {
        "id": "2d7526ba"
      },
      "outputs": [],
      "source": []
    },
    {
      "cell_type": "code",
      "execution_count": null,
      "id": "cc1368a9",
      "metadata": {
        "id": "cc1368a9"
      },
      "outputs": [],
      "source": []
    }
  ],
  "metadata": {
    "kernelspec": {
      "display_name": "Python 3 (ipykernel)",
      "language": "python",
      "name": "python3"
    },
    "language_info": {
      "codemirror_mode": {
        "name": "ipython",
        "version": 3
      },
      "file_extension": ".py",
      "mimetype": "text/x-python",
      "name": "python",
      "nbconvert_exporter": "python",
      "pygments_lexer": "ipython3",
      "version": "3.11.5"
    },
    "colab": {
      "provenance": [],
      "include_colab_link": true
    }
  },
  "nbformat": 4,
  "nbformat_minor": 5
}