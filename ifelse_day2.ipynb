{
  "nbformat": 4,
  "nbformat_minor": 0,
  "metadata": {
    "colab": {
      "provenance": [],
      "authorship_tag": "ABX9TyMIFeKpU9O53U0Ly8m95C47",
      "include_colab_link": true
    },
    "kernelspec": {
      "name": "python3",
      "display_name": "Python 3"
    },
    "language_info": {
      "name": "python"
    }
  },
  "cells": [
    {
      "cell_type": "markdown",
      "metadata": {
        "id": "view-in-github",
        "colab_type": "text"
      },
      "source": [
        "<a href=\"https://colab.research.google.com/github/subarna007/pythonclass/blob/main/ifelse_day2.ipynb\" target=\"_parent\"><img src=\"https://colab.research.google.com/assets/colab-badge.svg\" alt=\"Open In Colab\"/></a>"
      ]
    },
    {
      "cell_type": "code",
      "execution_count": null,
      "metadata": {
        "id": "NJsv2pYCFz0X"
      },
      "outputs": [],
      "source": [
        "# if <condition>:\n",
        "#     <operations>\n",
        "# elif <condition>:\n",
        "#     <operation>\n",
        "# ...\n",
        "\n",
        "# else:\n",
        "#     <operations>\n",
        "\n",
        "#basic syntax of else if statement"
      ]
    },
    {
      "cell_type": "code",
      "source": [
        "a = int(input(\"Enter a = \"))\n",
        "if  a >= 0:\n",
        "    print(\"The value is positive\")\n",
        "\n",
        "else:\n",
        "    print(\"The number is negative\")\n"
      ],
      "metadata": {
        "colab": {
          "base_uri": "https://localhost:8080/"
        },
        "id": "wOl-JAz8F76t",
        "outputId": "44bd9300-2293-4606-f782-3699f543e4b0"
      },
      "execution_count": 1,
      "outputs": [
        {
          "output_type": "stream",
          "name": "stdout",
          "text": [
            "Enter a = 10\n",
            "The value is positive\n"
          ]
        }
      ]
    },
    {
      "cell_type": "code",
      "source": [
        "a = 11\n",
        "a%2 == 0"
      ],
      "metadata": {
        "colab": {
          "base_uri": "https://localhost:8080/"
        },
        "id": "sXCNepEmGGgq",
        "outputId": "fec01ccf-6ba4-4533-9718-765b94986c76"
      },
      "execution_count": 2,
      "outputs": [
        {
          "output_type": "execute_result",
          "data": {
            "text/plain": [
              "False"
            ]
          },
          "metadata": {},
          "execution_count": 2
        }
      ]
    },
    {
      "cell_type": "code",
      "source": [
        "a = int(input(\"Enter value of a = \"))\n",
        "if a%2 == 0:\n",
        "    print(a,\" is even number\")\n",
        "\n",
        "else:\n",
        "    print(a, \" is odd number\") #else is used between two condition"
      ],
      "metadata": {
        "colab": {
          "base_uri": "https://localhost:8080/"
        },
        "id": "a4r3M9Y8GJmW",
        "outputId": "ee34799f-d856-4ee6-fb43-b0c873008307"
      },
      "execution_count": 3,
      "outputs": [
        {
          "output_type": "stream",
          "name": "stdout",
          "text": [
            "Enter value of a = 5\n",
            "5  is odd number\n"
          ]
        }
      ]
    },
    {
      "cell_type": "code",
      "source": [
        "a = int(input(\"Enter value of a = \"))\n",
        "b = int(input(\"Enter value of b = \"))\n",
        "if a>b:\n",
        "    print(a,\"is greater than\",b)\n",
        "\n",
        "elif b>a:\n",
        "    print(b,\"is greater than\",a)\n",
        "\n",
        "else:\n",
        "    print(\"Both are equal\") #if both condition don't match the statement written in else is printed\n",
        ""
      ],
      "metadata": {
        "colab": {
          "base_uri": "https://localhost:8080/"
        },
        "id": "v1r4UMybH9mS",
        "outputId": "585da8b3-4979-4af3-ce96-71084814c037"
      },
      "execution_count": 4,
      "outputs": [
        {
          "output_type": "stream",
          "name": "stdout",
          "text": [
            "Enter value of a = 10\n",
            "Enter value of b = 10\n",
            "Both are equal\n"
          ]
        }
      ]
    },
    {
      "cell_type": "code",
      "source": [
        "a = int(input(\"Enter value of a = \"))\n",
        "b = int(input(\"Enter value of b = \"))\n",
        "o = input(\"Enter + or - or * or / \")\n",
        "if o == '+':\n",
        "    print(a+b)\n",
        "\n",
        "elif o == '-':\n",
        "    print(a-b)\n",
        "\n",
        "elif o == '*':\n",
        "    print(a*b)\n",
        "\n",
        "elif o == '/':\n",
        "    print(a/b)\n",
        "\n",
        "else:\n",
        "    print(\" Error ! Enter valid operator\")"
      ],
      "metadata": {
        "colab": {
          "base_uri": "https://localhost:8080/"
        },
        "id": "yrex33H0H98U",
        "outputId": "c21759a7-52b8-45d8-ec20-34e9bc7f49cb"
      },
      "execution_count": 5,
      "outputs": [
        {
          "output_type": "stream",
          "name": "stdout",
          "text": [
            "Enter value of a = 4\n",
            "Enter value of b = 6\n",
            "Enter + or - or * or / *\n",
            "24\n"
          ]
        }
      ]
    },
    {
      "cell_type": "code",
      "source": [
        "Physics = int(input(\"Enter physics marks = \"))\n",
        "chemistry = int(input(\"Enter chemistry marks = \"))\n",
        "Biology = int(input(\"Enter Biology marks = \"))\n",
        "maths = int(input(\"Enter maths marks = \"))\n",
        "\n",
        "total = Physics + chemistry + Biology + maths\n",
        "per = total/4\n",
        "\n",
        "\n",
        "\n",
        "if per >= 80:\n",
        "    grade = 'A'\n",
        "\n",
        "elif per >= 60:\n",
        "    grade = 'B'\n",
        "\n",
        "elif per >= 40:\n",
        "    grade = 'c'\n",
        "\n",
        "print(\" Total marks = \" , total)\n",
        "print(\" Percentage = \",per)\n",
        "print(\"Grade =\", grade)"
      ],
      "metadata": {
        "colab": {
          "base_uri": "https://localhost:8080/"
        },
        "id": "K8AYavYWH9_r",
        "outputId": "391608b0-fced-4c72-e1c9-a097202a8150"
      },
      "execution_count": 6,
      "outputs": [
        {
          "output_type": "stream",
          "name": "stdout",
          "text": [
            "Enter physics marks = 70\n",
            "Enter chemistry marks = 80\n",
            "Enter Biology marks = 80\n",
            "Enter maths marks = 75\n",
            " Total marks =  305\n",
            " Percentage =  76.25\n",
            "Grade = B\n"
          ]
        }
      ]
    },
    {
      "cell_type": "code",
      "source": [
        "# and &\n",
        "\n",
        "# or |"
      ],
      "metadata": {
        "id": "XXB_TUb6LM9p"
      },
      "execution_count": null,
      "outputs": []
    },
    {
      "cell_type": "code",
      "source": [
        "#and : If both true result is true\n",
        "print(True and True)\n",
        "print(True and False)\n",
        "print(False and True)\n",
        "print(False and False)"
      ],
      "metadata": {
        "id": "-a4rJ9f0LPfU"
      },
      "execution_count": null,
      "outputs": []
    },
    {
      "cell_type": "code",
      "source": [
        "#or : If one is true then result is true\n",
        "print(True or True)\n",
        "print(True or False)\n",
        "print(False or True)\n",
        "print(False or False)"
      ],
      "metadata": {
        "id": "Y-yMvzvfLR7P"
      },
      "execution_count": null,
      "outputs": []
    }
  ]
}