{
  "cells": [
    {
      "cell_type": "markdown",
      "metadata": {
        "id": "view-in-github",
        "colab_type": "text"
      },
      "source": [
        "<a href=\"https://colab.research.google.com/github/subarna007/pythonclass/blob/main/string.ipynb\" target=\"_parent\"><img src=\"https://colab.research.google.com/assets/colab-badge.svg\" alt=\"Open In Colab\"/></a>"
      ]
    },
    {
      "cell_type": "code",
      "execution_count": null,
      "id": "f0576c5b",
      "metadata": {
        "id": "f0576c5b"
      },
      "outputs": [],
      "source": [
        "#string\n",
        "#imutable data types"
      ]
    },
    {
      "cell_type": "code",
      "execution_count": null,
      "id": "2004b64b",
      "metadata": {
        "id": "2004b64b",
        "outputId": "3a420e09-379a-40df-c8c5-9adb5cb24031"
      },
      "outputs": [
        {
          "name": "stdout",
          "output_type": "stream",
          "text": [
            "<class 'str'>\n",
            "<class 'str'>\n",
            "<class 'str'>\n"
          ]
        }
      ],
      "source": [
        "a = 'Hello World'\n",
        "b = \"Hello World\"\n",
        "c = '''Hello World'''\n",
        "\n",
        "print(type(a))\n",
        "print(type(b))\n",
        "print(type(c))"
      ]
    },
    {
      "cell_type": "code",
      "execution_count": null,
      "id": "16348ad5",
      "metadata": {
        "id": "16348ad5",
        "outputId": "cbf6455a-21ac-4fbe-bf19-e0ed4ad58519"
      },
      "outputs": [
        {
          "name": "stdout",
          "output_type": "stream",
          "text": [
            "Hello World I am Python\n"
          ]
        }
      ],
      "source": [
        "a = \"Hello World\"\n",
        "b = \" I am Python\"\n",
        "\n",
        "c = a+b\n",
        "print(c)"
      ]
    },
    {
      "cell_type": "code",
      "execution_count": null,
      "id": "bcb00342",
      "metadata": {
        "id": "bcb00342",
        "outputId": "95ed25dd-82d2-4d23-83b6-7212946b4065"
      },
      "outputs": [
        {
          "name": "stdout",
          "output_type": "stream",
          "text": [
            "Hello World\n",
            "Hello World\n",
            "Hello World\n",
            "\n"
          ]
        }
      ],
      "source": [
        "a = \"Hello World\\n\"\n",
        "print(a*3)"
      ]
    },
    {
      "cell_type": "code",
      "execution_count": null,
      "id": "4c28649f",
      "metadata": {
        "id": "4c28649f",
        "outputId": "f5fa1a17-3615-415a-816d-2a7fd014a234"
      },
      "outputs": [
        {
          "name": "stdout",
          "output_type": "stream",
          "text": [
            "Python"
          ]
        }
      ],
      "source": [
        "a = \"Python\"\n",
        "for i in a:\n",
        "    print(i, end = \"\")"
      ]
    },
    {
      "cell_type": "code",
      "execution_count": null,
      "id": "cbd08d9b",
      "metadata": {
        "id": "cbd08d9b",
        "outputId": "6d9f501e-881c-4517-a88c-fd0ed5ad11e2"
      },
      "outputs": [
        {
          "name": "stdout",
          "output_type": "stream",
          "text": [
            "1\n",
            "0\n",
            "0\n"
          ]
        }
      ],
      "source": [
        "a = \"100\"\n",
        "for i in a:\n",
        "    print(i)\n",
        ""
      ]
    },
    {
      "cell_type": "code",
      "execution_count": null,
      "id": "e79073e5",
      "metadata": {
        "id": "e79073e5",
        "outputId": "8263cfd6-632e-4725-daca-30a3c830b412"
      },
      "outputs": [
        {
          "name": "stdout",
          "output_type": "stream",
          "text": [
            "o\n",
            "pytho\n",
            "pto\n"
          ]
        }
      ],
      "source": [
        "a = \"python\"\n",
        "print(a[4]) #index concept string slicing\n",
        "print(a[0:5])\n",
        "print(a[0:6:2])"
      ]
    },
    {
      "cell_type": "code",
      "execution_count": null,
      "id": "cfc606b5",
      "metadata": {
        "id": "cfc606b5",
        "outputId": "89b0f955-ffad-40db-b930-a33e08303e57"
      },
      "outputs": [
        {
          "name": "stdout",
          "output_type": "stream",
          "text": [
            "36\n"
          ]
        }
      ],
      "source": [
        "a = \" Hello World I am python Programming\"\n",
        "print(len(a)) #length"
      ]
    },
    {
      "cell_type": "code",
      "execution_count": null,
      "id": "a5a13fd5",
      "metadata": {
        "id": "a5a13fd5",
        "outputId": "8ac96092-7baa-441a-fdda-04415f6b7fc2"
      },
      "outputs": [
        {
          "name": "stdout",
          "output_type": "stream",
          "text": [
            "p\n",
            "n\n"
          ]
        }
      ],
      "source": [
        "a = \"python\"\n",
        "print(a[0])\n",
        "print(a[-1])"
      ]
    },
    {
      "cell_type": "code",
      "execution_count": null,
      "id": "ec922764",
      "metadata": {
        "id": "ec922764",
        "outputId": "7d355b85-f8b8-4642-af2c-986d785bc006"
      },
      "outputs": [
        {
          "data": {
            "text/plain": [
              "'nohtyp'"
            ]
          },
          "execution_count": 15,
          "metadata": {},
          "output_type": "execute_result"
        }
      ],
      "source": [
        "a = \"python\"\n",
        "a[-1:-7:-1]"
      ]
    },
    {
      "cell_type": "code",
      "execution_count": null,
      "id": "a98caa42",
      "metadata": {
        "id": "a98caa42",
        "outputId": "b9bed7ee-df71-454b-da3b-56367a768c66"
      },
      "outputs": [
        {
          "data": {
            "text/plain": [
              "'nohtyp'"
            ]
          },
          "execution_count": 16,
          "metadata": {},
          "output_type": "execute_result"
        }
      ],
      "source": [
        "a = \"python\"\n",
        "a[::-1] #if index is unknown"
      ]
    },
    {
      "cell_type": "code",
      "execution_count": null,
      "id": "9518f3ae",
      "metadata": {
        "id": "9518f3ae",
        "outputId": "47f097a2-70fd-46c2-a906-67b61293547a"
      },
      "outputs": [
        {
          "name": "stdout",
          "output_type": "stream",
          "text": [
            "lapen fo latipac si udnamhtaK\n"
          ]
        }
      ],
      "source": [
        "a = \"Kathmandu is capital of nepal\"\n",
        "print(a[::-1])"
      ]
    },
    {
      "cell_type": "code",
      "execution_count": null,
      "id": "482cf8db",
      "metadata": {
        "id": "482cf8db",
        "outputId": "5d000ddd-33f3-4b55-8191-ad9213dfdcfe"
      },
      "outputs": [
        {
          "name": "stdout",
          "output_type": "stream",
          "text": [
            "Hello world i am python programming"
          ]
        }
      ],
      "source": [
        "a = \"Hello world i am python programming\"\n",
        "n = len(a)\n",
        "for i in range(n):\n",
        "    print(a[i], end =\"\")\n",
        ""
      ]
    },
    {
      "cell_type": "code",
      "execution_count": null,
      "id": "14f8b718",
      "metadata": {
        "id": "14f8b718",
        "outputId": "b67c93c3-a3f9-40ff-a6d1-09d4f53acae6"
      },
      "outputs": [
        {
          "name": "stdout",
          "output_type": "stream",
          "text": [
            "Hello world i am python programming"
          ]
        }
      ],
      "source": [
        "i = 0\n",
        "a = \"Hello world i am python programming\"\n",
        "n = len(a)\n",
        "while i<n:\n",
        "    print(a[i], end =\"\")\n",
        "    i = i+1"
      ]
    },
    {
      "cell_type": "code",
      "execution_count": null,
      "id": "cca22e16",
      "metadata": {
        "id": "cca22e16"
      },
      "outputs": [],
      "source": []
    },
    {
      "cell_type": "code",
      "execution_count": null,
      "id": "1b653802",
      "metadata": {
        "id": "1b653802"
      },
      "outputs": [],
      "source": []
    },
    {
      "cell_type": "code",
      "execution_count": null,
      "id": "f5e2af9f",
      "metadata": {
        "id": "f5e2af9f"
      },
      "outputs": [],
      "source": []
    },
    {
      "cell_type": "code",
      "execution_count": null,
      "id": "8bbbdfe1",
      "metadata": {
        "id": "8bbbdfe1"
      },
      "outputs": [],
      "source": []
    },
    {
      "cell_type": "code",
      "execution_count": null,
      "id": "573d6f3d",
      "metadata": {
        "id": "573d6f3d"
      },
      "outputs": [],
      "source": []
    }
  ],
  "metadata": {
    "kernelspec": {
      "display_name": "Python 3 (ipykernel)",
      "language": "python",
      "name": "python3"
    },
    "language_info": {
      "codemirror_mode": {
        "name": "ipython",
        "version": 3
      },
      "file_extension": ".py",
      "mimetype": "text/x-python",
      "name": "python",
      "nbconvert_exporter": "python",
      "pygments_lexer": "ipython3",
      "version": "3.11.5"
    },
    "colab": {
      "provenance": [],
      "include_colab_link": true
    }
  },
  "nbformat": 4,
  "nbformat_minor": 5
}