{
  "cells": [
    {
      "cell_type": "markdown",
      "metadata": {
        "id": "view-in-github",
        "colab_type": "text"
      },
      "source": [
        "<a href=\"https://colab.research.google.com/github/subarna007/pythonclass/blob/main/ifelse_and_nested_ifelse.ipynb\" target=\"_parent\"><img src=\"https://colab.research.google.com/assets/colab-badge.svg\" alt=\"Open In Colab\"/></a>"
      ]
    },
    {
      "cell_type": "code",
      "execution_count": null,
      "id": "08392e08",
      "metadata": {
        "id": "08392e08"
      },
      "outputs": [],
      "source": [
        "# if <condition>:\n",
        "#     <operations>\n",
        "# elif <condition>:\n",
        "#     <operation>\n",
        "# ...\n",
        "\n",
        "# else:\n",
        "#     <operations>"
      ]
    },
    {
      "cell_type": "code",
      "execution_count": null,
      "id": "41ad50be",
      "metadata": {
        "id": "41ad50be"
      },
      "outputs": [],
      "source": [
        "#  < > <= >= == !="
      ]
    },
    {
      "cell_type": "code",
      "execution_count": null,
      "id": "8b265391",
      "metadata": {
        "id": "8b265391",
        "outputId": "7904ee7f-5644-4e9b-9b5d-8d0f0d1037b3"
      },
      "outputs": [
        {
          "data": {
            "text/plain": [
              "True"
            ]
          },
          "execution_count": 3,
          "metadata": {},
          "output_type": "execute_result"
        }
      ],
      "source": [
        "a = 10\n",
        "a > 0"
      ]
    },
    {
      "cell_type": "code",
      "execution_count": null,
      "id": "9ad54eeb",
      "metadata": {
        "id": "9ad54eeb",
        "outputId": "f93a2b83-a6c7-45ef-fb15-0e7e5680ccab"
      },
      "outputs": [
        {
          "name": "stdout",
          "output_type": "stream",
          "text": [
            "Enter a = -10\n",
            "The no is -ve\n"
          ]
        }
      ],
      "source": [
        "a = int(input(\"Enter a = \"))\n",
        "if a >= 0:\n",
        "    print(\"The value is +ve\")\n",
        "\n",
        "else:\n",
        "    print(\"The no is -ve\")"
      ]
    },
    {
      "cell_type": "code",
      "execution_count": null,
      "id": "4ea1a29e",
      "metadata": {
        "id": "4ea1a29e",
        "outputId": "82aae5a8-b7ff-4cf0-cd50-786bd1dc8509"
      },
      "outputs": [
        {
          "data": {
            "text/plain": [
              "False"
            ]
          },
          "execution_count": 11,
          "metadata": {},
          "output_type": "execute_result"
        }
      ],
      "source": [
        "a = 11\n",
        "a%2 == 0"
      ]
    },
    {
      "cell_type": "code",
      "execution_count": null,
      "id": "f22c077c",
      "metadata": {
        "id": "f22c077c",
        "outputId": "3361a26c-da4f-434e-f10a-4df4e0228f91"
      },
      "outputs": [
        {
          "name": "stdout",
          "output_type": "stream",
          "text": [
            "Enter a = 10\n",
            "10 is even\n"
          ]
        }
      ],
      "source": [
        "a = int(input(\"Enter a = \"))\n",
        "if a%2==0:\n",
        "    print(a,\"is even\")\n",
        "else:\n",
        "    print(a,\"is odd\")"
      ]
    },
    {
      "cell_type": "code",
      "execution_count": null,
      "id": "121a4dd7",
      "metadata": {
        "id": "121a4dd7",
        "outputId": "0f0bdf77-2a21-4ba7-ce2a-c5bd2fc9ce29"
      },
      "outputs": [
        {
          "name": "stdout",
          "output_type": "stream",
          "text": [
            "Enter a = 10\n",
            "Enter b = 10\n",
            "Both are equal\n"
          ]
        }
      ],
      "source": [
        "a = int(input(\"Enter a = \"))\n",
        "b = int(input(\"Enter b = \"))\n",
        "if a>b:\n",
        "    print(a,\"is greater than\",b)\n",
        "elif b>a:\n",
        "    print(b,\"is greater than\",a)\n",
        "else:\n",
        "    print(\"Both are equal\")"
      ]
    },
    {
      "cell_type": "code",
      "execution_count": null,
      "id": "b7d77cb5",
      "metadata": {
        "id": "b7d77cb5",
        "outputId": "0452304b-26e8-4d0c-cf54-c35f00c4a17b"
      },
      "outputs": [
        {
          "name": "stdout",
          "output_type": "stream",
          "text": [
            "Enter a = 10\n",
            "Enter b = 0\n",
            "Enter + or - or * or /  /\n"
          ]
        },
        {
          "ename": "ZeroDivisionError",
          "evalue": "division by zero",
          "output_type": "error",
          "traceback": [
            "\u001b[1;31m---------------------------------------------------------------------------\u001b[0m",
            "\u001b[1;31mZeroDivisionError\u001b[0m                         Traceback (most recent call last)",
            "Input \u001b[1;32mIn [17]\u001b[0m, in \u001b[0;36m<cell line: 4>\u001b[1;34m()\u001b[0m\n\u001b[0;32m      9\u001b[0m     \u001b[38;5;28mprint\u001b[39m(a\u001b[38;5;241m*\u001b[39mb)\n\u001b[0;32m     10\u001b[0m \u001b[38;5;28;01melif\u001b[39;00m o \u001b[38;5;241m==\u001b[39m \u001b[38;5;124m'\u001b[39m\u001b[38;5;124m/\u001b[39m\u001b[38;5;124m'\u001b[39m:\n\u001b[1;32m---> 11\u001b[0m     \u001b[38;5;28mprint\u001b[39m(\u001b[43ma\u001b[49m\u001b[38;5;241;43m/\u001b[39;49m\u001b[43mb\u001b[49m)\n\u001b[0;32m     12\u001b[0m \u001b[38;5;28;01melse\u001b[39;00m:\n\u001b[0;32m     13\u001b[0m     \u001b[38;5;28mprint\u001b[39m(\u001b[38;5;124m\"\u001b[39m\u001b[38;5;124mEnter valid operator\u001b[39m\u001b[38;5;124m\"\u001b[39m)\n",
            "\u001b[1;31mZeroDivisionError\u001b[0m: division by zero"
          ]
        }
      ],
      "source": [
        "a = int(input(\"Enter a = \"))\n",
        "b = int(input(\"Enter b = \"))\n",
        "o = input(\"Enter + or - or * or /  \")\n",
        "if o == '+':\n",
        "    print(a+b)\n",
        "elif o == '-':\n",
        "    print(a-b)\n",
        "elif o == '*':\n",
        "    print(a*b)\n",
        "elif o == '/':\n",
        "    print(a/b)\n",
        "else:\n",
        "    print(\"Enter valid operator\")"
      ]
    },
    {
      "cell_type": "code",
      "execution_count": null,
      "id": "5cb897b4",
      "metadata": {
        "id": "5cb897b4"
      },
      "outputs": [],
      "source": [
        "# and &\n",
        "\n",
        "# or  |"
      ]
    },
    {
      "cell_type": "code",
      "execution_count": null,
      "id": "9482bfe6",
      "metadata": {
        "id": "9482bfe6",
        "outputId": "bf39b8d8-b6eb-4649-a061-7c858ef21a47"
      },
      "outputs": [
        {
          "name": "stdout",
          "output_type": "stream",
          "text": [
            "True\n",
            "False\n",
            "False\n",
            "False\n"
          ]
        }
      ],
      "source": [
        "#and\n",
        "print(True and True)\n",
        "print(True and False)\n",
        "print(False and True)\n",
        "print(False and False)"
      ]
    },
    {
      "cell_type": "code",
      "execution_count": null,
      "id": "089e1288",
      "metadata": {
        "id": "089e1288",
        "outputId": "a1cdee00-f384-4906-df0a-113e652f73f1"
      },
      "outputs": [
        {
          "name": "stdout",
          "output_type": "stream",
          "text": [
            "True\n",
            "True\n",
            "True\n",
            "False\n"
          ]
        }
      ],
      "source": [
        "#or\n",
        "print(True or True)\n",
        "print(True or False)\n",
        "print(False or True)\n",
        "print(False or False)"
      ]
    },
    {
      "cell_type": "code",
      "execution_count": null,
      "id": "1c2013ae",
      "metadata": {
        "id": "1c2013ae"
      },
      "outputs": [],
      "source": [
        "a = int(input(\"Enter a = \"))\n",
        "b = int(input(\"Enter b = \"))\n",
        "o = input(\"Enter + or - or * or /  \")\n",
        "if o == '+':\n",
        "    print(a+b)\n",
        "elif o == '-':\n",
        "    print(a-b)\n",
        "elif o == '*':\n",
        "    print(a*b)\n",
        "elif (o == '/') and (b != 0):\n",
        "    print(a/b)\n",
        "elif (o == '/') and (b == 0):\n",
        "    print(\"The value of b can not be zero when o = /\")\n",
        "else:\n",
        "    print(\"Enter valid operator\")"
      ]
    },
    {
      "cell_type": "code",
      "execution_count": null,
      "id": "13d50474",
      "metadata": {
        "id": "13d50474"
      },
      "outputs": [],
      "source": [
        "physics = float(input(\"Enter physics = \"))\n",
        "chemistry = float(input(\"Enter chemistry = \"))\n",
        "math = float(input(\"Enter math = \"))\n",
        "english = float(input(\"Enter english = \"))\n",
        "nepali = float(input(\"Enter nepali = \"))\n",
        "\n",
        "total = physics + chemistry + math + english + nepali\n",
        "per = total/5\n",
        "\n",
        "if per >= 80:\n",
        "    grade = 'A'\n",
        "elif per >= 60:\n",
        "    grade = 'B'\n",
        "elif per >=45:\n",
        "    grade = 'C'\n",
        "else:\n",
        "    grade = 'F'\n",
        "\n",
        "print(\"The total marks = \",total)\n",
        "print(\"The per = \",per)\n",
        "print(\"The grade = \",grade)"
      ]
    },
    {
      "cell_type": "code",
      "execution_count": null,
      "id": "5dfea401",
      "metadata": {
        "id": "5dfea401"
      },
      "outputs": [],
      "source": [
        "# #Nested If else\n",
        "# if <condition>:\n",
        "#     if <condation>:\n",
        "#         <operation>\n",
        "#     else:\n",
        "#         <operation>\n",
        "# else:\n",
        "#     <operation>"
      ]
    },
    {
      "cell_type": "code",
      "execution_count": null,
      "id": "c7a54d21",
      "metadata": {
        "id": "c7a54d21",
        "outputId": "a8458295-31a8-494b-b444-5214ff6dca04"
      },
      "outputs": [
        {
          "name": "stdout",
          "output_type": "stream",
          "text": [
            "Enter a = 10\n",
            "Enter b = 0\n",
            "Enter + or - or * or /  /\n",
            "The value of b can not be zero when o = /\n"
          ]
        }
      ],
      "source": [
        "a = int(input(\"Enter a = \"))\n",
        "b = int(input(\"Enter b = \"))\n",
        "o = input(\"Enter + or - or * or /  \")\n",
        "if o == '+':\n",
        "    print(a+b)\n",
        "elif o == '-':\n",
        "    print(a-b)\n",
        "elif o == '*':\n",
        "    print(a*b)\n",
        "elif (o == '/'):\n",
        "    if (b != 0):\n",
        "        print(a/b)\n",
        "    else:\n",
        "        print(\"The value of b can not be zero when o = /\")\n",
        "else:\n",
        "    print(\"Enter valid operator\")"
      ]
    },
    {
      "cell_type": "code",
      "execution_count": null,
      "id": "32f7e25d",
      "metadata": {
        "id": "32f7e25d"
      },
      "outputs": [],
      "source": [
        "physics = float(input(\"Enter physics = \"))\n",
        "chemistry = float(input(\"Enter chemistry = \"))\n",
        "math = float(input(\"Enter math = \"))\n",
        "english = float(input(\"Enter english = \"))\n",
        "nepali = float(input(\"Enter nepali = \"))\n",
        "if physics >= 35 and chemistry >=35 and math>=35 and english>=35 and nepali>=35:\n",
        "    total = physics + chemistry + math + english + nepali\n",
        "    per = total/5\n",
        "\n",
        "    if per > 80 or per == 80:\n",
        "        grade = 'A'\n",
        "    elif per > 60 or per ==60:\n",
        "        grade = 'B'\n",
        "    elif per >45 or per==45:\n",
        "        grade = 'C'\n",
        "    else:\n",
        "        grade = 'F'\n",
        "\n",
        "    print(\"The total marks = \",total)\n",
        "    print(\"The per = \",per)\n",
        "    print(\"The grade = \",grade)\n",
        "else:\n",
        "    print(\"Grade = \",'F')"
      ]
    }
  ],
  "metadata": {
    "kernelspec": {
      "display_name": "Python 3 (ipykernel)",
      "language": "python",
      "name": "python3"
    },
    "language_info": {
      "codemirror_mode": {
        "name": "ipython",
        "version": 3
      },
      "file_extension": ".py",
      "mimetype": "text/x-python",
      "name": "python",
      "nbconvert_exporter": "python",
      "pygments_lexer": "ipython3",
      "version": "3.9.12"
    },
    "colab": {
      "provenance": [],
      "include_colab_link": true
    }
  },
  "nbformat": 4,
  "nbformat_minor": 5
}