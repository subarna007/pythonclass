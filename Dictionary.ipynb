{
  "cells": [
    {
      "cell_type": "markdown",
      "metadata": {
        "id": "view-in-github",
        "colab_type": "text"
      },
      "source": [
        "<a href=\"https://colab.research.google.com/github/subarna007/pythonclass/blob/main/Dictionary.ipynb\" target=\"_parent\"><img src=\"https://colab.research.google.com/assets/colab-badge.svg\" alt=\"Open In Colab\"/></a>"
      ]
    },
    {
      "cell_type": "code",
      "execution_count": null,
      "id": "c235ea7f",
      "metadata": {
        "id": "c235ea7f"
      },
      "outputs": [],
      "source": [
        "# Dictionary\n",
        "# -indexing\n",
        "# -ordered\n",
        "# -Multiple data\n",
        "# -Mutable"
      ]
    },
    {
      "cell_type": "code",
      "execution_count": null,
      "id": "2ebafc2f",
      "metadata": {
        "id": "2ebafc2f",
        "outputId": "46018c19-fdf3-4721-848f-ef7d766ea481"
      },
      "outputs": [
        {
          "name": "stdout",
          "output_type": "stream",
          "text": [
            "{'a': 'Apple', 'b': 'Ball', 'c': 'Cat', 'd': 'Dog'}\n"
          ]
        }
      ],
      "source": [
        "d = {'a':'Apple','b':'Ball','c':'Cat','d':'Dog'}\n",
        "print(d)"
      ]
    },
    {
      "cell_type": "code",
      "execution_count": null,
      "id": "4ff16bd6",
      "metadata": {
        "id": "4ff16bd6",
        "outputId": "814e9131-e82b-4ab1-acb8-040e12974e16"
      },
      "outputs": [
        {
          "name": "stdout",
          "output_type": "stream",
          "text": [
            "Apple\n"
          ]
        }
      ],
      "source": [
        "print(d['a'])"
      ]
    },
    {
      "cell_type": "code",
      "execution_count": null,
      "id": "1a7de205",
      "metadata": {
        "id": "1a7de205",
        "outputId": "91267655-3584-402d-d549-2f8dd515c3e0"
      },
      "outputs": [
        {
          "data": {
            "text/plain": [
              "4"
            ]
          },
          "execution_count": 3,
          "metadata": {},
          "output_type": "execute_result"
        }
      ],
      "source": [
        "len(d)"
      ]
    },
    {
      "cell_type": "code",
      "execution_count": null,
      "id": "4d867a82",
      "metadata": {
        "id": "4d867a82"
      },
      "outputs": [],
      "source": [
        "# No + * in dictionary"
      ]
    },
    {
      "cell_type": "code",
      "execution_count": null,
      "id": "4b99924f",
      "metadata": {
        "id": "4b99924f",
        "outputId": "99557956-39fb-4966-e04c-338d92e3ee40"
      },
      "outputs": [
        {
          "name": "stdout",
          "output_type": "stream",
          "text": [
            "a b c d "
          ]
        }
      ],
      "source": [
        "d = {'a':'Apple','b':'Ball','c':'Cat','d':'Dog'}\n",
        "for i in d:  #To print key only\n",
        "    print(i, end =\" \")"
      ]
    },
    {
      "cell_type": "code",
      "execution_count": null,
      "id": "bcdeb2bc",
      "metadata": {
        "id": "bcdeb2bc",
        "outputId": "db5ed448-afc4-4e05-bbd7-3365d70c146a"
      },
      "outputs": [
        {
          "name": "stdout",
          "output_type": "stream",
          "text": [
            "Apple Ball Cat Dog "
          ]
        }
      ],
      "source": [
        "d = {'a':'Apple','b':'Ball','c':'Cat','d':'Dog'}\n",
        "for i in d.values(): #To print values only\n",
        "    print(i, end =\" \")"
      ]
    },
    {
      "cell_type": "code",
      "execution_count": null,
      "id": "0eb90090",
      "metadata": {
        "id": "0eb90090",
        "outputId": "6d212cf2-3524-434b-e84d-a2546172053d"
      },
      "outputs": [
        {
          "name": "stdout",
          "output_type": "stream",
          "text": [
            "('a', 'Apple') ('b', 'Ball') ('c', 'Cat') ('d', 'Dog') "
          ]
        }
      ],
      "source": [
        "d = {'a':'Apple','b':'Ball','c':'Cat','d':'Dog'}\n",
        "for i in d.items(): #To print both key and values\n",
        "    print(i, end =\" \")"
      ]
    },
    {
      "cell_type": "code",
      "execution_count": null,
      "id": "0af2bb99",
      "metadata": {
        "id": "0af2bb99",
        "outputId": "16ca2225-4244-40d9-bb06-e58ea325595a"
      },
      "outputs": [
        {
          "data": {
            "text/plain": [
              "{'a': 'Apple', 'b': 'Ball', 'c': 'Cat', 'd': 'Dog'}"
            ]
          },
          "execution_count": 9,
          "metadata": {},
          "output_type": "execute_result"
        }
      ],
      "source": [
        "a= [['a', 'Apple'], ['b', 'Ball'], ['c', 'Cat'], ['d', 'Dog']]\n",
        "dict(a) #list inside list to dictionary\n"
      ]
    },
    {
      "cell_type": "code",
      "execution_count": null,
      "id": "9591da86",
      "metadata": {
        "id": "9591da86",
        "outputId": "9030ad2b-6360-4bc7-e4d6-e27299e0e999"
      },
      "outputs": [
        {
          "data": {
            "text/plain": [
              "['a', 'b', 'c', 'd']"
            ]
          },
          "execution_count": 10,
          "metadata": {},
          "output_type": "execute_result"
        }
      ],
      "source": [
        "a = {'a': 'Apple', 'b': 'Ball', 'c': 'Cat', 'd': 'Dog'}\n",
        "list(a) #only key"
      ]
    },
    {
      "cell_type": "code",
      "execution_count": null,
      "id": "abab5844",
      "metadata": {
        "id": "abab5844",
        "outputId": "7229c340-5947-46c6-88c5-23a8c6c6f829"
      },
      "outputs": [
        {
          "data": {
            "text/plain": [
              "[('a', 'Apple'), ('b', 'Ball'), ('c', 'Cat'), ('d', 'Dog')]"
            ]
          },
          "execution_count": 11,
          "metadata": {},
          "output_type": "execute_result"
        }
      ],
      "source": [
        "a = {'a': 'Apple', 'b': 'Ball', 'c': 'Cat', 'd': 'Dog'}\n",
        "list(a.items()) #both key and values"
      ]
    },
    {
      "cell_type": "code",
      "execution_count": null,
      "id": "85b5ca15",
      "metadata": {
        "id": "85b5ca15"
      },
      "outputs": [],
      "source": [
        "# how to create dictionary\n",
        "# d = dict()\n",
        "# d = {}"
      ]
    },
    {
      "cell_type": "code",
      "execution_count": null,
      "id": "f7674a1b",
      "metadata": {
        "id": "f7674a1b",
        "outputId": "bddf9063-28fb-45bb-e2c5-41216ff1410b"
      },
      "outputs": [
        {
          "data": {
            "text/plain": [
              "{'a': 'Apple', 'b': 'Ball', 'c': 'Car', 'd': 'Dog'}"
            ]
          },
          "execution_count": 18,
          "metadata": {},
          "output_type": "execute_result"
        }
      ],
      "source": [
        "d = {}\n",
        "d['a'] = \"Apple\"\n",
        "d['b'] = 'Ball'\n",
        "d['c'] = \"Car\"\n",
        "d['d'] = \"Dog\"\n",
        "d"
      ]
    },
    {
      "cell_type": "code",
      "execution_count": null,
      "id": "9b5ad8dd",
      "metadata": {
        "id": "9b5ad8dd",
        "outputId": "60c37c0c-8cbf-4525-ac41-1cfa6de75473"
      },
      "outputs": [
        {
          "data": {
            "text/plain": [
              "{'a': 'Ant', 'b': 'Ball', 'c': 'Car', 'd': 'Dog', 'e': 'Elephant'}"
            ]
          },
          "execution_count": 20,
          "metadata": {},
          "output_type": "execute_result"
        }
      ],
      "source": [
        "a = {'a': 'Apple', 'b': 'Ball', 'c': 'Car', 'd': 'Dog'}\n",
        "a['a'] = 'Ant' #update\n",
        "a['e'] = 'Elephant' #add with new key\n",
        "a"
      ]
    },
    {
      "cell_type": "code",
      "execution_count": null,
      "id": "03d8fc65",
      "metadata": {
        "id": "03d8fc65",
        "outputId": "82b52b2c-c340-4117-eba0-a828938e1c7c"
      },
      "outputs": [
        {
          "name": "stdout",
          "output_type": "stream",
          "text": [
            "{'a': 'Apple', 'b': 'Ball', 'c': 'Car'}\n"
          ]
        }
      ],
      "source": [
        "#del pop()\n",
        "a = {'a': 'Apple', 'b': 'Ball', 'c': 'Car', 'd': 'Dog'}\n",
        "del a['d'] #delete\n",
        "print(a)"
      ]
    },
    {
      "cell_type": "code",
      "execution_count": null,
      "id": "e5bf4357",
      "metadata": {
        "id": "e5bf4357",
        "outputId": "dfd283cb-81db-4af4-f935-12dcd7798035"
      },
      "outputs": [
        {
          "name": "stdout",
          "output_type": "stream",
          "text": [
            "{'a': 'Apple', 'b': 'Ball', 'd': 'Dog'}\n"
          ]
        }
      ],
      "source": [
        "a = {'a': 'Apple', 'b': 'Ball', 'c': 'Car', 'd': 'Dog'}\n",
        "a.pop('c')\n",
        "print(a)"
      ]
    },
    {
      "cell_type": "code",
      "execution_count": null,
      "id": "f9720200",
      "metadata": {
        "id": "f9720200",
        "outputId": "a725f6a6-de06-40e0-8901-ab8bc3b1ae25"
      },
      "outputs": [
        {
          "name": "stdout",
          "output_type": "stream",
          "text": [
            "{'a': 'Apple', 'b': 'Ball', 'd': 'Dog'}\n",
            "Car\n"
          ]
        }
      ],
      "source": [
        "a = {'a': 'Apple', 'b': 'Ball', 'c': 'Car', 'd': 'Dog'}\n",
        "b = a.pop('c')\n",
        "print(a)\n",
        "print(b)"
      ]
    },
    {
      "cell_type": "code",
      "execution_count": null,
      "id": "5aa5843f",
      "metadata": {
        "id": "5aa5843f",
        "outputId": "2aec5bbd-7b55-4c0b-b9ad-23ccf87ba53d"
      },
      "outputs": [
        {
          "name": "stdout",
          "output_type": "stream",
          "text": [
            "Enter n = 2\n",
            "Enter name = Subarna Dahal\n",
            "Enter phone = 9863397226\n",
            "Enter name = Rehan Dahal\n",
            "Enter phone = 9819674130\n",
            "{9863397226: 'Subarna Dahal', 9819674130: 'Rehan Dahal'}\n"
          ]
        }
      ],
      "source": [
        "d = {}\n",
        "n = int(input(\"Enter n = \"))\n",
        "for i in range(n):\n",
        "    name = input(\"Enter name = \")\n",
        "    phone = int(input(\"Enter phone = \"))\n",
        "    d[phone] = name\n",
        "\n",
        "print(d)\n"
      ]
    },
    {
      "cell_type": "code",
      "execution_count": null,
      "id": "c386aae7",
      "metadata": {
        "id": "c386aae7",
        "outputId": "b30dc0e8-b903-4c54-d3fc-102170ccae80"
      },
      "outputs": [
        {
          "name": "stdout",
          "output_type": "stream",
          "text": [
            "Enter n = 2\n",
            "Enter name = Subarna\n",
            "Enter phone = 9863397226\n",
            "Enter name = Rehan\n",
            "Enter phone = 9819674130\n",
            "{'Subarna': 9863397226, 'Rehan': 9819674130}\n"
          ]
        }
      ],
      "source": [
        "d = {}\n",
        "n = int(input(\"Enter n = \"))\n",
        "for i in range(n):\n",
        "    name = input(\"Enter name = \")\n",
        "    phone = int(input(\"Enter phone = \"))\n",
        "    d[name] = phone\n",
        "\n",
        "print(d)\n"
      ]
    },
    {
      "cell_type": "code",
      "execution_count": null,
      "id": "e66784be",
      "metadata": {
        "id": "e66784be",
        "outputId": "3f000c1e-d61c-424d-e02c-c739066c0ed9"
      },
      "outputs": [
        {
          "name": "stdout",
          "output_type": "stream",
          "text": [
            "{'Subarna': [9863397226, 9803065366], 'Rehan': [9819674130, 9844086170]}\n"
          ]
        }
      ],
      "source": [
        "#list inside dictionary\n",
        "d = {'Subarna':[9863397226,9803065366], 'Rehan': [9819674130,9844086170]}\n",
        "print(d)"
      ]
    },
    {
      "cell_type": "code",
      "execution_count": null,
      "id": "218204ad",
      "metadata": {
        "id": "218204ad",
        "outputId": "9ca442fb-7f5b-44b8-8542-cb44d479e9b7"
      },
      "outputs": [
        {
          "name": "stdout",
          "output_type": "stream",
          "text": [
            "9803065366\n"
          ]
        }
      ],
      "source": [
        "d = {'Subarna':[9863397226,9803065366], 'Rehan': [9819674130,9844086170]}\n",
        "print(d['Subarna'][1])\n"
      ]
    },
    {
      "cell_type": "code",
      "execution_count": null,
      "id": "d574d05e",
      "metadata": {
        "id": "d574d05e",
        "outputId": "0c964cba-ebc0-447c-ee2a-99d0cbc93fc0"
      },
      "outputs": [
        {
          "name": "stdout",
          "output_type": "stream",
          "text": [
            "Enter n = 1\n",
            "Enter name = Ram\n",
            "Enter ncell_phone = 9819674130\n",
            "Enter ntc_phone = 9863397226\n",
            "{'Ram': [9819674130, 9863397226]}\n"
          ]
        }
      ],
      "source": [
        "d = {}\n",
        "n = int(input(\"Enter n = \"))\n",
        "for i in range(n):\n",
        "    name = input(\"Enter name = \")\n",
        "    ncell_phone = int(input(\"Enter ncell_phone = \"))\n",
        "    ntc_phone = int(input(\"Enter ntc_phone = \"))\n",
        "    d[name] = [ncell_phone,ntc_phone]\n",
        "\n",
        "print(d)"
      ]
    },
    {
      "cell_type": "code",
      "execution_count": null,
      "id": "952eb73e",
      "metadata": {
        "id": "952eb73e",
        "outputId": "47efc03e-cf46-4f1e-ae86-03fc238a3529"
      },
      "outputs": [
        {
          "data": {
            "text/plain": [
              "{'name': ['Ram', 'Shyam', 'Ram'],\n",
              " 'ntc_phone': [9863397226, 9844086170, 9844020227],\n",
              " 'ncell_phone': [9819674130, 9823116502, 9803065366]}"
            ]
          },
          "execution_count": 5,
          "metadata": {},
          "output_type": "execute_result"
        }
      ],
      "source": [
        "d = {'name':['Ram','Shyam','Ram'],\n",
        "    'ntc_phone':[9863397226,9844086170,9844020227],\n",
        "    'ncell_phone':[9819674130,9823116502,9803065366]}\n",
        "d"
      ]
    },
    {
      "cell_type": "code",
      "execution_count": null,
      "id": "4b918b73",
      "metadata": {
        "id": "4b918b73",
        "outputId": "3829f1ad-6aac-4e37-81a5-9cdc65f1d3f0"
      },
      "outputs": [
        {
          "name": "stdout",
          "output_type": "stream",
          "text": [
            "Enter n = 2\n",
            "Enter name = Ram\n",
            "Enter ntc_phone = 9863397226\n",
            "Enter ncell_phone = 9819674130\n",
            "Enter name = Hari\n",
            "Enter ntc_phone = 9844086170\n",
            "Enter ncell_phone = 9803065366\n",
            "{'name': ['Ram', 'Hari'], 'ntc_phone': [9863397226, 9844086170], 'ncell_phone': [9819674130, 9803065366]}\n"
          ]
        }
      ],
      "source": [
        "d = {'name':[],\n",
        "    'ntc_phone':[],\n",
        "    'ncell_phone':[]}\n",
        "n = int(input(\"Enter n = \"))\n",
        "for i in range(n):\n",
        "    name = input(\"Enter name = \")\n",
        "    ntc_phone = int(input(\"Enter ntc_phone = \"))\n",
        "    ncell_phone = int(input(\"Enter ncell_phone = \"))\n",
        "    d['name'].append(name)\n",
        "    d['ntc_phone'].append(ntc_phone)\n",
        "    d['ncell_phone'].append(ncell_phone)\n",
        "\n",
        "print(d)"
      ]
    },
    {
      "cell_type": "code",
      "execution_count": null,
      "id": "b85261b0",
      "metadata": {
        "id": "b85261b0",
        "outputId": "b5162fac-a804-4b77-a42c-5ddd96d7bdf5"
      },
      "outputs": [
        {
          "name": "stdout",
          "output_type": "stream",
          "text": [
            "Ram 9863397226 9819674130\n"
          ]
        }
      ],
      "source": [
        "print(d['name'][0],d['ntc_phone'][0],d['ncell_phone'][0])"
      ]
    },
    {
      "cell_type": "code",
      "execution_count": null,
      "id": "a9af84d3",
      "metadata": {
        "id": "a9af84d3",
        "outputId": "6ae87258-12c0-4f05-c95c-27debf4f1944"
      },
      "outputs": [
        {
          "data": {
            "text/plain": [
              "[{'name': 'Ram', 'age': 34, 'address': 'kathmandu'},\n",
              " {'name': 'Raman', 'age': 44, 'address': 'chitwan'},\n",
              " {'name': 'Hari', 'age': 24, 'address': 'Janakpur'}]"
            ]
          },
          "execution_count": 8,
          "metadata": {},
          "output_type": "execute_result"
        }
      ],
      "source": [
        "#dictionary inside list\n",
        "d = [{'name':'Ram', 'age':34, 'address':'kathmandu'},\n",
        "    {'name':'Raman', 'age':44, 'address':'chitwan'},\n",
        "    {'name':'Hari', 'age':24, 'address':'Janakpur'},]\n",
        "d"
      ]
    },
    {
      "cell_type": "code",
      "execution_count": null,
      "id": "b7f42063",
      "metadata": {
        "id": "b7f42063",
        "outputId": "9872c10c-6837-4970-edd5-3f677d379eec"
      },
      "outputs": [
        {
          "data": {
            "text/plain": [
              "{'name': 'Ram', 'age': 34, 'address': 'kathmandu'}"
            ]
          },
          "execution_count": 9,
          "metadata": {},
          "output_type": "execute_result"
        }
      ],
      "source": [
        "d[0]"
      ]
    },
    {
      "cell_type": "code",
      "execution_count": null,
      "id": "dbd73af2",
      "metadata": {
        "id": "dbd73af2",
        "outputId": "6053677b-7162-474d-8a5e-d67498f51c35"
      },
      "outputs": [
        {
          "name": "stdout",
          "output_type": "stream",
          "text": [
            "Enter n = 1\n",
            "Enter name = Ram\n",
            "Enter age = 34\n",
            "Enter address = kathmandu\n",
            "[{'name': 'Ram', 'age': 34, 'address': 'kathmandu'}]\n"
          ]
        }
      ],
      "source": [
        "d = []\n",
        "n = int(input(\"Enter n = \"))\n",
        "for i in range(n):\n",
        "    name = input(\"Enter name = \")\n",
        "    age = int(input(\"Enter age = \"))\n",
        "    address = input(\"Enter address = \")\n",
        "    x = {'name': name, 'age': age, 'address': address}\n",
        "    d.append(x)\n",
        "\n",
        "print(d)"
      ]
    }
  ],
  "metadata": {
    "kernelspec": {
      "display_name": "Python 3 (ipykernel)",
      "language": "python",
      "name": "python3"
    },
    "language_info": {
      "codemirror_mode": {
        "name": "ipython",
        "version": 3
      },
      "file_extension": ".py",
      "mimetype": "text/x-python",
      "name": "python",
      "nbconvert_exporter": "python",
      "pygments_lexer": "ipython3",
      "version": "3.11.5"
    },
    "colab": {
      "provenance": [],
      "include_colab_link": true
    }
  },
  "nbformat": 4,
  "nbformat_minor": 5
}