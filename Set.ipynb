{
  "cells": [
    {
      "cell_type": "markdown",
      "metadata": {
        "id": "view-in-github",
        "colab_type": "text"
      },
      "source": [
        "<a href=\"https://colab.research.google.com/github/subarna007/pythonclass/blob/main/Set.ipynb\" target=\"_parent\"><img src=\"https://colab.research.google.com/assets/colab-badge.svg\" alt=\"Open In Colab\"/></a>"
      ]
    },
    {
      "cell_type": "code",
      "execution_count": null,
      "id": "8186f4c3",
      "metadata": {
        "id": "8186f4c3"
      },
      "outputs": [],
      "source": [
        "#set\n",
        "# -No Indexing\n",
        "# -Unordered\n",
        "# -Multiple data but no duplicate\n",
        "# -Mutable"
      ]
    },
    {
      "cell_type": "code",
      "execution_count": null,
      "id": "db8969c6",
      "metadata": {
        "id": "db8969c6"
      },
      "outputs": [],
      "source": [
        "#to define set\n",
        "# a = set()\n",
        "# a = {}"
      ]
    },
    {
      "cell_type": "code",
      "execution_count": null,
      "id": "30fd3ab0",
      "metadata": {
        "id": "30fd3ab0",
        "outputId": "ec8b4730-61e1-4b1c-c172-d2a84d9e29d5"
      },
      "outputs": [
        {
          "name": "stdout",
          "output_type": "stream",
          "text": [
            "{'Ball', 'Dog', 'Cat', 'Apple'}\n"
          ]
        }
      ],
      "source": [
        "a = {'Apple','Ball','Cat','Dog'}\n",
        "print(a)"
      ]
    },
    {
      "cell_type": "code",
      "execution_count": null,
      "id": "92225175",
      "metadata": {
        "id": "92225175",
        "outputId": "43d3241b-1788-4e99-b96e-82fea39e81a8"
      },
      "outputs": [
        {
          "name": "stdout",
          "output_type": "stream",
          "text": [
            "{'Ball', 'Dog', 'Cat', 'Apple'}\n"
          ]
        }
      ],
      "source": [
        "a = {'Apple','Ball','Cat','Dog','Apple'} #No duplicate value\n",
        "print(a)"
      ]
    },
    {
      "cell_type": "code",
      "execution_count": null,
      "id": "60f3a404",
      "metadata": {
        "id": "60f3a404",
        "outputId": "a82f9f12-247c-4ec7-8c84-ee1de2190706"
      },
      "outputs": [
        {
          "name": "stdout",
          "output_type": "stream",
          "text": [
            "Ball\n",
            "Dog\n",
            "Cat\n",
            "Apple\n"
          ]
        }
      ],
      "source": [
        "a = {'Apple','Ball','Cat','Dog'}\n",
        "for i in a:\n",
        "    print(i)"
      ]
    },
    {
      "cell_type": "code",
      "execution_count": null,
      "id": "abd563b8",
      "metadata": {
        "id": "abd563b8",
        "outputId": "b69ff60b-ac49-4981-c614-47deba2c22b0"
      },
      "outputs": [
        {
          "data": {
            "text/plain": [
              "dict"
            ]
          },
          "execution_count": 4,
          "metadata": {},
          "output_type": "execute_result"
        }
      ],
      "source": [
        "s = {}\n",
        "type(s)"
      ]
    },
    {
      "cell_type": "code",
      "execution_count": null,
      "id": "2818e8fb",
      "metadata": {
        "id": "2818e8fb",
        "outputId": "c4bba175-c76d-4a78-b187-caddaa26b7ae"
      },
      "outputs": [
        {
          "name": "stdout",
          "output_type": "stream",
          "text": [
            "<class 'set'>\n"
          ]
        }
      ],
      "source": [
        "s = {1,2,3,4,5,6}\n",
        "print(type(s))"
      ]
    },
    {
      "cell_type": "code",
      "execution_count": null,
      "id": "9ee1a70c",
      "metadata": {
        "id": "9ee1a70c",
        "outputId": "b4aa7498-3440-4dc8-8337-1a19c0d290e0"
      },
      "outputs": [
        {
          "name": "stdout",
          "output_type": "stream",
          "text": [
            "{'Ball', 'Cat', 'Apple'}\n"
          ]
        }
      ],
      "source": [
        "s = set()\n",
        "s.add(\"Apple\")\n",
        "s.add(\"Ball\")\n",
        "s.add(\"Cat\")\n",
        "print(s)"
      ]
    },
    {
      "cell_type": "code",
      "execution_count": null,
      "id": "37c1c5fb",
      "metadata": {
        "id": "37c1c5fb",
        "outputId": "9533f8b8-9963-45bc-bd34-764d361c4b8f"
      },
      "outputs": [
        {
          "ename": "TypeError",
          "evalue": "unsupported operand type(s) for +: 'set' and 'set'",
          "output_type": "error",
          "traceback": [
            "\u001b[1;31m---------------------------------------------------------------------------\u001b[0m",
            "\u001b[1;31mTypeError\u001b[0m                                 Traceback (most recent call last)",
            "Cell \u001b[1;32mIn[7], line 3\u001b[0m\n\u001b[0;32m      1\u001b[0m a \u001b[38;5;241m=\u001b[39m {\u001b[38;5;241m1\u001b[39m,\u001b[38;5;241m2\u001b[39m,\u001b[38;5;241m3\u001b[39m,\u001b[38;5;241m4\u001b[39m,\u001b[38;5;241m5\u001b[39m}\n\u001b[0;32m      2\u001b[0m b \u001b[38;5;241m=\u001b[39m {\u001b[38;5;241m2\u001b[39m,\u001b[38;5;241m3\u001b[39m,\u001b[38;5;241m4\u001b[39m,\u001b[38;5;241m5\u001b[39m,\u001b[38;5;241m6\u001b[39m}\n\u001b[1;32m----> 3\u001b[0m c \u001b[38;5;241m=\u001b[39m a\u001b[38;5;241m+\u001b[39mb\n\u001b[0;32m      4\u001b[0m \u001b[38;5;28mprint\u001b[39m(c)\n",
            "\u001b[1;31mTypeError\u001b[0m: unsupported operand type(s) for +: 'set' and 'set'"
          ]
        }
      ],
      "source": [
        "a = {1,2,3,4,5}\n",
        "b = {2,3,4,5,6}\n",
        "c = a + b #set doesn't support concatination\n",
        "print(c)"
      ]
    },
    {
      "cell_type": "code",
      "execution_count": null,
      "id": "63c94fe3",
      "metadata": {
        "id": "63c94fe3",
        "outputId": "f53dce44-e128-40a4-af76-57164e774bb4"
      },
      "outputs": [
        {
          "name": "stdout",
          "output_type": "stream",
          "text": [
            "{1, 2, 3, 4, 5, 6, 7, 8, 9}\n"
          ]
        }
      ],
      "source": [
        "a = {1,2,3,4,5}\n",
        "a.update({3,4,5,6,7,8,9})\n",
        "print(a)"
      ]
    },
    {
      "cell_type": "code",
      "execution_count": null,
      "id": "cea84367",
      "metadata": {
        "id": "cea84367",
        "outputId": "d0cd1b5a-afde-4db4-ef94-a0491137683b"
      },
      "outputs": [
        {
          "data": {
            "text/plain": [
              "{2, 3, 4, 5, 6}"
            ]
          },
          "execution_count": 10,
          "metadata": {},
          "output_type": "execute_result"
        }
      ],
      "source": [
        "a = {1,2,3,4,5,6}\n",
        "a.remove(1)\n",
        "a"
      ]
    },
    {
      "cell_type": "code",
      "execution_count": null,
      "id": "376d624a",
      "metadata": {
        "id": "376d624a",
        "outputId": "389be90a-e80c-4235-d5ea-6122ce78ae46"
      },
      "outputs": [
        {
          "data": {
            "text/plain": [
              "[1, 2, 3, 4, 5, 6]"
            ]
          },
          "execution_count": 14,
          "metadata": {},
          "output_type": "execute_result"
        }
      ],
      "source": [
        "a = [1,2,3,4,5,1,2,5,4,2,3,1,4,6,3]\n",
        "a = set(a)\n",
        "a = list(a)\n",
        "a"
      ]
    },
    {
      "cell_type": "code",
      "execution_count": null,
      "id": "9b26c934",
      "metadata": {
        "id": "9b26c934",
        "outputId": "16b3df00-37bb-4a33-9363-b6325f87347f"
      },
      "outputs": [
        {
          "name": "stdout",
          "output_type": "stream",
          "text": [
            "{9, 7}\n"
          ]
        }
      ],
      "source": [
        "a = {1,3,5,7,9}\n",
        "b = {6,7,8,9,10}\n",
        "\n",
        "i = a.intersection(b) #common value in two sets\n",
        "print(i)"
      ]
    },
    {
      "cell_type": "code",
      "execution_count": null,
      "id": "0fc85456",
      "metadata": {
        "id": "0fc85456",
        "outputId": "ef7caa9d-b8a4-463b-a6aa-141677ca8417"
      },
      "outputs": [
        {
          "name": "stdout",
          "output_type": "stream",
          "text": [
            "{1, 3, 5, 6, 7, 8, 9, 10}\n"
          ]
        }
      ],
      "source": [
        "a = {1,3,5,7,9}\n",
        "b = {6,7,8,9,10}\n",
        "\n",
        "u = a.union(b) # union of two sets\n",
        "print(u)"
      ]
    },
    {
      "cell_type": "code",
      "execution_count": null,
      "id": "bddb2cd3",
      "metadata": {
        "id": "bddb2cd3",
        "outputId": "d339431f-06b4-4318-bced-d6c2bac1d502"
      },
      "outputs": [
        {
          "name": "stdout",
          "output_type": "stream",
          "text": [
            "{2, 4}\n"
          ]
        }
      ],
      "source": [
        "U = {1,2,3,4,5,6,7,8,9,10}\n",
        "print(U-u) #value not associated with both sets"
      ]
    },
    {
      "cell_type": "code",
      "execution_count": null,
      "id": "1d6062ed",
      "metadata": {
        "id": "1d6062ed",
        "outputId": "23085b0c-7ac7-4227-8989-81129d11be36"
      },
      "outputs": [
        {
          "name": "stdout",
          "output_type": "stream",
          "text": [
            "{'Rewanta', 'Sofia'}\n"
          ]
        }
      ],
      "source": [
        "apple = {\"Ram\",\"Sita\",\"Hari\",\"Kedar\",\"Gayatri\",\"Rewanta\",\"Sofia\"}\n",
        "ms = {\"Bill\",\"Mark\",\"Steven\",\"Logan\",\"Deji\",\"Rewanta\",\"Sofia\"}\n",
        "\n",
        "both = apple.intersection(ms) #works on both company\n",
        "print(both)"
      ]
    },
    {
      "cell_type": "code",
      "execution_count": null,
      "id": "464f3c65",
      "metadata": {
        "id": "464f3c65",
        "outputId": "659e0c50-765d-4ef5-f1b7-f9f1f5f1ee46"
      },
      "outputs": [
        {
          "name": "stdout",
          "output_type": "stream",
          "text": [
            "{'Sofia', 'Deji', 'Steven', 'Kedar', 'Ram', 'Rewanta', 'Sita', 'Gayatri', 'Logan', 'Hari', 'Bill', 'Mark'}\n"
          ]
        }
      ],
      "source": [
        "apple = {\"Ram\",\"Sita\",\"Hari\",\"Kedar\",\"Gayatri\",\"Rewanta\",\"Sofia\"}\n",
        "ms = {\"Bill\",\"Mark\",\"Steven\",\"Logan\",\"Deji\",\"Rewanta\",\"Sofia\"}\n",
        "\n",
        "un = apple.union(ms) #union of both company\n",
        "print(un)"
      ]
    },
    {
      "cell_type": "code",
      "execution_count": null,
      "id": "2134870f",
      "metadata": {
        "id": "2134870f",
        "outputId": "fba4f794-6dbe-4e62-a50e-f8fc40326750"
      },
      "outputs": [
        {
          "name": "stdout",
          "output_type": "stream",
          "text": [
            "{'Kedar', 'Ram', 'Sita', 'Gayatri', 'Hari'}\n"
          ]
        }
      ],
      "source": [
        "apple = {\"Ram\",\"Sita\",\"Hari\",\"Kedar\",\"Gayatri\",\"Rewanta\",\"Sofia\"}\n",
        "ms = {\"Bill\",\"Mark\",\"Steven\",\"Logan\",\"Deji\",\"Rewanta\",\"Sofia\"}\n",
        "\n",
        "ap = apple - ms #works only for apple\n",
        "print(ap)"
      ]
    },
    {
      "cell_type": "code",
      "execution_count": null,
      "id": "4d4f8964",
      "metadata": {
        "id": "4d4f8964",
        "outputId": "152e5e15-69e7-4168-bbe8-fcb392d339e8"
      },
      "outputs": [
        {
          "name": "stdout",
          "output_type": "stream",
          "text": [
            "{'XYZ', 'abc'}\n"
          ]
        }
      ],
      "source": [
        "U = {'XYZ','abc','Kedar', 'Ram', 'Sita', 'Gayatri', 'Hari'}\n",
        "apple = {\"Ram\",\"Sita\",\"Hari\",\"Kedar\",\"Gayatri\",\"Rewanta\",\"Sofia\"}\n",
        "ms = {\"Bill\",\"Mark\",\"Steven\",\"Logan\",\"Deji\",\"Rewanta\",\"Sofia\"}\n",
        "\n",
        "un = apple.union(ms)\n",
        "\n",
        "print(U-un)\n"
      ]
    },
    {
      "cell_type": "code",
      "execution_count": null,
      "id": "7c1da871",
      "metadata": {
        "id": "7c1da871",
        "outputId": "a559a9f4-ba98-4388-921c-c0e7261cb2ad"
      },
      "outputs": [
        {
          "name": "stdout",
          "output_type": "stream",
          "text": [
            "2\n",
            "6\n",
            "33.33333333333333\n"
          ]
        }
      ],
      "source": [
        "job = {'Python','django','restapi','ml','tensorflow','pytorch'}\n",
        "profile = {'Python','django','js','bootstrap'}\n",
        "\n",
        "len_skill = len(job.intersection(profile))\n",
        "print(len_skill)\n",
        "\n",
        "len_job_skill = len(job)\n",
        "print(len_job_skill)\n",
        "\n",
        "chance = len_skill/len_job_skill * 100\n",
        "print(chance)\n",
        "\n",
        "\n",
        "\n",
        "\n"
      ]
    },
    {
      "cell_type": "code",
      "execution_count": null,
      "id": "423235bb",
      "metadata": {
        "id": "423235bb",
        "outputId": "9474c556-fb82-448d-e907-87a4198092f3"
      },
      "outputs": [
        {
          "name": "stdout",
          "output_type": "stream",
          "text": [
            "False\n"
          ]
        }
      ],
      "source": [
        "job = {'Python','django','restapi','ml','tensorflow','pytorch'}\n",
        "profile = {'Python','django'}\n",
        "\n",
        "print(profile.issuperset(job))\n"
      ]
    },
    {
      "cell_type": "code",
      "execution_count": null,
      "id": "b59a38a7",
      "metadata": {
        "id": "b59a38a7",
        "outputId": "1ec4b2a9-b2c7-45d9-d9d1-62e18ab95da6"
      },
      "outputs": [
        {
          "name": "stdout",
          "output_type": "stream",
          "text": [
            "True\n"
          ]
        }
      ],
      "source": [
        "job = {'Python','django','restapi','ml','tensorflow','pytorch'}\n",
        "profile = {'Python','django'}\n",
        "\n",
        "print(profile.issubset(job))\n"
      ]
    },
    {
      "cell_type": "code",
      "execution_count": null,
      "id": "5b3e203a",
      "metadata": {
        "id": "5b3e203a",
        "outputId": "626a109b-c47c-4377-e0e8-704c82468eb8"
      },
      "outputs": [
        {
          "data": {
            "text/plain": [
              "{(1, 2, 3), (4, 5, 6, 7)}"
            ]
          },
          "execution_count": 17,
          "metadata": {},
          "output_type": "execute_result"
        }
      ],
      "source": [
        "s = {(1,2,3),(4,5,6,7)}\n",
        "s"
      ]
    },
    {
      "cell_type": "code",
      "execution_count": null,
      "id": "c4004a85",
      "metadata": {
        "id": "c4004a85",
        "outputId": "6bf0a61a-bde8-4f1f-bb53-775728dfef6b"
      },
      "outputs": [
        {
          "ename": "TypeError",
          "evalue": "unhashable type: 'list'",
          "output_type": "error",
          "traceback": [
            "\u001b[1;31m---------------------------------------------------------------------------\u001b[0m",
            "\u001b[1;31mTypeError\u001b[0m                                 Traceback (most recent call last)",
            "Cell \u001b[1;32mIn[18], line 1\u001b[0m\n\u001b[1;32m----> 1\u001b[0m s \u001b[38;5;241m=\u001b[39m {[\u001b[38;5;241m1\u001b[39m,\u001b[38;5;241m2\u001b[39m,\u001b[38;5;241m3\u001b[39m],[\u001b[38;5;241m4\u001b[39m,\u001b[38;5;241m5\u001b[39m,\u001b[38;5;241m6\u001b[39m,\u001b[38;5;241m8\u001b[39m]}\n\u001b[0;32m      2\u001b[0m s\n",
            "\u001b[1;31mTypeError\u001b[0m: unhashable type: 'list'"
          ]
        }
      ],
      "source": [
        "s = {[1,2,3],[4,5,6,8]}\n",
        "s  #doesnot support list"
      ]
    },
    {
      "cell_type": "code",
      "execution_count": null,
      "id": "b3deec77",
      "metadata": {
        "id": "b3deec77",
        "outputId": "71b1b14d-4b6d-4afb-db50-2ae6cd963ca5"
      },
      "outputs": [
        {
          "ename": "TypeError",
          "evalue": "unhashable type: 'set'",
          "output_type": "error",
          "traceback": [
            "\u001b[1;31m---------------------------------------------------------------------------\u001b[0m",
            "\u001b[1;31mTypeError\u001b[0m                                 Traceback (most recent call last)",
            "Cell \u001b[1;32mIn[20], line 1\u001b[0m\n\u001b[1;32m----> 1\u001b[0m s \u001b[38;5;241m=\u001b[39m {{\u001b[38;5;241m1\u001b[39m,\u001b[38;5;241m2\u001b[39m,\u001b[38;5;241m3\u001b[39m},{\u001b[38;5;241m4\u001b[39m,\u001b[38;5;241m5\u001b[39m,\u001b[38;5;241m6\u001b[39m,\u001b[38;5;241m7\u001b[39m}}\n\u001b[0;32m      2\u001b[0m s\n",
            "\u001b[1;31mTypeError\u001b[0m: unhashable type: 'set'"
          ]
        }
      ],
      "source": [
        "s = {{1,2,3},{4,5,6,7}}\n",
        "s #doesnot support set inside set (set ma mutable datatype nai hudaina)\n"
      ]
    },
    {
      "cell_type": "code",
      "execution_count": null,
      "id": "4b718814",
      "metadata": {
        "id": "4b718814"
      },
      "outputs": [],
      "source": []
    },
    {
      "cell_type": "code",
      "execution_count": null,
      "id": "897624de",
      "metadata": {
        "id": "897624de"
      },
      "outputs": [],
      "source": []
    },
    {
      "cell_type": "code",
      "execution_count": null,
      "id": "d980668e",
      "metadata": {
        "id": "d980668e"
      },
      "outputs": [],
      "source": []
    }
  ],
  "metadata": {
    "kernelspec": {
      "display_name": "Python 3 (ipykernel)",
      "language": "python",
      "name": "python3"
    },
    "language_info": {
      "codemirror_mode": {
        "name": "ipython",
        "version": 3
      },
      "file_extension": ".py",
      "mimetype": "text/x-python",
      "name": "python",
      "nbconvert_exporter": "python",
      "pygments_lexer": "ipython3",
      "version": "3.11.5"
    },
    "colab": {
      "provenance": [],
      "include_colab_link": true
    }
  },
  "nbformat": 4,
  "nbformat_minor": 5
}