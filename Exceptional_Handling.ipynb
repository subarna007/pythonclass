{
  "cells": [
    {
      "cell_type": "markdown",
      "metadata": {
        "id": "view-in-github",
        "colab_type": "text"
      },
      "source": [
        "<a href=\"https://colab.research.google.com/github/subarna007/pythonclass/blob/main/Exceptional_Handling.ipynb\" target=\"_parent\"><img src=\"https://colab.research.google.com/assets/colab-badge.svg\" alt=\"Open In Colab\"/></a>"
      ]
    },
    {
      "cell_type": "code",
      "execution_count": null,
      "id": "5882617e",
      "metadata": {
        "id": "5882617e"
      },
      "outputs": [],
      "source": [
        "# try:\n",
        "#     <operation>\n",
        "# except:\n",
        "#     <operation>"
      ]
    },
    {
      "cell_type": "code",
      "execution_count": null,
      "id": "3a297e71",
      "metadata": {
        "id": "3a297e71",
        "outputId": "32ac1626-9ab4-4e02-f4c8-2bfa6da88c4c"
      },
      "outputs": [
        {
          "name": "stdout",
          "output_type": "stream",
          "text": [
            "Enter x = 3\n",
            "Enter y = g\n",
            "Error! Please enter integer value\n"
          ]
        }
      ],
      "source": [
        "try:\n",
        "    x = int(input(\"Enter x = \"))\n",
        "    y = int(input(\"Enter y = \"))\n",
        "    z = x+y\n",
        "    print(z)\n",
        "except:\n",
        "    print(\"Error! Please enter integer value\")"
      ]
    },
    {
      "cell_type": "code",
      "execution_count": null,
      "id": "8e09d42d",
      "metadata": {
        "id": "8e09d42d",
        "outputId": "3f4da87f-1bcf-45a4-d868-654cd94b3de7"
      },
      "outputs": [
        {
          "name": "stdout",
          "output_type": "stream",
          "text": [
            "Enter x = 10\n",
            "Enter y = Ten\n",
            "Error! Please enter integer value\n",
            "Enter x = 10\n",
            "Enter y = 20\n",
            "30\n"
          ]
        }
      ],
      "source": [
        "def cal():\n",
        "    try:\n",
        "        x = int(input(\"Enter x = \"))\n",
        "        y = int(input(\"Enter y = \"))\n",
        "        z = x+y\n",
        "        print(z)\n",
        "    except:\n",
        "        print(\"Error! Please enter integer value\")\n",
        "        cal()\n",
        "\n",
        "cal()"
      ]
    },
    {
      "cell_type": "code",
      "execution_count": null,
      "id": "168d90e3",
      "metadata": {
        "id": "168d90e3",
        "outputId": "a8ec2099-59c9-4f9c-94b8-7dee4b41d520"
      },
      "outputs": [
        {
          "name": "stdout",
          "output_type": "stream",
          "text": [
            "The file is already created\n"
          ]
        }
      ],
      "source": [
        "try:\n",
        "    file = open('data.txt','x')\n",
        "    file.close()\n",
        "except FileExistsError:\n",
        "    print(\"The file is already created\")"
      ]
    },
    {
      "cell_type": "code",
      "execution_count": null,
      "id": "842c0e4c",
      "metadata": {
        "id": "842c0e4c",
        "outputId": "a257a9e1-46e3-4035-8593-fc198bcc005b"
      },
      "outputs": [
        {
          "name": "stdout",
          "output_type": "stream",
          "text": [
            "1.Hello World\n",
            "2.Kathmandu\n",
            "3.Java\n",
            "4.Tribhuvan\n",
            "5.Sagarmatha\n"
          ]
        }
      ],
      "source": [
        "try:\n",
        "    file = open('data.txt','r')\n",
        "    y = file.read()\n",
        "except FileExistsError:\n",
        "    print(\"The file is already created\")\n",
        "else:\n",
        "    print(y)\n",
        "    file.close()"
      ]
    },
    {
      "cell_type": "code",
      "execution_count": null,
      "id": "da80ee3b",
      "metadata": {
        "id": "da80ee3b",
        "outputId": "2d876584-d566-4969-d86c-542296dc7dd2"
      },
      "outputs": [
        {
          "name": "stdout",
          "output_type": "stream",
          "text": [
            "Enter x = 10\n",
            "Enter y = 0\n",
            "The value of y cannot be zero\n"
          ]
        }
      ],
      "source": [
        "try:\n",
        "    x = int(input(\"Enter x = \"))\n",
        "    y = int(input(\"Enter y = \"))\n",
        "    z = x/y\n",
        "    print(z)\n",
        "except ValueError:\n",
        "    print(\"Error! Please enter integer value\")\n",
        "\n",
        "except ZeroDivisionError:\n",
        "    print(\"The value of y cannot be zero\")"
      ]
    },
    {
      "cell_type": "code",
      "execution_count": null,
      "id": "b32382bd",
      "metadata": {
        "id": "b32382bd",
        "outputId": "51e965b3-0187-48f1-fe50-efc082e6f35a"
      },
      "outputs": [
        {
          "name": "stdout",
          "output_type": "stream",
          "text": [
            "Enter a = 10\n",
            "Enter b = Two\n",
            "values should be in int. Please try again\n"
          ]
        }
      ],
      "source": [
        "try:\n",
        "    a = int(input(\"Enter a = \"))\n",
        "    b = int(input(\"Enter b = \"))\n",
        "    c = a/b\n",
        "\n",
        "except ValueError:\n",
        "    print(\"values should be in int. Please try again\")\n",
        "except ZeroDivisionError:\n",
        "    print(\"Error! value of b can not be zero. Please try again\")"
      ]
    },
    {
      "cell_type": "code",
      "execution_count": null,
      "id": "ea1f9604",
      "metadata": {
        "id": "ea1f9604"
      },
      "outputs": [],
      "source": [
        "# try:\n",
        "#     <operation>\n",
        "# except:\n",
        "#     <operation>\n",
        "# else:\n",
        "#     <operation>"
      ]
    },
    {
      "cell_type": "code",
      "execution_count": null,
      "id": "8f772971",
      "metadata": {
        "id": "8f772971",
        "outputId": "11702d58-a00d-4400-dd13-1bcd626a69ba"
      },
      "outputs": [
        {
          "name": "stdout",
          "output_type": "stream",
          "text": [
            "Enter x = 10\n",
            "Enter y = 4\n",
            "14\n",
            "14\n"
          ]
        }
      ],
      "source": [
        "try:\n",
        "    x = int(input(\"Enter x = \"))\n",
        "    y = int(input(\"Enter y = \"))\n",
        "    z = x+y\n",
        "    print(z)\n",
        "except:\n",
        "    print(\"Error! Please enter integer value\")\n",
        "\n",
        "else:\n",
        "    print(z)"
      ]
    },
    {
      "cell_type": "code",
      "execution_count": null,
      "id": "2a0579b7",
      "metadata": {
        "id": "2a0579b7",
        "outputId": "f7c1aef8-cf37-4637-b09a-8fbc76dd12f2"
      },
      "outputs": [
        {
          "name": "stdout",
          "output_type": "stream",
          "text": [
            "Enter x = 5\n",
            "Enter y = 0\n",
            "5\n",
            "5\n",
            "Thank You!\n"
          ]
        }
      ],
      "source": [
        "try:\n",
        "    x = int(input(\"Enter x = \"))\n",
        "    y = int(input(\"Enter y = \"))\n",
        "    z = x+y\n",
        "    print(z)\n",
        "except:\n",
        "    print(\"Error! Please enter integer value\")\n",
        "\n",
        "else:\n",
        "    print(z)\n",
        "\n",
        "finally:\n",
        "    print(\"Thank You!\")"
      ]
    },
    {
      "cell_type": "code",
      "execution_count": null,
      "id": "d8acc686",
      "metadata": {
        "id": "d8acc686",
        "outputId": "c0ef396a-7799-4ae8-8252-4dcd055376af"
      },
      "outputs": [
        {
          "name": "stdout",
          "output_type": "stream",
          "text": [
            "Enter age = 30\n"
          ]
        }
      ],
      "source": [
        "age = int(input(\"Enter age = \"))\n",
        "assert age>=20"
      ]
    },
    {
      "cell_type": "code",
      "execution_count": null,
      "id": "b69c3b3d",
      "metadata": {
        "id": "b69c3b3d",
        "outputId": "4166271e-c5a0-40f8-e917-9d8d585d3c8e"
      },
      "outputs": [
        {
          "name": "stdout",
          "output_type": "stream",
          "text": [
            "Enter age = 5\n",
            "You are under age.\n"
          ]
        }
      ],
      "source": [
        "try:\n",
        "    age = int(input(\"Enter age = \"))\n",
        "    assert age > 10\n",
        "except ValueError:\n",
        "    print(\"values should be in int. Please try again\")\n",
        "except AssertionError:\n",
        "    print(\"You are under age.\")\n",
        "else:\n",
        "    print(\"Thank you!\")"
      ]
    },
    {
      "cell_type": "code",
      "execution_count": null,
      "id": "521b226b",
      "metadata": {
        "id": "521b226b",
        "outputId": "3690a7a0-b216-407c-f8b9-4489287b3755"
      },
      "outputs": [
        {
          "ename": "ValueError",
          "evalue": "",
          "output_type": "error",
          "traceback": [
            "\u001b[1;31m---------------------------------------------------------------------------\u001b[0m",
            "\u001b[1;31mValueError\u001b[0m                                Traceback (most recent call last)",
            "Cell \u001b[1;32mIn[11], line 1\u001b[0m\n\u001b[1;32m----> 1\u001b[0m \u001b[38;5;28;01mraise\u001b[39;00m \u001b[38;5;167;01mValueError\u001b[39;00m\n",
            "\u001b[1;31mValueError\u001b[0m: "
          ]
        }
      ],
      "source": [
        "raise ValueError"
      ]
    },
    {
      "cell_type": "code",
      "execution_count": null,
      "id": "888896b8",
      "metadata": {
        "id": "888896b8",
        "outputId": "efc1e42a-1eea-4c69-f122-c832c49d61d2"
      },
      "outputs": [
        {
          "name": "stdout",
          "output_type": "stream",
          "text": [
            "Enter x = Ten\n",
            "Error! Please enter integer value\n"
          ]
        }
      ],
      "source": [
        "try:\n",
        "    x = int(input(\"Enter x = \"))\n",
        "    y = int(input(\"Enter y = \"))\n",
        "    if type(x) != int and type(y) != int:\n",
        "        raise ValueError\n",
        "    if y == 0:\n",
        "        raise ZeroDivisionError\n",
        "    z = x/y\n",
        "\n",
        "\n",
        "except ValueError:\n",
        "    print(\"Error! Please enter integer value\")\n",
        "\n",
        "except ZeroDivisionError:\n",
        "    print(\"The value of y cannot be zero\")"
      ]
    },
    {
      "cell_type": "code",
      "execution_count": null,
      "id": "8615d1fd",
      "metadata": {
        "id": "8615d1fd"
      },
      "outputs": [],
      "source": []
    }
  ],
  "metadata": {
    "kernelspec": {
      "display_name": "Python 3 (ipykernel)",
      "language": "python",
      "name": "python3"
    },
    "language_info": {
      "codemirror_mode": {
        "name": "ipython",
        "version": 3
      },
      "file_extension": ".py",
      "mimetype": "text/x-python",
      "name": "python",
      "nbconvert_exporter": "python",
      "pygments_lexer": "ipython3",
      "version": "3.11.5"
    },
    "colab": {
      "provenance": [],
      "include_colab_link": true
    }
  },
  "nbformat": 4,
  "nbformat_minor": 5
}