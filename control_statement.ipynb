{
  "cells": [
    {
      "cell_type": "markdown",
      "metadata": {
        "id": "view-in-github",
        "colab_type": "text"
      },
      "source": [
        "<a href=\"https://colab.research.google.com/github/subarna007/pythonclass/blob/main/control_statement.ipynb\" target=\"_parent\"><img src=\"https://colab.research.google.com/assets/colab-badge.svg\" alt=\"Open In Colab\"/></a>"
      ]
    },
    {
      "cell_type": "code",
      "execution_count": null,
      "id": "90cdecb4",
      "metadata": {
        "id": "90cdecb4"
      },
      "outputs": [],
      "source": [
        "# break statement"
      ]
    },
    {
      "cell_type": "code",
      "execution_count": null,
      "id": "3d68da09",
      "metadata": {
        "id": "3d68da09",
        "outputId": "6c378154-e365-47ac-8e16-55c39a13f635"
      },
      "outputs": [
        {
          "name": "stdout",
          "output_type": "stream",
          "text": [
            "0\n",
            "1\n",
            "2\n",
            "3\n",
            "4\n"
          ]
        }
      ],
      "source": [
        "for i in range (10):\n",
        "    if i == 5:\n",
        "        break\n",
        "    print(i)"
      ]
    },
    {
      "cell_type": "code",
      "execution_count": null,
      "id": "811eb8bc",
      "metadata": {
        "id": "811eb8bc",
        "outputId": "5b9eb2f7-ff79-4bc8-b397-0eea7eefb1d8"
      },
      "outputs": [
        {
          "name": "stdout",
          "output_type": "stream",
          "text": [
            "0 1 2 3 4 6 7 8 9 "
          ]
        }
      ],
      "source": [
        "for i in range(10):\n",
        "    if i == 5:\n",
        "        continue\n",
        "    print(i, end = \" \")"
      ]
    },
    {
      "cell_type": "code",
      "execution_count": null,
      "id": "cf1fd934",
      "metadata": {
        "id": "cf1fd934",
        "outputId": "b8b58efb-8039-464b-b2cd-5cdefffeed26"
      },
      "outputs": [
        {
          "name": "stdout",
          "output_type": "stream",
          "text": [
            "H\n",
            "e\n",
            "l\n",
            "l\n",
            "o\n"
          ]
        }
      ],
      "source": [
        "a = \"Hello World\"\n",
        "for i in a:\n",
        "    if i == \" \":\n",
        "        break\n",
        "    print(i)"
      ]
    },
    {
      "cell_type": "code",
      "execution_count": null,
      "id": "d6f423e3",
      "metadata": {
        "id": "d6f423e3",
        "outputId": "84f3eb84-7eea-4840-810a-c8d50674bb3f"
      },
      "outputs": [
        {
          "name": "stdout",
          "output_type": "stream",
          "text": [
            "H e l l o   W o r l d "
          ]
        }
      ],
      "source": [
        "a = \"Hello World. I am python\"\n",
        "for i in a:\n",
        "    if i == \".\" :\n",
        "        break\n",
        "    print(i, end =\" \")"
      ]
    },
    {
      "cell_type": "code",
      "execution_count": null,
      "id": "6c1034c7",
      "metadata": {
        "id": "6c1034c7",
        "outputId": "ae880861-703e-4de6-f2b3-baa22e18b79b"
      },
      "outputs": [
        {
          "name": "stdout",
          "output_type": "stream",
          "text": [
            "H e l l o   W o r l d   I   a m   p y t h o n "
          ]
        }
      ],
      "source": [
        "a = \"Hello World. I am python\"\n",
        "for i in a:\n",
        "    if i == \".\":\n",
        "        continue\n",
        "    print(i, end =\" \")"
      ]
    },
    {
      "cell_type": "code",
      "execution_count": null,
      "id": "e29e7b1f",
      "metadata": {
        "id": "e29e7b1f"
      },
      "outputs": [],
      "source": [
        "#pass statement"
      ]
    },
    {
      "cell_type": "code",
      "execution_count": null,
      "id": "217bd429",
      "metadata": {
        "id": "217bd429"
      },
      "outputs": [],
      "source": [
        "a = 5\n",
        "if a == 5:\n",
        "    pass"
      ]
    },
    {
      "cell_type": "code",
      "execution_count": null,
      "id": "64bc9a6b",
      "metadata": {
        "id": "64bc9a6b"
      },
      "outputs": [],
      "source": [
        "# for else loop"
      ]
    },
    {
      "cell_type": "code",
      "execution_count": null,
      "id": "b0265142",
      "metadata": {
        "id": "b0265142",
        "outputId": "6a64b808-2905-4a26-b4bf-b0503f9a7ceb"
      },
      "outputs": [
        {
          "name": "stdout",
          "output_type": "stream",
          "text": [
            "Enter n = 9\n",
            "The number is composite\n"
          ]
        }
      ],
      "source": [
        "n = int(input(\"Enter n = \"))\n",
        "for i in range(2,n):\n",
        "    if n%i==0:\n",
        "        print(\"The number is composite\")\n",
        "        break\n",
        "else:\n",
        "        print(\"The number is prime\")"
      ]
    },
    {
      "cell_type": "code",
      "execution_count": null,
      "id": "8a0c9111",
      "metadata": {
        "id": "8a0c9111",
        "outputId": "8b4c0104-0970-47af-f450-49a9d743fc44"
      },
      "outputs": [
        {
          "name": "stdout",
          "output_type": "stream",
          "text": [
            "Enter n = 2\n",
            "The value of n>2\n"
          ]
        }
      ],
      "source": [
        "n = int(input(\"Enter n = \"))\n",
        "if n > 2:\n",
        "    for i in range(2,n):\n",
        "        if n%i==0:\n",
        "            print(\"The number is composite\")\n",
        "            break\n",
        "\n",
        "    else:\n",
        "        print(\"The number is prime\")\n",
        "\n",
        "else:\n",
        "    print(\"The value of n>2\")"
      ]
    },
    {
      "cell_type": "code",
      "execution_count": null,
      "id": "0d55cafa",
      "metadata": {
        "id": "0d55cafa"
      },
      "outputs": [],
      "source": [
        "# while loop\n",
        "while True:\n",
        "    print(\"Hello World\")"
      ]
    },
    {
      "cell_type": "code",
      "execution_count": null,
      "id": "ee9fff40",
      "metadata": {
        "id": "ee9fff40",
        "outputId": "a6a1bdce-1921-4ccc-cc20-5cabe7d770ae"
      },
      "outputs": [
        {
          "name": "stdout",
          "output_type": "stream",
          "text": [
            "0 Hello World\n",
            "1 Hello World\n",
            "2 Hello World\n",
            "3 Hello World\n",
            "4 Hello World\n",
            "5 Hello World\n"
          ]
        }
      ],
      "source": [
        "a = 0\n",
        "while a<=5:\n",
        "    print(a,\"Hello World\") #while loop jati choti ni chalxa increment ma depend garxa\n",
        "    a = a +1\n",
        "#      a+=1"
      ]
    },
    {
      "cell_type": "code",
      "execution_count": null,
      "id": "986dd922",
      "metadata": {
        "id": "986dd922",
        "outputId": "33713a0f-817c-462a-f040-6138e9328cc3"
      },
      "outputs": [
        {
          "name": "stdout",
          "output_type": "stream",
          "text": [
            "5 Hello World\n",
            "4 Hello World\n",
            "3 Hello World\n",
            "2 Hello World\n",
            "1 Hello World\n",
            "0 Hello World\n"
          ]
        }
      ],
      "source": [
        "a = 5\n",
        "while a>=0:\n",
        "    print(a,\"Hello World\")\n",
        "    a = a-1\n",
        "    #a-=1"
      ]
    },
    {
      "cell_type": "code",
      "execution_count": null,
      "id": "16de4a19",
      "metadata": {
        "id": "16de4a19",
        "outputId": "7a1f2726-4c31-4405-8168-c1b944246072"
      },
      "outputs": [
        {
          "name": "stdout",
          "output_type": "stream",
          "text": [
            "Enter a = 5\n",
            "5 * 1 = 5\n",
            "5 * 2 = 10\n",
            "5 * 3 = 15\n",
            "5 * 4 = 20\n",
            "5 * 5 = 25\n",
            "5 * 6 = 30\n",
            "5 * 7 = 35\n",
            "5 * 8 = 40\n",
            "5 * 9 = 45\n",
            "5 * 10 = 50\n"
          ]
        }
      ],
      "source": [
        "i = 1 #while loop ma afhaile manually garna parxa\n",
        "a = int(input(\"Enter a = \"))\n",
        "while i<=10:\n",
        "    print(a, \"*\", i, \"=\", a*i)\n",
        "    i = i+1"
      ]
    },
    {
      "cell_type": "code",
      "execution_count": null,
      "id": "7d2b94ef",
      "metadata": {
        "id": "7d2b94ef",
        "outputId": "664a64f8-acf2-4f4d-e343-4d7df3543f7f"
      },
      "outputs": [
        {
          "name": "stdout",
          "output_type": "stream",
          "text": [
            "Enter a = 200\n",
            "Enter a = 300\n",
            "Enter a = 250\n",
            "Enter a = 350\n",
            "Enter a = 250\n",
            "1350\n"
          ]
        }
      ],
      "source": [
        "i = 0\n",
        "s = 0\n",
        "while i<5:\n",
        "    a = int(input(\"Enter a = \"))\n",
        "    s = s+a\n",
        "    i = i+1\n",
        "print(s)\n",
        ""
      ]
    },
    {
      "cell_type": "code",
      "execution_count": null,
      "id": "8bf5240b",
      "metadata": {
        "id": "8bf5240b",
        "outputId": "bba50388-1180-4a71-b087-bf3fdbfe688f"
      },
      "outputs": [
        {
          "name": "stdout",
          "output_type": "stream",
          "text": [
            "Enter n = 2\n",
            "Enter name = Ram Dahal\n",
            "Enter price = 300\n",
            "Enter quantity = 2\n",
            "Enter name = Shyam Baral\n",
            "Enter price = 3900\n",
            "Enter quantity = 1\n",
            "Ram Dahal 300 2.0 600.0\n",
            "Shyam Baral 3900 1.0 3900.0\n",
            "\n",
            "4500.0\n"
          ]
        }
      ],
      "source": [
        "i = 0\n",
        "bill = str()\n",
        "all_total = 0\n",
        "n = int(input(\"Enter n = \"))\n",
        "while i<n:\n",
        "    name = input(\"Enter name = \")\n",
        "    price = int(input(\"Enter price = \"))\n",
        "    qty = float(input(\"Enter quantity = \"))\n",
        "    total = price * qty\n",
        "    bill = bill + name + \" \" + str(price)+ \" \" + str(qty)+ \" \"+ str(total)+ \"\\n\"\n",
        "    all_total = all_total + total\n",
        "    i = i+1\n",
        "\n",
        "print(bill)\n",
        "print(all_total)"
      ]
    },
    {
      "cell_type": "code",
      "execution_count": null,
      "id": "d83fc3e2",
      "metadata": {
        "id": "d83fc3e2",
        "outputId": "4b42a9aa-312b-4f49-d991-a5a393db6fe6"
      },
      "outputs": [
        {
          "name": "stdout",
          "output_type": "stream",
          "text": [
            "1\n",
            "2\n",
            "3\n",
            "4\n",
            "5\n"
          ]
        }
      ],
      "source": [
        "i = 0\n",
        "while i < 10:\n",
        "    if i == 5:\n",
        "        break\n",
        "    i = i+1\n",
        "\n",
        "\n",
        "    print(i)\n",
        "\n"
      ]
    },
    {
      "cell_type": "code",
      "execution_count": null,
      "id": "6aeaf3f5",
      "metadata": {
        "id": "6aeaf3f5",
        "outputId": "89cd5922-36f9-47b9-d2a9-429177c88f8b"
      },
      "outputs": [
        {
          "name": "stdout",
          "output_type": "stream",
          "text": [
            "0\n",
            "1\n",
            "2\n",
            "3\n",
            "4\n",
            "6\n",
            "7\n",
            "8\n",
            "9\n"
          ]
        }
      ],
      "source": [
        "i = 0\n",
        "while i < 10:\n",
        "    if i == 5:\n",
        "        i = i+1\n",
        "        continue\n",
        "\n",
        "\n",
        "\n",
        "\n",
        "    print(i)\n",
        "    i = i+1"
      ]
    },
    {
      "cell_type": "code",
      "execution_count": null,
      "id": "b439c2b1",
      "metadata": {
        "id": "b439c2b1"
      },
      "outputs": [],
      "source": []
    }
  ],
  "metadata": {
    "kernelspec": {
      "display_name": "Python 3 (ipykernel)",
      "language": "python",
      "name": "python3"
    },
    "language_info": {
      "codemirror_mode": {
        "name": "ipython",
        "version": 3
      },
      "file_extension": ".py",
      "mimetype": "text/x-python",
      "name": "python",
      "nbconvert_exporter": "python",
      "pygments_lexer": "ipython3",
      "version": "3.11.5"
    },
    "colab": {
      "provenance": [],
      "include_colab_link": true
    }
  },
  "nbformat": 4,
  "nbformat_minor": 5
}