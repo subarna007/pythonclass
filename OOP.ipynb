{
  "cells": [
    {
      "cell_type": "markdown",
      "metadata": {
        "id": "view-in-github",
        "colab_type": "text"
      },
      "source": [
        "<a href=\"https://colab.research.google.com/github/subarna007/pythonclass/blob/main/OOP.ipynb\" target=\"_parent\"><img src=\"https://colab.research.google.com/assets/colab-badge.svg\" alt=\"Open In Colab\"/></a>"
      ]
    },
    {
      "cell_type": "code",
      "execution_count": null,
      "id": "82708f99",
      "metadata": {
        "id": "82708f99",
        "outputId": "17f6a8f5-7254-4105-a01e-f9b9e163632d"
      },
      "outputs": [
        {
          "name": "stdout",
          "output_type": "stream",
          "text": [
            "Hello World\n"
          ]
        }
      ],
      "source": [
        "class Hello:           #class\n",
        "    def hello(self):       #class bhitra defined vako is method\n",
        "        print(\"Hello World\")\n",
        "\n",
        "obj = Hello()       #object\n",
        "obj.hello()"
      ]
    },
    {
      "cell_type": "code",
      "execution_count": null,
      "id": "037f2ec9",
      "metadata": {
        "id": "037f2ec9",
        "outputId": "41136d25-bd65-420c-ef6e-4935effa6ad5"
      },
      "outputs": [
        {
          "name": "stdout",
          "output_type": "stream",
          "text": [
            "Hello World\n"
          ]
        }
      ],
      "source": [
        "class Hello:          #class\n",
        "    @staticmethod\n",
        "    def hello():       #class bhitra defined vako is method\n",
        "        print(\"Hello World\")\n",
        "\n",
        "obj = Hello()       #object\n",
        "obj.hello()"
      ]
    },
    {
      "cell_type": "code",
      "execution_count": null,
      "id": "b2e7ff1d",
      "metadata": {
        "id": "b2e7ff1d",
        "outputId": "c90983f2-786c-48b3-fe78-1ae63df5adfd"
      },
      "outputs": [
        {
          "name": "stdout",
          "output_type": "stream",
          "text": [
            "50\n"
          ]
        }
      ],
      "source": [
        "class Cal:           #class\n",
        "    @staticmethod\n",
        "    def area(l,b):       #class bhitra defined vako is method\n",
        "        print(l*b)\n",
        "\n",
        "obj = Cal()       #object\n",
        "obj.area(10,5)"
      ]
    },
    {
      "cell_type": "code",
      "execution_count": null,
      "id": "e4865126",
      "metadata": {
        "id": "e4865126",
        "outputId": "ba473b9d-5a03-488a-a84a-6f38995f1d6e"
      },
      "outputs": [
        {
          "name": "stdout",
          "output_type": "stream",
          "text": [
            "50\n",
            "100\n"
          ]
        }
      ],
      "source": [
        "class Cal:           #class\n",
        "    def __init__(self,l,b,h):\n",
        "        self.l = l\n",
        "        self.b = b\n",
        "        self.h = h\n",
        "\n",
        "\n",
        "    def area(self):       #class bhitra defined vako is method\n",
        "        print(self.l*self.b)\n",
        "\n",
        "    def volume(self):\n",
        "        print(self.l*self.b*self.h)\n",
        "\n",
        "\n",
        "obj = Cal(10,5,2)       #object\n",
        "obj.area()\n",
        "obj.volume()"
      ]
    },
    {
      "cell_type": "code",
      "execution_count": null,
      "id": "9007655c",
      "metadata": {
        "id": "9007655c",
        "outputId": "565612df-7f55-4342-a300-1d9ca65bbb25"
      },
      "outputs": [
        {
          "name": "stdout",
          "output_type": "stream",
          "text": [
            "50\n",
            "100\n"
          ]
        }
      ],
      "source": [
        "class Cal:           #class\n",
        "    def __init__(self,l,b):\n",
        "        self.l = l\n",
        "        self.b = b\n",
        "\n",
        "\n",
        "\n",
        "    def area(this):       #class bhitra defined vako is method\n",
        "        print(this.l*this.b)\n",
        "\n",
        "    def volume(self,h):\n",
        "        print(self.l*self.b*h)\n",
        "\n",
        "\n",
        "obj = Cal(10,5)       #object\n",
        "obj.area()\n",
        "obj.volume(2)"
      ]
    },
    {
      "cell_type": "code",
      "execution_count": null,
      "id": "b4c6af98",
      "metadata": {
        "id": "b4c6af98",
        "outputId": "aaa66369-6b67-4371-f64c-b8f4c7bf7448"
      },
      "outputs": [
        {
          "name": "stdout",
          "output_type": "stream",
          "text": [
            "Enter name = Subarna Dahal\n",
            "Enter age = 24\n",
            "Enter address = Kathmandu\n",
            "Hello I am Subarna Dahal. I am 24 years old and I am from Kathmandu\n"
          ]
        }
      ],
      "source": [
        "class Info:\n",
        "    def __init__(self,name,age,address):\n",
        "        self.name = name\n",
        "        self.age = age\n",
        "        self.address = address\n",
        "\n",
        "    def info(self):\n",
        "        print(f\"Hello I am {self.name}. I am {self.age} years old and I am from {self.address}\")\n",
        "\n",
        "name = input(\"Enter name = \")\n",
        "age = int(input(\"Enter age = \"))\n",
        "address = input(\"Enter address = \")\n",
        "\n",
        "obj = Info(name,age,address)\n",
        "obj.info()"
      ]
    },
    {
      "cell_type": "code",
      "execution_count": null,
      "id": "1df390cb",
      "metadata": {
        "id": "1df390cb",
        "outputId": "5c254978-eeb6-4eaf-e834-baf65a1b3478"
      },
      "outputs": [
        {
          "name": "stdout",
          "output_type": "stream",
          "text": [
            "Enter name = Rehan Dahal\n",
            "Enter age = 22\n",
            "Enter address = Bengadawar\n",
            "Hello I am Rehan Dahal. I am 22 years old and I am from Bengadawar\n"
          ]
        }
      ],
      "source": [
        "class Info:\n",
        "    def __init__(self,name,age,address):\n",
        "        self.name = name\n",
        "        self.age = age\n",
        "        self.address = input(\"Enter address = \")\n",
        "\n",
        "    def info(self):\n",
        "        print(f\"Hello I am {self.name}. I am {self.age} years old and I am from {self.address}\")\n",
        "\n",
        "name = input(\"Enter name = \")\n",
        "age = int(input(\"Enter age = \"))\n",
        "\n",
        "\n",
        "obj = Info(name,age,address)\n",
        "obj.info()"
      ]
    },
    {
      "cell_type": "code",
      "execution_count": null,
      "id": "794c6ae4",
      "metadata": {
        "id": "794c6ae4",
        "outputId": "17fe828e-d32f-4626-a97d-a7fd09bf8287"
      },
      "outputs": [
        {
          "name": "stdout",
          "output_type": "stream",
          "text": [
            "Enter name = Ram Raman\n",
            "Enter age = 19\n",
            "Enter address = Lalitpur\n",
            "Hello I am Ram Raman. I am 19 years old and I am from Lalitpur\n",
            "Lalitpur\n",
            "Ram Raman\n",
            "19\n"
          ]
        }
      ],
      "source": [
        "class Info:\n",
        "    def __init__(self,name,age,address):\n",
        "        self.name = name\n",
        "        self.age = age\n",
        "        self.address = input(\"Enter address = \")\n",
        "\n",
        "    def info(self):\n",
        "        print(f\"Hello I am {self.name}. I am {self.age} years old and I am from {self.address}\")\n",
        "\n",
        "name = input(\"Enter name = \")\n",
        "age = int(input(\"Enter age = \"))\n",
        "\n",
        "\n",
        "obj = Info(name,age,address)\n",
        "obj.info()\n",
        "print(obj.address)\n",
        "print(obj.name)\n",
        "print(obj.age)"
      ]
    },
    {
      "cell_type": "code",
      "execution_count": null,
      "id": "23d214c8",
      "metadata": {
        "id": "23d214c8",
        "outputId": "e9cbbe1d-6ddc-438f-c9ca-8c66a5f22824"
      },
      "outputs": [
        {
          "name": "stdout",
          "output_type": "stream",
          "text": [
            "Hello I am Ram. I am 30 years old and I am from Kathmandu\n",
            "Hello I am Shyam. I am 28 years old and I am from America\n"
          ]
        }
      ],
      "source": [
        "class Info:\n",
        "    def __init__(self,name,age,address):\n",
        "        self.name = name\n",
        "        self.age = age\n",
        "        self.address = address\n",
        "\n",
        "    def info(self):\n",
        "        print(f\"Hello I am {self.name}. I am {self.age} years old and I am from {self.address}\")\n",
        "\n",
        "\n",
        "\n",
        "obj = Info(\"Ram\",30,\"Kathmandu\")\n",
        "obj1 = Info(\"Shyam\",28,\"America\")\n",
        "\n",
        "obj.info()\n",
        "obj1.info()\n"
      ]
    },
    {
      "cell_type": "code",
      "execution_count": null,
      "id": "61cad548",
      "metadata": {
        "id": "61cad548",
        "outputId": "550a36db-3cb5-42e1-beed-30105d287ac4"
      },
      "outputs": [
        {
          "name": "stdout",
          "output_type": "stream",
          "text": [
            "Enter name = Ram\n",
            "Enter age = 25\n",
            "Enter address = Lalitpur\n",
            "Hello I am Ram. I am 25 years old and I am from Lalitpur\n",
            "Ram\n",
            "Ram\n",
            "RamShyam\n"
          ]
        }
      ],
      "source": [
        "class Info:\n",
        "    def __init__(self):\n",
        "        self.name = input(\"Enter name = \")\n",
        "        self.age = int(input(\"Enter age = \"))\n",
        "        self.address = input(\"Enter address = \")\n",
        "\n",
        "    def __str__(self):\n",
        "        return self.name\n",
        "\n",
        "\n",
        "    def info(self):\n",
        "        print(f\"Hello I am {self.name}. I am {self.age} years old and I am from {self.address}\")\n",
        "\n",
        "\n",
        "\n",
        "obj = Info()\n",
        "obj.info()\n",
        "print(obj)\n",
        "print(obj.__str__())\n",
        "print(str(obj) + \"Shyam\")\n"
      ]
    }
  ],
  "metadata": {
    "kernelspec": {
      "display_name": "Python 3 (ipykernel)",
      "language": "python",
      "name": "python3"
    },
    "language_info": {
      "codemirror_mode": {
        "name": "ipython",
        "version": 3
      },
      "file_extension": ".py",
      "mimetype": "text/x-python",
      "name": "python",
      "nbconvert_exporter": "python",
      "pygments_lexer": "ipython3",
      "version": "3.11.5"
    },
    "colab": {
      "provenance": [],
      "include_colab_link": true
    }
  },
  "nbformat": 4,
  "nbformat_minor": 5
}